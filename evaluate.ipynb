{
 "cells": [
  {
   "cell_type": "markdown",
   "id": "82c98bb3-646b-4af9-8643-7829049f8794",
   "metadata": {},
   "source": [
    "# Evaluate Exercises\n",
    "Do you work for this exercise in either a jupyter notebook named evaluate within your regression-exercises repository. By the end of this exercise you will also create a python script named evaluate, so the overall deliverables for this exercise are the python script and jupyter notebook both with the name evaluate within your regression-exercises repo.\n",
    "\n",
    "1. Load the tips dataset from either pydataset or seaborn.\n",
    "\n",
    "2. Fit a linear regression model (ordinary least squares) and compute yhat, predictions of tip using total_bill.\n",
    "\n",
    "Here is some sample code to get you started:\n",
    "\n",
    "``` python\n",
    "from sklearn.linear_model import LinearRegression\n",
    "\n",
    "# assuming X and y are already defined\n",
    "model = LinearRegression().fit(X, y)\n",
    "predictions = model.predict(X)\n",
    "``` \n",
    "Modify and add to the code above as necessary for it to work with the tips dataset.\n",
    "\n",
    "3. Plot the residuals for the linear regression model that you made.\n",
    "\n",
    "4. Calculate the sum of squared errors, explained sum of squares, total sum of squares, mean squared error, and root mean squared error for your model.\n",
    "\n",
    "5. Calculate the sum of squared errors, mean squared error, and root mean squared error for the baseline model (i.e. a model that always predicts the average tip amount).\n",
    "\n",
    "6. Write python code that compares the sum of squared errors for your model against the sum of squared errors for the baseline model and outputs whether or not your model performs better than the baseline model.\n",
    "\n",
    "7. What is the amount of variance explained in your model?\n",
    "\n",
    "8. Is your model better than the baseline model?\n",
    "\n",
    "9. Create a file named evaluate.py that contains the following functions.\n",
    "\n",
    "- plot_residuals(y, yhat): creates a residual plot\n",
    "- regression_errors(y, yhat): returns the following values:\n",
    "    - sum of squared errors (SSE)\n",
    "    - explained sum of squares (ESS)\n",
    "    - total sum of squares (TSS)\n",
    "    - mean squared error (MSE)\n",
    "    - root mean squared error (RMSE)\n",
    "- baseline_mean_errors(y): computes the SSE, MSE, and RMSE for the baseline model\n",
    "- better_than_baseline(y, yhat): returns true if your model performs better than the baseline, otherwise false\n",
    "10. Load the mpg dataset and fit a model that predicts highway mileage based on engine displacement. Take a look at all the regression evaluation metrics, and determine whether this model is better than the baseline model. Use the functions from your evaluate.py to help accomplish this.\n",
    "\n",
    "<hr style=\"border-top: 10px groove darkmagenta; margin-top: 1px; margin-bottom: 1px\"></hr>"
   ]
  },
  {
   "cell_type": "code",
   "execution_count": 61,
   "id": "0b4eafe5-e151-4526-b5e7-f839d78aa1c2",
   "metadata": {},
   "outputs": [],
   "source": [
    "import pandas as pd\n",
    "import numpy as np\n",
    "import math\n",
    "import matplotlib.pyplot as plt\n",
    "import seaborn as sns\n",
    "\n",
    "from pydataset import data\n",
    "\n",
    "from sklearn.linear_model import LinearRegression\n",
    "from sklearn.metrics import r2_score, mean_squared_error\n",
    "\n",
    "\n",
    "# set seaborn defaults\n",
    "sns.set_palette('plasma')"
   ]
  },
  {
   "cell_type": "code",
   "execution_count": 118,
   "id": "622042b8-9e63-45c9-82dc-76e765ed0426",
   "metadata": {},
   "outputs": [
    {
     "data": {
      "text/html": [
       "<svg  width=\"330\" height=\"55\"><rect x=\"0\" y=\"0\" width=\"55\" height=\"55\" style=\"fill:#5302a3;stroke-width:2;stroke:rgb(255,255,255)\"/><rect x=\"55\" y=\"0\" width=\"55\" height=\"55\" style=\"fill:#8b0aa5;stroke-width:2;stroke:rgb(255,255,255)\"/><rect x=\"110\" y=\"0\" width=\"55\" height=\"55\" style=\"fill:#b83289;stroke-width:2;stroke:rgb(255,255,255)\"/><rect x=\"165\" y=\"0\" width=\"55\" height=\"55\" style=\"fill:#db5c68;stroke-width:2;stroke:rgb(255,255,255)\"/><rect x=\"220\" y=\"0\" width=\"55\" height=\"55\" style=\"fill:#f48849;stroke-width:2;stroke:rgb(255,255,255)\"/><rect x=\"275\" y=\"0\" width=\"55\" height=\"55\" style=\"fill:#febd2a;stroke-width:2;stroke:rgb(255,255,255)\"/></svg>"
      ],
      "text/plain": [
       "[(0.32515, 0.006915, 0.639512),\n",
       " (0.546157, 0.038954, 0.64701),\n",
       " (0.723444, 0.196158, 0.538981),\n",
       " (0.85975, 0.360588, 0.406917),\n",
       " (0.95547, 0.533093, 0.28549),\n",
       " (0.994495, 0.74088, 0.166335)]"
      ]
     },
     "execution_count": 118,
     "metadata": {},
     "output_type": "execute_result"
    }
   ],
   "source": [
    "sns.color_palette()"
   ]
  },
  {
   "cell_type": "code",
   "execution_count": 7,
   "id": "ee8ed58e-ded8-4ba8-ae68-d43b8eff59b9",
   "metadata": {},
   "outputs": [
    {
     "name": "stdout",
     "output_type": "stream",
     "text": [
      "tips\n",
      "\n",
      "PyDataset Documentation (adopted from R Documentation. The displayed examples are in R)\n",
      "\n",
      "## Tipping data\n",
      "\n",
      "### Description\n",
      "\n",
      "One waiter recorded information about each tip he received over a period of a\n",
      "few months working in one restaurant. He collected several variables:\n",
      "\n",
      "### Usage\n",
      "\n",
      "    data(tips)\n",
      "\n",
      "### Format\n",
      "\n",
      "A data frame with 244 rows and 7 variables\n",
      "\n",
      "### Details\n",
      "\n",
      "  * tip in dollars, \n",
      "\n",
      "  * bill in dollars, \n",
      "\n",
      "  * sex of the bill payer, \n",
      "\n",
      "  * whether there were smokers in the party, \n",
      "\n",
      "  * day of the week, \n",
      "\n",
      "  * time of day, \n",
      "\n",
      "  * size of the party. \n",
      "\n",
      "In all he recorded 244 tips. The data was reported in a collection of case\n",
      "studies for business statistics (Bryant & Smith 1995).\n",
      "\n",
      "### References\n",
      "\n",
      "Bryant, P. G. and Smith, M (1995) _Practical Data Analysis: Case Studies in\n",
      "Business Statistics_. Homewood, IL: Richard D. Irwin Publishing:\n",
      "\n",
      "\n"
     ]
    }
   ],
   "source": [
    "# show documentation about tips dataset\n",
    "data('tips', show_doc = True)"
   ]
  },
  {
   "cell_type": "code",
   "execution_count": 244,
   "id": "f1089428-22e4-4b44-999b-48eef400bec1",
   "metadata": {},
   "outputs": [],
   "source": [
    "df = data('tips')"
   ]
  },
  {
   "cell_type": "code",
   "execution_count": 10,
   "id": "a89f2da7-5582-4e71-ae69-510558a47812",
   "metadata": {},
   "outputs": [
    {
     "data": {
      "text/html": [
       "<div>\n",
       "<style scoped>\n",
       "    .dataframe tbody tr th:only-of-type {\n",
       "        vertical-align: middle;\n",
       "    }\n",
       "\n",
       "    .dataframe tbody tr th {\n",
       "        vertical-align: top;\n",
       "    }\n",
       "\n",
       "    .dataframe thead th {\n",
       "        text-align: right;\n",
       "    }\n",
       "</style>\n",
       "<table border=\"1\" class=\"dataframe\">\n",
       "  <thead>\n",
       "    <tr style=\"text-align: right;\">\n",
       "      <th></th>\n",
       "      <th>total_bill</th>\n",
       "      <th>tip</th>\n",
       "      <th>sex</th>\n",
       "      <th>smoker</th>\n",
       "      <th>day</th>\n",
       "      <th>time</th>\n",
       "      <th>size</th>\n",
       "    </tr>\n",
       "  </thead>\n",
       "  <tbody>\n",
       "    <tr>\n",
       "      <th>1</th>\n",
       "      <td>16.99</td>\n",
       "      <td>1.01</td>\n",
       "      <td>Female</td>\n",
       "      <td>No</td>\n",
       "      <td>Sun</td>\n",
       "      <td>Dinner</td>\n",
       "      <td>2</td>\n",
       "    </tr>\n",
       "    <tr>\n",
       "      <th>2</th>\n",
       "      <td>10.34</td>\n",
       "      <td>1.66</td>\n",
       "      <td>Male</td>\n",
       "      <td>No</td>\n",
       "      <td>Sun</td>\n",
       "      <td>Dinner</td>\n",
       "      <td>3</td>\n",
       "    </tr>\n",
       "    <tr>\n",
       "      <th>3</th>\n",
       "      <td>21.01</td>\n",
       "      <td>3.50</td>\n",
       "      <td>Male</td>\n",
       "      <td>No</td>\n",
       "      <td>Sun</td>\n",
       "      <td>Dinner</td>\n",
       "      <td>3</td>\n",
       "    </tr>\n",
       "    <tr>\n",
       "      <th>4</th>\n",
       "      <td>23.68</td>\n",
       "      <td>3.31</td>\n",
       "      <td>Male</td>\n",
       "      <td>No</td>\n",
       "      <td>Sun</td>\n",
       "      <td>Dinner</td>\n",
       "      <td>2</td>\n",
       "    </tr>\n",
       "    <tr>\n",
       "      <th>5</th>\n",
       "      <td>24.59</td>\n",
       "      <td>3.61</td>\n",
       "      <td>Female</td>\n",
       "      <td>No</td>\n",
       "      <td>Sun</td>\n",
       "      <td>Dinner</td>\n",
       "      <td>4</td>\n",
       "    </tr>\n",
       "  </tbody>\n",
       "</table>\n",
       "</div>"
      ],
      "text/plain": [
       "   total_bill   tip     sex smoker  day    time  size\n",
       "1       16.99  1.01  Female     No  Sun  Dinner     2\n",
       "2       10.34  1.66    Male     No  Sun  Dinner     3\n",
       "3       21.01  3.50    Male     No  Sun  Dinner     3\n",
       "4       23.68  3.31    Male     No  Sun  Dinner     2\n",
       "5       24.59  3.61  Female     No  Sun  Dinner     4"
      ]
     },
     "execution_count": 10,
     "metadata": {},
     "output_type": "execute_result"
    }
   ],
   "source": [
    "df.head()"
   ]
  },
  {
   "cell_type": "code",
   "execution_count": 12,
   "id": "9c3e3e64-acbb-4961-954b-c1f87890112d",
   "metadata": {},
   "outputs": [
    {
     "name": "stdout",
     "output_type": "stream",
     "text": [
      "<class 'pandas.core.frame.DataFrame'>\n",
      "Int64Index: 244 entries, 1 to 244\n",
      "Data columns (total 7 columns):\n",
      " #   Column      Non-Null Count  Dtype  \n",
      "---  ------      --------------  -----  \n",
      " 0   total_bill  244 non-null    float64\n",
      " 1   tip         244 non-null    float64\n",
      " 2   sex         244 non-null    object \n",
      " 3   smoker      244 non-null    object \n",
      " 4   day         244 non-null    object \n",
      " 5   time        244 non-null    object \n",
      " 6   size        244 non-null    int64  \n",
      "dtypes: float64(2), int64(1), object(4)\n",
      "memory usage: 15.2+ KB\n"
     ]
    }
   ],
   "source": [
    "df.info()"
   ]
  },
  {
   "cell_type": "code",
   "execution_count": 13,
   "id": "3f692401-1eb4-42db-80ab-1392d133cffa",
   "metadata": {},
   "outputs": [
    {
     "data": {
      "text/plain": [
       "(244, 7)"
      ]
     },
     "execution_count": 13,
     "metadata": {},
     "output_type": "execute_result"
    }
   ],
   "source": [
    "df.shape"
   ]
  },
  {
   "cell_type": "code",
   "execution_count": 245,
   "id": "8d9143d7-3533-481e-be7d-cd5a0e53455b",
   "metadata": {},
   "outputs": [],
   "source": [
    "# set up target, continuous vars, and catigorical variables\n",
    "target = 'tip'\n",
    "cont_vars = ['total_bill']\n",
    "cat_vars = list(df.drop(columns = cont_vars).drop(columns=target).columns)"
   ]
  },
  {
   "cell_type": "markdown",
   "id": "4e682046-05c5-48a4-a9af-f39ed48e7fff",
   "metadata": {},
   "source": [
    "### 2. Fit a linear regression model (ordinary least squares) and compute yhat, predictions of tip using total_bill.\n"
   ]
  },
  {
   "cell_type": "code",
   "execution_count": 246,
   "id": "b29cbb1d-b3bf-4e79-8c8d-2073519fab20",
   "metadata": {},
   "outputs": [],
   "source": [
    "# define X and y\n",
    "X = df[cont_vars]\n",
    "y = df[target]\n",
    "\n",
    "# make model and predctions\n",
    "model = LinearRegression().fit(X, y)\n",
    "predictions = model.predict(X)\n"
   ]
  },
  {
   "cell_type": "code",
   "execution_count": 247,
   "id": "0fde863d-12af-422c-bad6-6be12b450ca3",
   "metadata": {},
   "outputs": [
    {
     "data": {
      "text/html": [
       "<div>\n",
       "<style scoped>\n",
       "    .dataframe tbody tr th:only-of-type {\n",
       "        vertical-align: middle;\n",
       "    }\n",
       "\n",
       "    .dataframe tbody tr th {\n",
       "        vertical-align: top;\n",
       "    }\n",
       "\n",
       "    .dataframe thead th {\n",
       "        text-align: right;\n",
       "    }\n",
       "</style>\n",
       "<table border=\"1\" class=\"dataframe\">\n",
       "  <thead>\n",
       "    <tr style=\"text-align: right;\">\n",
       "      <th></th>\n",
       "      <th>total_bill</th>\n",
       "      <th>tip</th>\n",
       "      <th>sex</th>\n",
       "      <th>smoker</th>\n",
       "      <th>day</th>\n",
       "      <th>time</th>\n",
       "      <th>size</th>\n",
       "      <th>yhat</th>\n",
       "    </tr>\n",
       "  </thead>\n",
       "  <tbody>\n",
       "    <tr>\n",
       "      <th>1</th>\n",
       "      <td>16.99</td>\n",
       "      <td>1.01</td>\n",
       "      <td>Female</td>\n",
       "      <td>No</td>\n",
       "      <td>Sun</td>\n",
       "      <td>Dinner</td>\n",
       "      <td>2</td>\n",
       "      <td>2.704636</td>\n",
       "    </tr>\n",
       "    <tr>\n",
       "      <th>2</th>\n",
       "      <td>10.34</td>\n",
       "      <td>1.66</td>\n",
       "      <td>Male</td>\n",
       "      <td>No</td>\n",
       "      <td>Sun</td>\n",
       "      <td>Dinner</td>\n",
       "      <td>3</td>\n",
       "      <td>2.006223</td>\n",
       "    </tr>\n",
       "  </tbody>\n",
       "</table>\n",
       "</div>"
      ],
      "text/plain": [
       "   total_bill   tip     sex smoker  day    time  size      yhat\n",
       "1       16.99  1.01  Female     No  Sun  Dinner     2  2.704636\n",
       "2       10.34  1.66    Male     No  Sun  Dinner     3  2.006223"
      ]
     },
     "execution_count": 247,
     "metadata": {},
     "output_type": "execute_result"
    }
   ],
   "source": [
    "# add predictions to dataframe\n",
    "df['yhat'] = predictions\n",
    "df.head(2)"
   ]
  },
  {
   "cell_type": "markdown",
   "id": "39008a08-41cb-43e9-972f-c438d2895269",
   "metadata": {},
   "source": [
    "### 3. Plot the residuals for the linear regression model that you made.\n"
   ]
  },
  {
   "cell_type": "code",
   "execution_count": 255,
   "id": "460d1b36-be9c-4927-b019-5308941b05bf",
   "metadata": {},
   "outputs": [],
   "source": [
    "# find risiduals (actuals minus predictions)\n",
    "df['residuals'] = df.tip - df.yhat"
   ]
  },
  {
   "cell_type": "code",
   "execution_count": 40,
   "id": "a3ee962e-ea0f-420c-bdfa-cd4fe576268f",
   "metadata": {},
   "outputs": [
    {
     "data": {
      "image/png": "[encoded data removed]",
      "text/plain": [
       "<Figure size 432x288 with 1 Axes>"
      ]
     },
     "metadata": {
      "needs_background": "light"
     },
     "output_type": "display_data"
    }
   ],
   "source": [
    "# plot distribution of residuals\n",
    "sns.histplot(x = 'residuals', data = df, kde=True)\n",
    "plt.title('Residual Distribution for Model 1')\n",
    "plt.show()"
   ]
  },
  {
   "cell_type": "markdown",
   "id": "cbba154d-1e7e-4fcc-907c-bc59f4665517",
   "metadata": {},
   "source": [
    "### 4. Calculate the sum of squared errors, explained sum of squares, total sum of squares, mean squared error, and root mean squared error for your model.\n",
    "\n",
    "Has to do with the model\n",
    "- Sum of SE\n",
    "- Mean SE\n",
    "- Root Mean SE\n",
    "\n",
    "Has to do with the Average (or baseline)\n",
    "- Explained SS\n",
    "- Total SS\n",
    "\n",
    "R2\n"
   ]
  },
  {
   "cell_type": "code",
   "execution_count": 58,
   "id": "11acb73e-cdd9-4b0e-a6b8-bba5ed8b20be",
   "metadata": {},
   "outputs": [
    {
     "name": "stdout",
     "output_type": "stream",
     "text": [
      "SSE is 252.79\n"
     ]
    }
   ],
   "source": [
    "# Sum of SE is actuals - predictions, ^2 and added together\n",
    "sse = ((df.tip - df.yhat) ** 2).sum()\n",
    "print(f'SSE is {sse:.5}')"
   ]
  },
  {
   "cell_type": "code",
   "execution_count": 60,
   "id": "6cd34b13-de9a-4502-a012-62c8353dec43",
   "metadata": {},
   "outputs": [
    {
     "name": "stdout",
     "output_type": "stream",
     "text": [
      "MSE is 1.04\n"
     ]
    }
   ],
   "source": [
    "# Mean SE is actuals - predictions, ^2 added together (same as SSE) BUT over the number of things\n",
    "mse = sse / df.shape[0]\n",
    "print(f'MSE is {mse:.3}')"
   ]
  },
  {
   "cell_type": "code",
   "execution_count": 74,
   "id": "42692409-cb7a-4a27-a6e8-f04fb9934f60",
   "metadata": {},
   "outputs": [
    {
     "name": "stdout",
     "output_type": "stream",
     "text": [
      "RMSE is 1.018\n"
     ]
    }
   ],
   "source": [
    "# root mean SE is actuals - predictions, ^2 added together, over the number of things (same as MSE), BUT square root of all that\n",
    "rmse = math.sqrt(mse)\n",
    "print(f'RMSE is {rmse:.4}')"
   ]
  },
  {
   "cell_type": "code",
   "execution_count": 71,
   "id": "18414b46-0edb-4cf4-8dfb-19bde8993f4e",
   "metadata": {},
   "outputs": [
    {
     "name": "stdout",
     "output_type": "stream",
     "text": [
      "ESS is 212.42\n"
     ]
    }
   ],
   "source": [
    "# Explained SS is predictions - baseline (or average) ^ 2, added together\n",
    "ess = ((df.yhat - df.tip.mean()) ** 2).sum()\n",
    "print(f'ESS is {ess:.5}')"
   ]
  },
  {
   "cell_type": "code",
   "execution_count": 70,
   "id": "7ae24180-cda7-46ba-bccc-6f9bf5b5a9f4",
   "metadata": {},
   "outputs": [
    {
     "name": "stdout",
     "output_type": "stream",
     "text": [
      "TSS is 465.21\n"
     ]
    }
   ],
   "source": [
    "# Total SS is actuals - baseline (or average) ^ 2, added together\n",
    "tss = ((df.tip - df.tip.mean()) ** 2).sum()\n",
    "print(f'TSS is {tss:.5}')"
   ]
  },
  {
   "cell_type": "code",
   "execution_count": 259,
   "id": "1adcbb0e-4c4d-4ecc-9740-9a689c0cbe4c",
   "metadata": {},
   "outputs": [],
   "source": [
    "def sse(actuals, predictions):\n",
    "    sse = ((df[actuals] - df[predictions]) ** 2).sum()\n",
    "    return sse"
   ]
  },
  {
   "cell_type": "code",
   "execution_count": 261,
   "id": "8d7584be-b4af-4da0-827e-dda0903128ac",
   "metadata": {},
   "outputs": [],
   "source": [
    "def mse(actuals, predictions):\n",
    "    \n",
    "    mse = sse(actuals,predictions) / df.shape[0]\n",
    "    \n",
    "    return mse"
   ]
  },
  {
   "cell_type": "code",
   "execution_count": 262,
   "id": "c4971700-bbfd-481b-b032-a7e549910e45",
   "metadata": {},
   "outputs": [],
   "source": [
    "def rmse(actuals, predictions):\n",
    "    \n",
    "    rmse = mse(actuals, predictions) ** .5\n",
    "    \n",
    "    return rmse"
   ]
  },
  {
   "cell_type": "code",
   "execution_count": 263,
   "id": "ee954559-6dc0-4f0f-9163-24f43da9cc40",
   "metadata": {},
   "outputs": [],
   "source": [
    "def ess(actuals, predictions):\n",
    "    \n",
    "    ess = ((df[predictions] - df[actuals].mean()) ** 2).sum()"
   ]
  },
  {
   "cell_type": "code",
   "execution_count": 264,
   "id": "bc5d899b-1ac1-469f-a1fd-1aeb7dd7e725",
   "metadata": {},
   "outputs": [],
   "source": [
    "def tss(actuals, predictions):\n",
    "    \n",
    "    tss = ((df[actuals] - df[actuals].mean()) ** 2).sum()\n",
    "    \n",
    "    return tss"
   ]
  },
  {
   "cell_type": "code",
   "execution_count": 271,
   "id": "b65104d9-becc-4bd6-ba9c-4437d5c7d3b6",
   "metadata": {},
   "outputs": [],
   "source": [
    "# doesn't work\n",
    "def r_sq(actuals, predictions):\n",
    "    \n",
    "    ess = ess(actuals, predictions)\n",
    "    tss = tss(actuals, predictions)\n",
    "    \n",
    "    r_sq = ess/tss\n",
    "    \n",
    "    return r_sq"
   ]
  },
  {
   "cell_type": "code",
   "execution_count": null,
   "id": "7679ce9f-dd80-499d-851f-68e7b888d077",
   "metadata": {},
   "outputs": [],
   "source": []
  },
  {
   "cell_type": "code",
   "execution_count": 80,
   "id": "285c3aa1-9098-4bc1-973a-8764419fa0b5",
   "metadata": {},
   "outputs": [],
   "source": [
    "# create function to do this in one shot \n",
    "\n",
    "def hip_to_be_square(df, actuals, predictions, print_out = False):\n",
    "    '''\n",
    "    This function takes in a dataframe, the name of the actuals columns, the name of the predictions column.\n",
    "    It prints out the Sum of SE, Mean SE, Root Mean SE, Explained SS, and Total SS. \n",
    "    Returns them in 5 variables. In order listed above\n",
    "    ex: sse, mse, rmse, ess, tss = hip_to_be_square(df, 'actuals', 'yhat', print_out = True)\n",
    "    '''\n",
    "    # calculate Sum of Squared Error\n",
    "    sse = ((df[actuals] - df[predictions]) ** 2).sum()\n",
    "    \n",
    "    # calculate Mean of Squared Error\n",
    "    mse = sse / df.shape[0]\n",
    "    \n",
    "    # calculate Root Mean of Squared Error\n",
    "    rmse = mse ** .5\n",
    "    \n",
    "    # calculate Explained Sum of Squares \n",
    "    ess = ((df[predictions] - df[actuals].mean()) ** 2).sum()\n",
    "    \n",
    "    # calculate Total Sum of Squares\n",
    "    tss = ((df[actuals] - df[actuals].mean()) ** 2).sum()\n",
    "    \n",
    "    if print_out == True:\n",
    "        \n",
    "        print(f'''\n",
    "            The Sum of Squared Error: {sse:.2f}\n",
    "            The Mean Squared Error: {mse:.2f}\n",
    "            The Root Mean Squared error: {rmse:.2f}\n",
    "            -----------------------------------\n",
    "            The Mean Explained Sum of Squares: {ess:.2f}\n",
    "            The Total Sum of Squares: {tss:.2f}\n",
    "            ''')\n",
    "    return sse, mse, rmse, ess, tss"
   ]
  },
  {
   "cell_type": "code",
   "execution_count": 83,
   "id": "b5ace5e6-48be-43ed-ba67-3ce925d13954",
   "metadata": {},
   "outputs": [
    {
     "name": "stdout",
     "output_type": "stream",
     "text": [
      "\n",
      "            The Sum of Squared Error: 252.79\n",
      "            The Mean Squared Error: 1.04\n",
      "            The Root Mean Squared error: 1.02\n",
      "            -----------------------------------\n",
      "            The Mean Explained Sum of Squares: 212.42\n",
      "            The Total Sum of Squares: 465.21\n",
      "            \n"
     ]
    }
   ],
   "source": [
    "sse_m, mse, rmse, ess, tss = hip_to_be_square(df, 'tip', 'yhat', print_out = True)"
   ]
  },
  {
   "cell_type": "markdown",
   "id": "af5648fa-5595-4f22-ad4f-332ef42a8c54",
   "metadata": {},
   "source": [
    "### 5. Calculate the sum of squared errors, mean squared error, and root mean squared error for the baseline model (i.e. a model that always predicts the average tip amount)."
   ]
  },
  {
   "cell_type": "code",
   "execution_count": 41,
   "id": "9e94f2d6-2230-47e2-a009-c27200a85fc8",
   "metadata": {},
   "outputs": [
    {
     "data": {
      "text/plain": [
       "2.9982786885245902"
      ]
     },
     "execution_count": 41,
     "metadata": {},
     "output_type": "execute_result"
    }
   ],
   "source": [
    "#create baseline using average tip \n",
    "# hmm that's pretty low I'm going to take a look at min and maxes\n",
    "df.tip.mean() "
   ]
  },
  {
   "cell_type": "code",
   "execution_count": 43,
   "id": "bc63da84-cf98-465e-8427-a977a7a68aa0",
   "metadata": {},
   "outputs": [
    {
     "data": {
      "text/html": [
       "<div>\n",
       "<style scoped>\n",
       "    .dataframe tbody tr th:only-of-type {\n",
       "        vertical-align: middle;\n",
       "    }\n",
       "\n",
       "    .dataframe tbody tr th {\n",
       "        vertical-align: top;\n",
       "    }\n",
       "\n",
       "    .dataframe thead th {\n",
       "        text-align: right;\n",
       "    }\n",
       "</style>\n",
       "<table border=\"1\" class=\"dataframe\">\n",
       "  <thead>\n",
       "    <tr style=\"text-align: right;\">\n",
       "      <th></th>\n",
       "      <th>count</th>\n",
       "      <th>mean</th>\n",
       "      <th>std</th>\n",
       "      <th>min</th>\n",
       "      <th>25%</th>\n",
       "      <th>50%</th>\n",
       "      <th>75%</th>\n",
       "      <th>max</th>\n",
       "    </tr>\n",
       "  </thead>\n",
       "  <tbody>\n",
       "    <tr>\n",
       "      <th>total_bill</th>\n",
       "      <td>244.0</td>\n",
       "      <td>1.978594e+01</td>\n",
       "      <td>8.902412</td>\n",
       "      <td>3.070000</td>\n",
       "      <td>13.347500</td>\n",
       "      <td>17.795000</td>\n",
       "      <td>24.127500</td>\n",
       "      <td>50.810000</td>\n",
       "    </tr>\n",
       "    <tr>\n",
       "      <th>tip</th>\n",
       "      <td>244.0</td>\n",
       "      <td>2.998279e+00</td>\n",
       "      <td>1.383638</td>\n",
       "      <td>1.000000</td>\n",
       "      <td>2.000000</td>\n",
       "      <td>2.900000</td>\n",
       "      <td>3.562500</td>\n",
       "      <td>10.000000</td>\n",
       "    </tr>\n",
       "    <tr>\n",
       "      <th>size</th>\n",
       "      <td>244.0</td>\n",
       "      <td>2.569672e+00</td>\n",
       "      <td>0.951100</td>\n",
       "      <td>1.000000</td>\n",
       "      <td>2.000000</td>\n",
       "      <td>2.000000</td>\n",
       "      <td>3.000000</td>\n",
       "      <td>6.000000</td>\n",
       "    </tr>\n",
       "    <tr>\n",
       "      <th>yhat</th>\n",
       "      <td>244.0</td>\n",
       "      <td>2.998279e+00</td>\n",
       "      <td>0.934972</td>\n",
       "      <td>1.242695</td>\n",
       "      <td>2.322084</td>\n",
       "      <td>2.789181</td>\n",
       "      <td>3.454249</td>\n",
       "      <td>6.256565</td>\n",
       "    </tr>\n",
       "    <tr>\n",
       "      <th>residuals</th>\n",
       "      <td>244.0</td>\n",
       "      <td>3.330669e-16</td>\n",
       "      <td>1.019943</td>\n",
       "      <td>-3.198225</td>\n",
       "      <td>-0.565162</td>\n",
       "      <td>-0.097445</td>\n",
       "      <td>0.486311</td>\n",
       "      <td>3.743435</td>\n",
       "    </tr>\n",
       "  </tbody>\n",
       "</table>\n",
       "</div>"
      ],
      "text/plain": [
       "            count          mean       std       min        25%        50%  \\\n",
       "total_bill  244.0  1.978594e+01  8.902412  3.070000  13.347500  17.795000   \n",
       "tip         244.0  2.998279e+00  1.383638  1.000000   2.000000   2.900000   \n",
       "size        244.0  2.569672e+00  0.951100  1.000000   2.000000   2.000000   \n",
       "yhat        244.0  2.998279e+00  0.934972  1.242695   2.322084   2.789181   \n",
       "residuals   244.0  3.330669e-16  1.019943 -3.198225  -0.565162  -0.097445   \n",
       "\n",
       "                  75%        max  \n",
       "total_bill  24.127500  50.810000  \n",
       "tip          3.562500  10.000000  \n",
       "size         3.000000   6.000000  \n",
       "yhat         3.454249   6.256565  \n",
       "residuals    0.486311   3.743435  "
      ]
     },
     "execution_count": 43,
     "metadata": {},
     "output_type": "execute_result"
    }
   ],
   "source": [
    "# ah ok min bill is $3 and the max is about $50\n",
    "df.describe().T"
   ]
  },
  {
   "cell_type": "code",
   "execution_count": 251,
   "id": "a7c4572d-bc05-4697-8f28-3c58d1cd8425",
   "metadata": {},
   "outputs": [],
   "source": [
    "#onward with creating the baseline\n",
    "df['baseline'] = df.tip.mean() "
   ]
  },
  {
   "cell_type": "code",
   "execution_count": 84,
   "id": "43e6644c-1eac-4225-a2b7-6ecc03c37316",
   "metadata": {},
   "outputs": [
    {
     "name": "stdout",
     "output_type": "stream",
     "text": [
      "\n",
      "            The Sum of Squared Error: 465.21\n",
      "            The Mean Squared Error: 1.91\n",
      "            The Root Mean Squared error: 1.38\n",
      "            -----------------------------------\n",
      "            The Mean Explained Sum of Squares: 0.00\n",
      "            The Total Sum of Squares: 465.21\n",
      "            \n"
     ]
    }
   ],
   "source": [
    "sse_b, mse, rmse, ess, tss = hip_to_be_square(df, 'tip', 'baseline', print_out = True)"
   ]
  },
  {
   "cell_type": "code",
   "execution_count": 252,
   "id": "e9070fe6-1313-4f23-8f10-12b8783a1fcc",
   "metadata": {},
   "outputs": [],
   "source": [
    "df['baseline_residuals'] = df.tip - df.baseline"
   ]
  },
  {
   "cell_type": "markdown",
   "id": "9cf5649a-d115-4f1a-94a1-5a391d0c5f7b",
   "metadata": {},
   "source": [
    "### 6. Write python code that compares the sum of squared errors for your model against the sum of squared errors for the baseline model and outputs whether or not your model performs better than the baseline model."
   ]
  },
  {
   "cell_type": "code",
   "execution_count": 91,
   "id": "8c51ce77-dee8-4b28-999d-01a0d8e372ca",
   "metadata": {},
   "outputs": [],
   "source": [
    "def sse_compare(sse1, sse2, model1, model2 = 'baseline'):\n",
    "    '''\n",
    "    sse1 must be for model 1\n",
    "    sse2, must be for model 2 (which is by default the baseline)\n",
    "    model1 = string name of the model you're comparing\n",
    "    This function compares two SSEs. and outputs which one performed better\n",
    "    '''\n",
    "    \n",
    "    if sse1 > sse2:\n",
    "        print(f'{model1} is not better than {model2}.')\n",
    "    elif sse1 < sse2:\n",
    "        print(f'{model1} is better than {model2}. Difference: {sse2 - sse1:.2f}')\n",
    "    else:\n",
    "        print(f'{model1} performs the same as {model2}')"
   ]
  },
  {
   "cell_type": "code",
   "execution_count": 92,
   "id": "d81f31d4-8a8d-4f28-b12b-9da828bf53b4",
   "metadata": {},
   "outputs": [
    {
     "name": "stdout",
     "output_type": "stream",
     "text": [
      "model1 is better than baseline. Difference: 212.42\n"
     ]
    }
   ],
   "source": [
    "sse_compare(sse_m, sse_b, 'model1')"
   ]
  },
  {
   "cell_type": "markdown",
   "id": "f9c3a5b7-fa46-48ce-ae4d-d366ebab9aee",
   "metadata": {},
   "source": [
    "### 7. What is the amount of variance explained in your model?\n",
    "- SSE is the amount of Dollars we predict that we're off by\n",
    "- with our model, we reduced the amount we were wrong, by $212 in comparison to the Baseline \n",
    "- Baseline SSE was ~465 and our model's SSE was ~252"
   ]
  },
  {
   "cell_type": "code",
   "execution_count": 87,
   "id": "cce4b6fb-13cb-403d-9a78-79dfbeef825e",
   "metadata": {},
   "outputs": [
    {
     "data": {
      "text/plain": [
       "212.4237331984044"
      ]
     },
     "execution_count": 87,
     "metadata": {},
     "output_type": "execute_result"
    }
   ],
   "source": [
    "sse_b - sse_m"
   ]
  },
  {
   "cell_type": "markdown",
   "id": "da0d937e-92f7-4389-8560-370f9379f33b",
   "metadata": {},
   "source": [
    "### 8. Is your model better than the baseline model?\n",
    "\n",
    "- yes! \n",
    "\n",
    "### 9. Create a file named evaluate.py that contains the following functions.\n",
    "\n",
    "- plot_residuals(y, yhat): creates a residual plot\n",
    "- regression_errors(y, yhat): returns the following values:\n",
    "    - sum of squared errors (SSE)\n",
    "    - explained sum of squares (ESS)\n",
    "    - total sum of squares (TSS)\n",
    "    - mean squared error (MSE)\n",
    "    - root mean squared error (RMSE)\n",
    "- baseline_mean_errors(y): computes the SSE, MSE, and RMSE for the baseline model\n",
    "- better_than_baseline(y, yhat): returns true if your model performs better than the baseline, otherwise false"
   ]
  },
  {
   "cell_type": "code",
   "execution_count": 235,
   "id": "4c894125-5166-450c-8994-05c48e13e313",
   "metadata": {},
   "outputs": [],
   "source": [
    "# plot residuals\n",
    "\n",
    "def plot_residuals(df, x_list, palette = \"tab10\"):\n",
    "    '''\n",
    "    This function takes in a dataframe and a list of all the risiduals you would like to plot (that means the names of the columns)\n",
    "    '''\n",
    "    color_list= list(sns.color_palette(palette))\n",
    "    fig, ax = plt.subplots(figsize=(10, 5))\n",
    "    for x, c in zip(x_list, color_list):\n",
    "        sns.histplot(x = x, data = df, kde=True, ax = ax, alpha = 0.5, color = c, legend=True, lw = .1)\n",
    "    \n",
    "    plt.legend(x_list)  \n",
    "    plt.show()"
   ]
  },
  {
   "cell_type": "code",
   "execution_count": 237,
   "id": "ef090417-3dfe-4ce2-8063-eda104b8996d",
   "metadata": {},
   "outputs": [
    {
     "data": {
      "image/png": "[encoded data removed]",
      "text/plain": [
       "<Figure size 720x360 with 1 Axes>"
      ]
     },
     "metadata": {
      "needs_background": "light"
     },
     "output_type": "display_data"
    }
   ],
   "source": [
    "plot_residuals(df, ['residuals', 'baseline_residuals'])"
   ]
  },
  {
   "cell_type": "code",
   "execution_count": 147,
   "id": "a3e95bbb-3e0e-4bcd-8ed4-08ed1b332d92",
   "metadata": {},
   "outputs": [
    {
     "data": {
      "image/png": "[encoded data removed]",
      "text/plain": [
       "<Figure size 432x288 with 1 Axes>"
      ]
     },
     "metadata": {
      "needs_background": "light"
     },
     "output_type": "display_data"
    }
   ],
   "source": [
    "# how to plot with matplotlib instead of seaborn\n",
    "plt.hist(df['residuals'], label='residuals', alpha=.7)\n",
    "plt.hist(df['baseline_residuals'], label = 'baseline_residuals',alpha=.7)\n",
    "plt.title('Residual Distribution for Model 1')\n",
    "plt.legend()\n",
    "plt.show()"
   ]
  },
  {
   "cell_type": "code",
   "execution_count": 249,
   "id": "7cb6ddf7-d9cb-4f12-887a-5c81cd079d37",
   "metadata": {},
   "outputs": [
    {
     "data": {
      "text/html": [
       "<div>\n",
       "<style scoped>\n",
       "    .dataframe tbody tr th:only-of-type {\n",
       "        vertical-align: middle;\n",
       "    }\n",
       "\n",
       "    .dataframe tbody tr th {\n",
       "        vertical-align: top;\n",
       "    }\n",
       "\n",
       "    .dataframe thead th {\n",
       "        text-align: right;\n",
       "    }\n",
       "</style>\n",
       "<table border=\"1\" class=\"dataframe\">\n",
       "  <thead>\n",
       "    <tr style=\"text-align: right;\">\n",
       "      <th></th>\n",
       "      <th>tip</th>\n",
       "      <th>yhat</th>\n",
       "    </tr>\n",
       "  </thead>\n",
       "  <tbody>\n",
       "    <tr>\n",
       "      <th>1</th>\n",
       "      <td>1.01</td>\n",
       "      <td>2.704636</td>\n",
       "    </tr>\n",
       "    <tr>\n",
       "      <th>2</th>\n",
       "      <td>1.66</td>\n",
       "      <td>2.006223</td>\n",
       "    </tr>\n",
       "    <tr>\n",
       "      <th>3</th>\n",
       "      <td>3.50</td>\n",
       "      <td>3.126835</td>\n",
       "    </tr>\n",
       "    <tr>\n",
       "      <th>4</th>\n",
       "      <td>3.31</td>\n",
       "      <td>3.407250</td>\n",
       "    </tr>\n",
       "    <tr>\n",
       "      <th>5</th>\n",
       "      <td>3.61</td>\n",
       "      <td>3.502822</td>\n",
       "    </tr>\n",
       "    <tr>\n",
       "      <th>...</th>\n",
       "      <td>...</td>\n",
       "      <td>...</td>\n",
       "    </tr>\n",
       "    <tr>\n",
       "      <th>240</th>\n",
       "      <td>5.92</td>\n",
       "      <td>3.969131</td>\n",
       "    </tr>\n",
       "    <tr>\n",
       "      <th>241</th>\n",
       "      <td>2.00</td>\n",
       "      <td>3.774836</td>\n",
       "    </tr>\n",
       "    <tr>\n",
       "      <th>242</th>\n",
       "      <td>2.00</td>\n",
       "      <td>3.301175</td>\n",
       "    </tr>\n",
       "    <tr>\n",
       "      <th>243</th>\n",
       "      <td>1.75</td>\n",
       "      <td>2.791807</td>\n",
       "    </tr>\n",
       "    <tr>\n",
       "      <th>244</th>\n",
       "      <td>3.00</td>\n",
       "      <td>2.892630</td>\n",
       "    </tr>\n",
       "  </tbody>\n",
       "</table>\n",
       "<p>244 rows × 2 columns</p>\n",
       "</div>"
      ],
      "text/plain": [
       "      tip      yhat\n",
       "1    1.01  2.704636\n",
       "2    1.66  2.006223\n",
       "3    3.50  3.126835\n",
       "4    3.31  3.407250\n",
       "5    3.61  3.502822\n",
       "..    ...       ...\n",
       "240  5.92  3.969131\n",
       "241  2.00  3.774836\n",
       "242  2.00  3.301175\n",
       "243  1.75  2.791807\n",
       "244  3.00  2.892630\n",
       "\n",
       "[244 rows x 2 columns]"
      ]
     },
     "execution_count": 249,
     "metadata": {},
     "output_type": "execute_result"
    }
   ],
   "source": [
    "df[['tip', 'yhat']]"
   ]
  },
  {
   "cell_type": "code",
   "execution_count": 258,
   "id": "b0cb68ac-fdff-4ce4-96a3-5fa7e82e5090",
   "metadata": {},
   "outputs": [
    {
     "data": {
      "text/plain": [
       "<matplotlib.collections.LineCollection at 0x7ff408bfb430>"
      ]
     },
     "execution_count": 258,
     "metadata": {},
     "output_type": "execute_result"
    },
    {
     "data": {
      "image/png": "[encoded data removed]",
      "text/plain": [
       "<Figure size 1152x504 with 2 Axes>"
      ]
     },
     "metadata": {
      "needs_background": "light"
     },
     "output_type": "display_data"
    }
   ],
   "source": [
    "# function for plotting dot residuals\n",
    "plt.figure(figsize=(16, 7))\n",
    "ax = plt.subplot(1, 2, 1)\n",
    "ax.scatter(df.tip, df.yhat, label='predicted')\n",
    "ax.set(title='Actual vs Predicted Value', ylabel='Prediction', xlabel='Actual')\n",
    "ax.plot(df.tip, df.tip, ls=':', c='gray')\n",
    "#put r^2 value on graph\n",
    "# and rmse and rmse of baseline\n",
    "\n",
    "ax = plt.subplot(1, 2, 2)\n",
    "ax.scatter(df.tip, df.residuals)\n",
    "ax.set(title = 'Actual vs Residual',ylabel='Residual', xlabel='Actual')\n",
    "ax.hlines(0, *ax.get_xlim(), ls=':', color='gray')"
   ]
  },
  {
   "cell_type": "code",
   "execution_count": 287,
   "id": "77d4b21c-eb1b-414c-b7d7-2b45a96d8369",
   "metadata": {},
   "outputs": [
    {
     "data": {
      "text/plain": [
       "10.0"
      ]
     },
     "execution_count": 287,
     "metadata": {},
     "output_type": "execute_result"
    }
   ],
   "source": [
    "df.tip.max()"
   ]
  },
  {
   "cell_type": "code",
   "execution_count": 295,
   "id": "450ecbeb-ca29-4963-9505-16313b5417c9",
   "metadata": {},
   "outputs": [],
   "source": [
    "# maybe in the future add creating the preditions and the residuals if none were entered \n",
    "# have to import sklearn stuff\n",
    "\n",
    "def plot_the_dots(actuals, predictions, residuals):\n",
    "    '''\n",
    "    This function takes in the actuals (i.e. df.actuals), predictions, and residuals and outputs two graphs.\n",
    "    One to see the regression line and the actuals/predictions\n",
    "    One to see the actuals vs the residuals.\n",
    "    '''\n",
    "    \n",
    "    r_sq = r2_score(actuals, predictions)\n",
    "    rmse = mean_squared_error(actuals, predictions, squared = False)\n",
    "    \n",
    "    text_loc = actuals.max() - 2\n",
    "    \n",
    "    # plots actual vs predicted\n",
    "    plt.figure(figsize=(16, 7))\n",
    "    ax = plt.subplot(1, 2, 1)\n",
    "    ax.scatter(actuals, predictions, label='predicted')\n",
    "    ax.set(title='Actual vs Predicted Value', ylabel='Prediction', xlabel='Actual')\n",
    "    ax.plot(actuals, actuals, ls=':', c='gray')\n",
    "    ax.text(text_loc, 1, f'R^2: {r_sq:.2f}', fontsize='large')\n",
    "    \n",
    "    #put r^2 value on graph\n",
    "    # and rmse and rmse of baseline\n",
    "    \n",
    "    ax = plt.subplot(1, 2, 2)\n",
    "    ax.scatter(actuals, residuals)\n",
    "    ax.set(title = 'Actual vs Residual',ylabel='Residual', xlabel='Actual')\n",
    "    ax.hlines(0, *ax.get_xlim(), ls=':', color='gray')\n",
    "    ax.text(text_loc, -3, f'RMSE: {rmse:.2f}')"
   ]
  },
  {
   "cell_type": "code",
   "execution_count": 294,
   "id": "27365cfe-e986-47f3-a402-6de8677ced3f",
   "metadata": {},
   "outputs": [
    {
     "data": {
      "image/png": "[encoded data removed]",
      "text/plain": [
       "<Figure size 1152x504 with 2 Axes>"
      ]
     },
     "metadata": {
      "needs_background": "light"
     },
     "output_type": "display_data"
    }
   ],
   "source": [
    "plot_the_dots(df.tip, df.yhat, df.residuals)"
   ]
  },
  {
   "cell_type": "code",
   "execution_count": 167,
   "id": "dbccc126-e43c-41d8-a75f-05fc7bd27eb9",
   "metadata": {},
   "outputs": [],
   "source": [
    "# - regression_errors(y, yhat): returns the following values:\n",
    "#     - sum of squared errors (SSE)\n",
    "#     - explained sum of squares (ESS)\n",
    "#     - total sum of squares (TSS)\n",
    "#     - mean squared error (MSE)\n",
    "#     - root mean squared error (RMSE)\n",
    "# create function to do this in one shot \n",
    "\n",
    "# this version is slightly different than the one above\n",
    "\n",
    "def hip_to_be_square(y, yhat, print_out = False):\n",
    "    '''\n",
    "    This function takes the actuals (y), \n",
    "    and the predictions (yhat).\n",
    "    optional arguement print_out. bool. when set to True will print out summary\n",
    "    It prints out the Sum of SE, Mean SE, Root Mean SE, Explained SS, and Total SS. \n",
    "    Returns them in 5 variables. In order listed above\n",
    "    ex: sse, mse, rmse, ess, tss = hip_to_be_square(df, 'actuals', 'yhat', print_out = True)\n",
    "    '''\n",
    "    # calculate Sum of Squared Error\n",
    "    sse = ((y - yhat) ** 2).sum()\n",
    "    \n",
    "    # calculate Mean of Squared Error\n",
    "    mse = sse / y.shape[0]\n",
    "    \n",
    "    # calculate Root Mean of Squared Error\n",
    "    rmse = mse ** .5\n",
    "    \n",
    "    # calculate Explained Sum of Squares \n",
    "    ess = ((yhat - y.mean()) ** 2).sum()\n",
    "    \n",
    "    # calculate Total Sum of Squares\n",
    "    tss = ((y - y.mean()) ** 2).sum()\n",
    "    \n",
    "    if print_out == True:\n",
    "        \n",
    "        print(f'''\n",
    "            The Sum of Squared Error: {sse:.2f}\n",
    "            The Mean Squared Error: {mse:.2f}\n",
    "            The Root Mean Squared error: {rmse:.2f}\n",
    "            -----------------------------------\n",
    "            The Mean Explained Sum of Squares: {ess:.2f}\n",
    "            The Total Sum of Squares: {tss:.2f}\n",
    "            ''')\n",
    "    return sse, mse, rmse, ess, tss"
   ]
  },
  {
   "cell_type": "code",
   "execution_count": 163,
   "id": "963a4ad1-b620-44e9-bb4a-68d50a721269",
   "metadata": {},
   "outputs": [],
   "source": [
    "# baseline_mean_errors(y): computes the SSE, MSE, and RMSE for the baseline model\n",
    "\n",
    "def baseline_mean_errors(y):\n",
    "    '''\n",
    "    This function takes in the actuals (y). Computes the baseline model. \n",
    "    Returns the SSE, MSE, and RMSE for the baseline\n",
    "    '''\n",
    "    baseline = y.mean()\n",
    "    \n",
    "    # calculate Sum of Squared Error\n",
    "    sse = ((y - baseline) ** 2).sum()\n",
    "    \n",
    "    # calculate Mean of Squared Error\n",
    "    mse = sse / y.shape[0]\n",
    "    \n",
    "    # calculate Root Mean of Squared Error\n",
    "    rmse = mse ** .5\n",
    "    \n",
    "    return sse, mse, rmse"
   ]
  },
  {
   "cell_type": "code",
   "execution_count": 164,
   "id": "71abf1e4-47cd-4110-a1dd-40f610165f6c",
   "metadata": {},
   "outputs": [
    {
     "data": {
      "text/plain": [
       "(465.2124770491804, 1.906608512496641, 1.3807999538298954)"
      ]
     },
     "execution_count": 164,
     "metadata": {},
     "output_type": "execute_result"
    }
   ],
   "source": [
    "# perform a functio test using rando variables\n",
    "# and it works! checked with numbers above\n",
    "a, b, c = baseline_mean_errors(df.tip)\n",
    "a, b, c"
   ]
  },
  {
   "cell_type": "code",
   "execution_count": 169,
   "id": "ed408c5e-7cf3-4063-877f-ba4d02fd5341",
   "metadata": {},
   "outputs": [],
   "source": [
    "# better_than_baseline(y, yhat): returns true if your model performs better than the baseline, otherwise false\n",
    "\n",
    "def better_than_baseline(y, yhat):\n",
    "    '''\n",
    "    This function takes in actuals (y) and predictions (yhat) \n",
    "    and returns true if the model performs better than baseline. \n",
    "    '''\n",
    "    # calculate values for baseline\n",
    "    sse_b, mse_b, rmse_b = baseline_mean_errors(y)\n",
    "    \n",
    "    # calculate values for model\n",
    "    sse, mse, rmse_model, ess, tss = hip_to_be_square(y, yhat, print_out=False)\n",
    "    \n",
    "    # compare rmse from baseline and model\n",
    "    \n",
    "    # If Root Mean Square Error is smaller for the model than for the baseline, model is better, return True\n",
    "    if rmse_model < rmse_b:\n",
    "        return True\n",
    "    # if Root mean Square error for the model is larger or the same as the baseline, return False \n",
    "    else:\n",
    "        return False\n",
    "    "
   ]
  },
  {
   "cell_type": "code",
   "execution_count": 171,
   "id": "edf15cee-2e24-47da-89f9-1da99dd8a8ae",
   "metadata": {},
   "outputs": [
    {
     "data": {
      "text/plain": [
       "True"
      ]
     },
     "execution_count": 171,
     "metadata": {},
     "output_type": "execute_result"
    }
   ],
   "source": [
    "better_than_baseline(df.tip, df.yhat)\n"
   ]
  },
  {
   "cell_type": "markdown",
   "id": "4378bc8d-a786-4684-bbbc-51d4e2700ded",
   "metadata": {},
   "source": [
    "<hr style=\"border-top: 10px groove darkmagenta; margin-top: 1px; margin-bottom: 1px\"></hr>\n",
    "\n",
    "### 10. Load the mpg dataset and fit a model that predicts highway mileage based on engine displacement. Take a look at all the regression evaluation metrics, and determine whether this model is better than the baseline model. Use the functions from your evaluate.py to help accomplish this."
   ]
  },
  {
   "cell_type": "code",
   "execution_count": 185,
   "id": "9e8147b4-72b0-483d-b27b-47b5ddfbc8c2",
   "metadata": {},
   "outputs": [],
   "source": [
    "import evaluate as ev\n",
    "import wrangle as w\n",
    "from sklearn.preprocessing import MinMaxScaler"
   ]
  },
  {
   "cell_type": "code",
   "execution_count": 173,
   "id": "7194c4f5-f692-486c-b370-a780f500db91",
   "metadata": {},
   "outputs": [],
   "source": [
    "mpg = data('mpg')"
   ]
  },
  {
   "cell_type": "code",
   "execution_count": 175,
   "id": "24e48d97-3c3b-47cb-9d41-f00aaefffae5",
   "metadata": {},
   "outputs": [
    {
     "data": {
      "text/html": [
       "<div>\n",
       "<style scoped>\n",
       "    .dataframe tbody tr th:only-of-type {\n",
       "        vertical-align: middle;\n",
       "    }\n",
       "\n",
       "    .dataframe tbody tr th {\n",
       "        vertical-align: top;\n",
       "    }\n",
       "\n",
       "    .dataframe thead th {\n",
       "        text-align: right;\n",
       "    }\n",
       "</style>\n",
       "<table border=\"1\" class=\"dataframe\">\n",
       "  <thead>\n",
       "    <tr style=\"text-align: right;\">\n",
       "      <th></th>\n",
       "      <th>manufacturer</th>\n",
       "      <th>model</th>\n",
       "      <th>displ</th>\n",
       "      <th>year</th>\n",
       "      <th>cyl</th>\n",
       "      <th>trans</th>\n",
       "      <th>drv</th>\n",
       "      <th>cty</th>\n",
       "      <th>hwy</th>\n",
       "      <th>fl</th>\n",
       "      <th>class</th>\n",
       "    </tr>\n",
       "  </thead>\n",
       "  <tbody>\n",
       "    <tr>\n",
       "      <th>1</th>\n",
       "      <td>audi</td>\n",
       "      <td>a4</td>\n",
       "      <td>1.8</td>\n",
       "      <td>1999</td>\n",
       "      <td>4</td>\n",
       "      <td>auto(l5)</td>\n",
       "      <td>f</td>\n",
       "      <td>18</td>\n",
       "      <td>29</td>\n",
       "      <td>p</td>\n",
       "      <td>compact</td>\n",
       "    </tr>\n",
       "    <tr>\n",
       "      <th>2</th>\n",
       "      <td>audi</td>\n",
       "      <td>a4</td>\n",
       "      <td>1.8</td>\n",
       "      <td>1999</td>\n",
       "      <td>4</td>\n",
       "      <td>manual(m5)</td>\n",
       "      <td>f</td>\n",
       "      <td>21</td>\n",
       "      <td>29</td>\n",
       "      <td>p</td>\n",
       "      <td>compact</td>\n",
       "    </tr>\n",
       "  </tbody>\n",
       "</table>\n",
       "</div>"
      ],
      "text/plain": [
       "  manufacturer model  displ  year  cyl       trans drv  cty  hwy fl    class\n",
       "1         audi    a4    1.8  1999    4    auto(l5)   f   18   29  p  compact\n",
       "2         audi    a4    1.8  1999    4  manual(m5)   f   21   29  p  compact"
      ]
     },
     "execution_count": 175,
     "metadata": {},
     "output_type": "execute_result"
    }
   ],
   "source": [
    "mpg.head(2)"
   ]
  },
  {
   "cell_type": "code",
   "execution_count": 182,
   "id": "ce210909-8829-4532-9676-e1e4d0d502ab",
   "metadata": {},
   "outputs": [
    {
     "data": {
      "text/html": [
       "<div>\n",
       "<style scoped>\n",
       "    .dataframe tbody tr th:only-of-type {\n",
       "        vertical-align: middle;\n",
       "    }\n",
       "\n",
       "    .dataframe tbody tr th {\n",
       "        vertical-align: top;\n",
       "    }\n",
       "\n",
       "    .dataframe thead th {\n",
       "        text-align: right;\n",
       "    }\n",
       "</style>\n",
       "<table border=\"1\" class=\"dataframe\">\n",
       "  <thead>\n",
       "    <tr style=\"text-align: right;\">\n",
       "      <th></th>\n",
       "      <th>count</th>\n",
       "      <th>mean</th>\n",
       "      <th>std</th>\n",
       "      <th>min</th>\n",
       "      <th>25%</th>\n",
       "      <th>50%</th>\n",
       "      <th>75%</th>\n",
       "      <th>max</th>\n",
       "    </tr>\n",
       "  </thead>\n",
       "  <tbody>\n",
       "    <tr>\n",
       "      <th>displ</th>\n",
       "      <td>234.0</td>\n",
       "      <td>3.471795</td>\n",
       "      <td>1.291959</td>\n",
       "      <td>1.6</td>\n",
       "      <td>2.4</td>\n",
       "      <td>3.3</td>\n",
       "      <td>4.6</td>\n",
       "      <td>7.0</td>\n",
       "    </tr>\n",
       "    <tr>\n",
       "      <th>hwy</th>\n",
       "      <td>234.0</td>\n",
       "      <td>23.440171</td>\n",
       "      <td>5.954643</td>\n",
       "      <td>12.0</td>\n",
       "      <td>18.0</td>\n",
       "      <td>24.0</td>\n",
       "      <td>27.0</td>\n",
       "      <td>44.0</td>\n",
       "    </tr>\n",
       "  </tbody>\n",
       "</table>\n",
       "</div>"
      ],
      "text/plain": [
       "       count       mean       std   min   25%   50%   75%   max\n",
       "displ  234.0   3.471795  1.291959   1.6   2.4   3.3   4.6   7.0\n",
       "hwy    234.0  23.440171  5.954643  12.0  18.0  24.0  27.0  44.0"
      ]
     },
     "execution_count": 182,
     "metadata": {},
     "output_type": "execute_result"
    }
   ],
   "source": [
    "# may need to scale these\n",
    "mpg[['displ', 'hwy']].describe().T"
   ]
  },
  {
   "cell_type": "code",
   "execution_count": 206,
   "id": "9e07b27b-a69c-4181-88a5-2da9ac90a349",
   "metadata": {},
   "outputs": [
    {
     "data": {
      "text/html": [
       "<div>\n",
       "<style scoped>\n",
       "    .dataframe tbody tr th:only-of-type {\n",
       "        vertical-align: middle;\n",
       "    }\n",
       "\n",
       "    .dataframe tbody tr th {\n",
       "        vertical-align: top;\n",
       "    }\n",
       "\n",
       "    .dataframe thead th {\n",
       "        text-align: right;\n",
       "    }\n",
       "</style>\n",
       "<table border=\"1\" class=\"dataframe\">\n",
       "  <thead>\n",
       "    <tr style=\"text-align: right;\">\n",
       "      <th></th>\n",
       "      <th>manufacturer</th>\n",
       "      <th>model</th>\n",
       "      <th>displ</th>\n",
       "      <th>year</th>\n",
       "      <th>cyl</th>\n",
       "      <th>trans</th>\n",
       "      <th>drv</th>\n",
       "      <th>cty</th>\n",
       "      <th>hwy</th>\n",
       "      <th>fl</th>\n",
       "      <th>class</th>\n",
       "      <th>hwy_MnMx</th>\n",
       "      <th>displ_MnMx</th>\n",
       "      <th>yhat</th>\n",
       "      <th>residuals</th>\n",
       "      <th>baseline</th>\n",
       "      <th>baseline_residuals</th>\n",
       "    </tr>\n",
       "  </thead>\n",
       "  <tbody>\n",
       "    <tr>\n",
       "      <th>1</th>\n",
       "      <td>audi</td>\n",
       "      <td>a4</td>\n",
       "      <td>1.8</td>\n",
       "      <td>1999</td>\n",
       "      <td>4</td>\n",
       "      <td>auto(l5)</td>\n",
       "      <td>f</td>\n",
       "      <td>18</td>\n",
       "      <td>29</td>\n",
       "      <td>p</td>\n",
       "      <td>compact</td>\n",
       "      <td>0.53125</td>\n",
       "      <td>0.037037</td>\n",
       "      <td>0.541956</td>\n",
       "      <td>-0.010706</td>\n",
       "      <td>0.357505</td>\n",
       "      <td>0.173745</td>\n",
       "    </tr>\n",
       "    <tr>\n",
       "      <th>2</th>\n",
       "      <td>audi</td>\n",
       "      <td>a4</td>\n",
       "      <td>1.8</td>\n",
       "      <td>1999</td>\n",
       "      <td>4</td>\n",
       "      <td>manual(m5)</td>\n",
       "      <td>f</td>\n",
       "      <td>21</td>\n",
       "      <td>29</td>\n",
       "      <td>p</td>\n",
       "      <td>compact</td>\n",
       "      <td>0.53125</td>\n",
       "      <td>0.037037</td>\n",
       "      <td>0.541956</td>\n",
       "      <td>-0.010706</td>\n",
       "      <td>0.357505</td>\n",
       "      <td>0.173745</td>\n",
       "    </tr>\n",
       "    <tr>\n",
       "      <th>3</th>\n",
       "      <td>audi</td>\n",
       "      <td>a4</td>\n",
       "      <td>2.0</td>\n",
       "      <td>2008</td>\n",
       "      <td>4</td>\n",
       "      <td>manual(m6)</td>\n",
       "      <td>f</td>\n",
       "      <td>20</td>\n",
       "      <td>31</td>\n",
       "      <td>p</td>\n",
       "      <td>compact</td>\n",
       "      <td>0.59375</td>\n",
       "      <td>0.074074</td>\n",
       "      <td>0.519890</td>\n",
       "      <td>0.073860</td>\n",
       "      <td>0.357505</td>\n",
       "      <td>0.236245</td>\n",
       "    </tr>\n",
       "    <tr>\n",
       "      <th>4</th>\n",
       "      <td>audi</td>\n",
       "      <td>a4</td>\n",
       "      <td>2.0</td>\n",
       "      <td>2008</td>\n",
       "      <td>4</td>\n",
       "      <td>auto(av)</td>\n",
       "      <td>f</td>\n",
       "      <td>21</td>\n",
       "      <td>30</td>\n",
       "      <td>p</td>\n",
       "      <td>compact</td>\n",
       "      <td>0.56250</td>\n",
       "      <td>0.074074</td>\n",
       "      <td>0.519890</td>\n",
       "      <td>0.042610</td>\n",
       "      <td>0.357505</td>\n",
       "      <td>0.204995</td>\n",
       "    </tr>\n",
       "    <tr>\n",
       "      <th>5</th>\n",
       "      <td>audi</td>\n",
       "      <td>a4</td>\n",
       "      <td>2.8</td>\n",
       "      <td>1999</td>\n",
       "      <td>6</td>\n",
       "      <td>auto(l5)</td>\n",
       "      <td>f</td>\n",
       "      <td>16</td>\n",
       "      <td>26</td>\n",
       "      <td>p</td>\n",
       "      <td>compact</td>\n",
       "      <td>0.43750</td>\n",
       "      <td>0.222222</td>\n",
       "      <td>0.431625</td>\n",
       "      <td>0.005875</td>\n",
       "      <td>0.357505</td>\n",
       "      <td>0.079995</td>\n",
       "    </tr>\n",
       "  </tbody>\n",
       "</table>\n",
       "</div>"
      ],
      "text/plain": [
       "  manufacturer model  displ  year  cyl       trans drv  cty  hwy fl    class  \\\n",
       "1         audi    a4    1.8  1999    4    auto(l5)   f   18   29  p  compact   \n",
       "2         audi    a4    1.8  1999    4  manual(m5)   f   21   29  p  compact   \n",
       "3         audi    a4    2.0  2008    4  manual(m6)   f   20   31  p  compact   \n",
       "4         audi    a4    2.0  2008    4    auto(av)   f   21   30  p  compact   \n",
       "5         audi    a4    2.8  1999    6    auto(l5)   f   16   26  p  compact   \n",
       "\n",
       "   hwy_MnMx  displ_MnMx      yhat  residuals  baseline  baseline_residuals  \n",
       "1   0.53125    0.037037  0.541956  -0.010706  0.357505            0.173745  \n",
       "2   0.53125    0.037037  0.541956  -0.010706  0.357505            0.173745  \n",
       "3   0.59375    0.074074  0.519890   0.073860  0.357505            0.236245  \n",
       "4   0.56250    0.074074  0.519890   0.042610  0.357505            0.204995  \n",
       "5   0.43750    0.222222  0.431625   0.005875  0.357505            0.079995  "
      ]
     },
     "execution_count": 206,
     "metadata": {},
     "output_type": "execute_result"
    }
   ],
   "source": [
    "mm_scaler = MinMaxScaler()\n",
    "scaler_name = 'MnMx'\n",
    "    \n",
    "# make empty list for return\n",
    "col_names = ['displ', 'hwy']\n",
    "    \n",
    "# loop through columns in col names\n",
    "for col in col_names:\n",
    "        \n",
    "    #fit and transform to train, add to new column on train df\n",
    "    mpg[f'{col}_{scaler_name}'] = mm_scaler.fit_transform(mpg[[col]]) \n",
    "    \n",
    "mpg.head()\n"
   ]
  },
  {
   "cell_type": "code",
   "execution_count": 207,
   "id": "cb6084ac-a7a2-4d8b-aef1-b9949a5bc2e1",
   "metadata": {},
   "outputs": [],
   "source": [
    "# define X and y\n",
    "X = mpg[['displ_MnMx']]\n",
    "y = mpg['hwy_MnMx']\n",
    "\n",
    "# make model and predctions\n",
    "model = LinearRegression().fit(X, y)\n",
    "predictions = model.predict(X)"
   ]
  },
  {
   "cell_type": "code",
   "execution_count": 208,
   "id": "767709d9-142c-46cf-a467-921a6bf73ace",
   "metadata": {},
   "outputs": [],
   "source": [
    "# add predictions to column on dataframe\n",
    "mpg['yhat'] = predictions"
   ]
  },
  {
   "cell_type": "code",
   "execution_count": 209,
   "id": "c03eb6e1-00bb-4ed2-84d7-98417177c812",
   "metadata": {},
   "outputs": [
    {
     "data": {
      "text/plain": [
       "True"
      ]
     },
     "execution_count": 209,
     "metadata": {},
     "output_type": "execute_result"
    }
   ],
   "source": [
    "# use better than baseline function to see if it's better\n",
    "ev.better_than_baseline(mpg.hwy_MnMx, mpg.yhat)"
   ]
  },
  {
   "cell_type": "code",
   "execution_count": 192,
   "id": "c40f06ec-6f34-4b09-a090-368fac845eff",
   "metadata": {},
   "outputs": [],
   "source": [
    "# maybe make this more customizable for having more than one model\n",
    "\n",
    "def get_residuals(df, y, yhat, get_baseline = False):\n",
    "    '''\n",
    "    this function creates columns that have the residuals in them\n",
    "    optional arguement get_baseline. When True will add a baseline column to dataframe as well\n",
    "    '''\n",
    "    \n",
    "    df['residuals'] = df[y] - df[yhat]\n",
    "    \n",
    "    if get_baseline == True:\n",
    "        df['baseline'] = df[y].mean()\n",
    "        df['baseline_residuals'] = df[y] - df['baseline']\n",
    "    \n",
    "    return df"
   ]
  },
  {
   "cell_type": "code",
   "execution_count": 210,
   "id": "641bd975-d0f2-41a6-b2a3-25b5154848de",
   "metadata": {},
   "outputs": [
    {
     "data": {
      "text/html": [
       "<div>\n",
       "<style scoped>\n",
       "    .dataframe tbody tr th:only-of-type {\n",
       "        vertical-align: middle;\n",
       "    }\n",
       "\n",
       "    .dataframe tbody tr th {\n",
       "        vertical-align: top;\n",
       "    }\n",
       "\n",
       "    .dataframe thead th {\n",
       "        text-align: right;\n",
       "    }\n",
       "</style>\n",
       "<table border=\"1\" class=\"dataframe\">\n",
       "  <thead>\n",
       "    <tr style=\"text-align: right;\">\n",
       "      <th></th>\n",
       "      <th>manufacturer</th>\n",
       "      <th>model</th>\n",
       "      <th>displ</th>\n",
       "      <th>year</th>\n",
       "      <th>cyl</th>\n",
       "      <th>trans</th>\n",
       "      <th>drv</th>\n",
       "      <th>cty</th>\n",
       "      <th>hwy</th>\n",
       "      <th>fl</th>\n",
       "      <th>class</th>\n",
       "      <th>hwy_MnMx</th>\n",
       "      <th>displ_MnMx</th>\n",
       "      <th>yhat</th>\n",
       "      <th>residuals</th>\n",
       "      <th>baseline</th>\n",
       "      <th>baseline_residuals</th>\n",
       "    </tr>\n",
       "  </thead>\n",
       "  <tbody>\n",
       "    <tr>\n",
       "      <th>1</th>\n",
       "      <td>audi</td>\n",
       "      <td>a4</td>\n",
       "      <td>1.8</td>\n",
       "      <td>1999</td>\n",
       "      <td>4</td>\n",
       "      <td>auto(l5)</td>\n",
       "      <td>f</td>\n",
       "      <td>18</td>\n",
       "      <td>29</td>\n",
       "      <td>p</td>\n",
       "      <td>compact</td>\n",
       "      <td>0.53125</td>\n",
       "      <td>0.037037</td>\n",
       "      <td>0.541956</td>\n",
       "      <td>-0.010706</td>\n",
       "      <td>0.357505</td>\n",
       "      <td>0.173745</td>\n",
       "    </tr>\n",
       "    <tr>\n",
       "      <th>2</th>\n",
       "      <td>audi</td>\n",
       "      <td>a4</td>\n",
       "      <td>1.8</td>\n",
       "      <td>1999</td>\n",
       "      <td>4</td>\n",
       "      <td>manual(m5)</td>\n",
       "      <td>f</td>\n",
       "      <td>21</td>\n",
       "      <td>29</td>\n",
       "      <td>p</td>\n",
       "      <td>compact</td>\n",
       "      <td>0.53125</td>\n",
       "      <td>0.037037</td>\n",
       "      <td>0.541956</td>\n",
       "      <td>-0.010706</td>\n",
       "      <td>0.357505</td>\n",
       "      <td>0.173745</td>\n",
       "    </tr>\n",
       "    <tr>\n",
       "      <th>3</th>\n",
       "      <td>audi</td>\n",
       "      <td>a4</td>\n",
       "      <td>2.0</td>\n",
       "      <td>2008</td>\n",
       "      <td>4</td>\n",
       "      <td>manual(m6)</td>\n",
       "      <td>f</td>\n",
       "      <td>20</td>\n",
       "      <td>31</td>\n",
       "      <td>p</td>\n",
       "      <td>compact</td>\n",
       "      <td>0.59375</td>\n",
       "      <td>0.074074</td>\n",
       "      <td>0.519890</td>\n",
       "      <td>0.073860</td>\n",
       "      <td>0.357505</td>\n",
       "      <td>0.236245</td>\n",
       "    </tr>\n",
       "    <tr>\n",
       "      <th>4</th>\n",
       "      <td>audi</td>\n",
       "      <td>a4</td>\n",
       "      <td>2.0</td>\n",
       "      <td>2008</td>\n",
       "      <td>4</td>\n",
       "      <td>auto(av)</td>\n",
       "      <td>f</td>\n",
       "      <td>21</td>\n",
       "      <td>30</td>\n",
       "      <td>p</td>\n",
       "      <td>compact</td>\n",
       "      <td>0.56250</td>\n",
       "      <td>0.074074</td>\n",
       "      <td>0.519890</td>\n",
       "      <td>0.042610</td>\n",
       "      <td>0.357505</td>\n",
       "      <td>0.204995</td>\n",
       "    </tr>\n",
       "    <tr>\n",
       "      <th>5</th>\n",
       "      <td>audi</td>\n",
       "      <td>a4</td>\n",
       "      <td>2.8</td>\n",
       "      <td>1999</td>\n",
       "      <td>6</td>\n",
       "      <td>auto(l5)</td>\n",
       "      <td>f</td>\n",
       "      <td>16</td>\n",
       "      <td>26</td>\n",
       "      <td>p</td>\n",
       "      <td>compact</td>\n",
       "      <td>0.43750</td>\n",
       "      <td>0.222222</td>\n",
       "      <td>0.431625</td>\n",
       "      <td>0.005875</td>\n",
       "      <td>0.357505</td>\n",
       "      <td>0.079995</td>\n",
       "    </tr>\n",
       "  </tbody>\n",
       "</table>\n",
       "</div>"
      ],
      "text/plain": [
       "  manufacturer model  displ  year  cyl       trans drv  cty  hwy fl    class  \\\n",
       "1         audi    a4    1.8  1999    4    auto(l5)   f   18   29  p  compact   \n",
       "2         audi    a4    1.8  1999    4  manual(m5)   f   21   29  p  compact   \n",
       "3         audi    a4    2.0  2008    4  manual(m6)   f   20   31  p  compact   \n",
       "4         audi    a4    2.0  2008    4    auto(av)   f   21   30  p  compact   \n",
       "5         audi    a4    2.8  1999    6    auto(l5)   f   16   26  p  compact   \n",
       "\n",
       "   hwy_MnMx  displ_MnMx      yhat  residuals  baseline  baseline_residuals  \n",
       "1   0.53125    0.037037  0.541956  -0.010706  0.357505            0.173745  \n",
       "2   0.53125    0.037037  0.541956  -0.010706  0.357505            0.173745  \n",
       "3   0.59375    0.074074  0.519890   0.073860  0.357505            0.236245  \n",
       "4   0.56250    0.074074  0.519890   0.042610  0.357505            0.204995  \n",
       "5   0.43750    0.222222  0.431625   0.005875  0.357505            0.079995  "
      ]
     },
     "execution_count": 210,
     "metadata": {},
     "output_type": "execute_result"
    }
   ],
   "source": [
    "mpg_df = get_residuals(mpg, 'hwy_MnMx', 'yhat', get_baseline=True)\n",
    "mpg_df.head()"
   ]
  },
  {
   "cell_type": "code",
   "execution_count": 211,
   "id": "7147405f-71f0-425d-b1c1-dc6b39637151",
   "metadata": {},
   "outputs": [
    {
     "data": {
      "image/png": "[encoded data removed]",
      "text/plain": [
       "<Figure size 720x360 with 1 Axes>"
      ]
     },
     "metadata": {
      "needs_background": "light"
     },
     "output_type": "display_data"
    }
   ],
   "source": [
    "ev.plot_residuals(mpg_df, ['residuals', 'baseline_residuals'])"
   ]
  },
  {
   "cell_type": "code",
   "execution_count": 212,
   "id": "692793ce-ab63-49e2-a4ca-919542f6e442",
   "metadata": {},
   "outputs": [
    {
     "name": "stdout",
     "output_type": "stream",
     "text": [
      "\n",
      "            The Sum of Squared Error: 3.33\n",
      "            The Mean Squared Error: 0.01\n",
      "            The Root Mean Squared error: 0.12\n",
      "            -----------------------------------\n",
      "            The Mean Explained Sum of Squares: 4.73\n",
      "            The Total Sum of Squares: 8.07\n",
      "            \n"
     ]
    },
    {
     "data": {
      "text/plain": [
       "(3.333817391597136,\n",
       " 0.01424708287007323,\n",
       " 0.11936114472504539,\n",
       " 4.7342122892255105,\n",
       " 8.068029680822647)"
      ]
     },
     "execution_count": 212,
     "metadata": {},
     "output_type": "execute_result"
    }
   ],
   "source": [
    "ev.hip_to_be_square(mpg.hwy_MnMx, mpg.yhat, print_out = True)"
   ]
  },
  {
   "cell_type": "code",
   "execution_count": 213,
   "id": "b3936bae-4c4c-4d5a-ad0e-a106ef1607bd",
   "metadata": {},
   "outputs": [
    {
     "name": "stdout",
     "output_type": "stream",
     "text": [
      "\n",
      "            The Sum of Squared Error: 8.07\n",
      "            The Mean Squared Error: 0.03\n",
      "            The Root Mean Squared error: 0.19\n",
      "            -----------------------------------\n",
      "            The Mean Explained Sum of Squares: 0.00\n",
      "            The Total Sum of Squares: 8.07\n",
      "            \n"
     ]
    },
    {
     "data": {
      "text/plain": [
       "(8.068029680822647,\n",
       " 0.0344787593197549,\n",
       " 0.18568456941747988,\n",
       " 0.0,\n",
       " 8.068029680822647)"
      ]
     },
     "execution_count": 213,
     "metadata": {},
     "output_type": "execute_result"
    }
   ],
   "source": [
    "ev.hip_to_be_square(mpg.hwy_MnMx, mpg.baseline, print_out=True)"
   ]
  },
  {
   "cell_type": "code",
   "execution_count": 215,
   "id": "9439b765-ac1a-4ef9-b622-5251bf7738dd",
   "metadata": {},
   "outputs": [],
   "source": [
    "# inverse transform the predictions back using the scaler\n",
    "# MAKE SURE your scaler goes with the right variable\n",
    "mpg['hwy_predictions_mpg'] = mm_scaler.inverse_transform(mpg[['yhat']])"
   ]
  },
  {
   "cell_type": "code",
   "execution_count": 218,
   "id": "2772af14-d193-473b-8dc8-16720da264ca",
   "metadata": {},
   "outputs": [
    {
     "data": {
      "text/html": [
       "<div>\n",
       "<style scoped>\n",
       "    .dataframe tbody tr th:only-of-type {\n",
       "        vertical-align: middle;\n",
       "    }\n",
       "\n",
       "    .dataframe tbody tr th {\n",
       "        vertical-align: top;\n",
       "    }\n",
       "\n",
       "    .dataframe thead th {\n",
       "        text-align: right;\n",
       "    }\n",
       "</style>\n",
       "<table border=\"1\" class=\"dataframe\">\n",
       "  <thead>\n",
       "    <tr style=\"text-align: right;\">\n",
       "      <th></th>\n",
       "      <th>hwy</th>\n",
       "      <th>hwy_predictions_mpg</th>\n",
       "    </tr>\n",
       "  </thead>\n",
       "  <tbody>\n",
       "    <tr>\n",
       "      <th>1</th>\n",
       "      <td>29</td>\n",
       "      <td>29.342591</td>\n",
       "    </tr>\n",
       "    <tr>\n",
       "      <th>2</th>\n",
       "      <td>29</td>\n",
       "      <td>29.342591</td>\n",
       "    </tr>\n",
       "    <tr>\n",
       "      <th>3</th>\n",
       "      <td>31</td>\n",
       "      <td>28.636473</td>\n",
       "    </tr>\n",
       "    <tr>\n",
       "      <th>4</th>\n",
       "      <td>30</td>\n",
       "      <td>28.636473</td>\n",
       "    </tr>\n",
       "    <tr>\n",
       "      <th>5</th>\n",
       "      <td>26</td>\n",
       "      <td>25.812002</td>\n",
       "    </tr>\n",
       "    <tr>\n",
       "      <th>...</th>\n",
       "      <td>...</td>\n",
       "      <td>...</td>\n",
       "    </tr>\n",
       "    <tr>\n",
       "      <th>230</th>\n",
       "      <td>28</td>\n",
       "      <td>28.636473</td>\n",
       "    </tr>\n",
       "    <tr>\n",
       "      <th>231</th>\n",
       "      <td>29</td>\n",
       "      <td>28.636473</td>\n",
       "    </tr>\n",
       "    <tr>\n",
       "      <th>232</th>\n",
       "      <td>26</td>\n",
       "      <td>25.812002</td>\n",
       "    </tr>\n",
       "    <tr>\n",
       "      <th>233</th>\n",
       "      <td>26</td>\n",
       "      <td>25.812002</td>\n",
       "    </tr>\n",
       "    <tr>\n",
       "      <th>234</th>\n",
       "      <td>26</td>\n",
       "      <td>22.987531</td>\n",
       "    </tr>\n",
       "  </tbody>\n",
       "</table>\n",
       "<p>234 rows × 2 columns</p>\n",
       "</div>"
      ],
      "text/plain": [
       "     hwy  hwy_predictions_mpg\n",
       "1     29            29.342591\n",
       "2     29            29.342591\n",
       "3     31            28.636473\n",
       "4     30            28.636473\n",
       "5     26            25.812002\n",
       "..   ...                  ...\n",
       "230   28            28.636473\n",
       "231   29            28.636473\n",
       "232   26            25.812002\n",
       "233   26            25.812002\n",
       "234   26            22.987531\n",
       "\n",
       "[234 rows x 2 columns]"
      ]
     },
     "execution_count": 218,
     "metadata": {},
     "output_type": "execute_result"
    }
   ],
   "source": [
    "# see predictions with actuals\n",
    "mpg[['hwy','hwy_predictions_mpg']]"
   ]
  },
  {
   "cell_type": "code",
   "execution_count": null,
   "id": "e010b0d9-cb8a-4d2e-8f6d-e4d2dee6bcc5",
   "metadata": {},
   "outputs": [],
   "source": []
  }
 ],
 "metadata": {
  "kernelspec": {
   "display_name": "Python 3",
   "language": "python",
   "name": "python3"
  },
  "language_info": {
   "codemirror_mode": {
    "name": "ipython",
    "version": 3
   },
   "file_extension": ".py",
   "mimetype": "text/x-python",
   "name": "python",
   "nbconvert_exporter": "python",
   "pygments_lexer": "ipython3",
   "version": "3.8.5"
  }
 },
 "nbformat": 4,
 "nbformat_minor": 5
}
