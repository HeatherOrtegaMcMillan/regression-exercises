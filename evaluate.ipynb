{
 "cells": [
  {
   "cell_type": "markdown",
   "id": "82c98bb3-646b-4af9-8643-7829049f8794",
   "metadata": {},
   "source": [
    "# Evaluate Exercises\n",
    "Do you work for this exercise in either a jupyter notebook named evaluate within your regression-exercises repository. By the end of this exercise you will also create a python script named evaluate, so the overall deliverables for this exercise are the python script and jupyter notebook both with the name evaluate within your regression-exercises repo.\n",
    "\n",
    "1. Load the tips dataset from either pydataset or seaborn.\n",
    "\n",
    "2. Fit a linear regression model (ordinary least squares) and compute yhat, predictions of tip using total_bill.\n",
    "\n",
    "Here is some sample code to get you started:\n",
    "\n",
    "``` python\n",
    "from sklearn.linear_model import LinearRegression\n",
    "\n",
    "# assuming X and y are already defined\n",
    "model = LinearRegression().fit(X, y)\n",
    "predictions = model.predict(X)\n",
    "``` \n",
    "Modify and add to the code above as necessary for it to work with the tips dataset.\n",
    "\n",
    "3. Plot the residuals for the linear regression model that you made.\n",
    "\n",
    "4. Calculate the sum of squared errors, explained sum of squares, total sum of squares, mean squared error, and root mean squared error for your model.\n",
    "\n",
    "5. Calculate the sum of squared errors, mean squared error, and root mean squared error for the baseline model (i.e. a model that always predicts the average tip amount).\n",
    "\n",
    "6. Write python code that compares the sum of squared errors for your model against the sum of squared errors for the baseline model and outputs whether or not your model performs better than the baseline model.\n",
    "\n",
    "7. What is the amount of variance explained in your model?\n",
    "\n",
    "8. Is your model better than the baseline model?\n",
    "\n",
    "9. Create a file named evaluate.py that contains the following functions.\n",
    "\n",
    "- plot_residuals(y, yhat): creates a residual plot\n",
    "- regression_errors(y, yhat): returns the following values:\n",
    "    - sum of squared errors (SSE)\n",
    "    - explained sum of squares (ESS)\n",
    "    - total sum of squares (TSS)\n",
    "    - mean squared error (MSE)\n",
    "    - root mean squared error (RMSE)\n",
    "- baseline_mean_errors(y): computes the SSE, MSE, and RMSE for the baseline model\n",
    "- better_than_baseline(y, yhat): returns true if your model performs better than the baseline, otherwise false\n",
    "10. Load the mpg dataset and fit a model that predicts highway mileage based on engine displacement. Take a look at all the regression evaluation metrics, and determine whether this model is better than the baseline model. Use the functions from your evaluate.py to help accomplish this.\n",
    "\n",
    "<hr style=\"border-top: 10px groove darkmagenta; margin-top: 1px; margin-bottom: 1px\"></hr>"
   ]
  },
  {
   "cell_type": "code",
   "execution_count": 61,
   "id": "0b4eafe5-e151-4526-b5e7-f839d78aa1c2",
   "metadata": {},
   "outputs": [],
   "source": [
    "import pandas as pd\n",
    "import numpy as np\n",
    "import math\n",
    "import matplotlib.pyplot as plt\n",
    "import seaborn as sns\n",
    "\n",
    "from pydataset import data\n",
    "\n",
    "from sklearn.linear_model import LinearRegression\n",
    "from sklearn.metrics import r2_score, mean_squared_error\n",
    "\n",
    "\n",
    "# set seaborn defaults\n",
    "sns.set_palette('plasma')"
   ]
  },
  {
   "cell_type": "code",
   "execution_count": 7,
   "id": "ee8ed58e-ded8-4ba8-ae68-d43b8eff59b9",
   "metadata": {},
   "outputs": [
    {
     "name": "stdout",
     "output_type": "stream",
     "text": [
      "tips\n",
      "\n",
      "PyDataset Documentation (adopted from R Documentation. The displayed examples are in R)\n",
      "\n",
      "## Tipping data\n",
      "\n",
      "### Description\n",
      "\n",
      "One waiter recorded information about each tip he received over a period of a\n",
      "few months working in one restaurant. He collected several variables:\n",
      "\n",
      "### Usage\n",
      "\n",
      "    data(tips)\n",
      "\n",
      "### Format\n",
      "\n",
      "A data frame with 244 rows and 7 variables\n",
      "\n",
      "### Details\n",
      "\n",
      "  * tip in dollars, \n",
      "\n",
      "  * bill in dollars, \n",
      "\n",
      "  * sex of the bill payer, \n",
      "\n",
      "  * whether there were smokers in the party, \n",
      "\n",
      "  * day of the week, \n",
      "\n",
      "  * time of day, \n",
      "\n",
      "  * size of the party. \n",
      "\n",
      "In all he recorded 244 tips. The data was reported in a collection of case\n",
      "studies for business statistics (Bryant & Smith 1995).\n",
      "\n",
      "### References\n",
      "\n",
      "Bryant, P. G. and Smith, M (1995) _Practical Data Analysis: Case Studies in\n",
      "Business Statistics_. Homewood, IL: Richard D. Irwin Publishing:\n",
      "\n",
      "\n"
     ]
    }
   ],
   "source": [
    "# show documentation about tips dataset\n",
    "data('tips', show_doc = True)"
   ]
  },
  {
   "cell_type": "code",
   "execution_count": 8,
   "id": "f1089428-22e4-4b44-999b-48eef400bec1",
   "metadata": {},
   "outputs": [],
   "source": [
    "df = data('tips')"
   ]
  },
  {
   "cell_type": "code",
   "execution_count": 10,
   "id": "a89f2da7-5582-4e71-ae69-510558a47812",
   "metadata": {},
   "outputs": [
    {
     "data": {
      "text/html": [
       "<div>\n",
       "<style scoped>\n",
       "    .dataframe tbody tr th:only-of-type {\n",
       "        vertical-align: middle;\n",
       "    }\n",
       "\n",
       "    .dataframe tbody tr th {\n",
       "        vertical-align: top;\n",
       "    }\n",
       "\n",
       "    .dataframe thead th {\n",
       "        text-align: right;\n",
       "    }\n",
       "</style>\n",
       "<table border=\"1\" class=\"dataframe\">\n",
       "  <thead>\n",
       "    <tr style=\"text-align: right;\">\n",
       "      <th></th>\n",
       "      <th>total_bill</th>\n",
       "      <th>tip</th>\n",
       "      <th>sex</th>\n",
       "      <th>smoker</th>\n",
       "      <th>day</th>\n",
       "      <th>time</th>\n",
       "      <th>size</th>\n",
       "    </tr>\n",
       "  </thead>\n",
       "  <tbody>\n",
       "    <tr>\n",
       "      <th>1</th>\n",
       "      <td>16.99</td>\n",
       "      <td>1.01</td>\n",
       "      <td>Female</td>\n",
       "      <td>No</td>\n",
       "      <td>Sun</td>\n",
       "      <td>Dinner</td>\n",
       "      <td>2</td>\n",
       "    </tr>\n",
       "    <tr>\n",
       "      <th>2</th>\n",
       "      <td>10.34</td>\n",
       "      <td>1.66</td>\n",
       "      <td>Male</td>\n",
       "      <td>No</td>\n",
       "      <td>Sun</td>\n",
       "      <td>Dinner</td>\n",
       "      <td>3</td>\n",
       "    </tr>\n",
       "    <tr>\n",
       "      <th>3</th>\n",
       "      <td>21.01</td>\n",
       "      <td>3.50</td>\n",
       "      <td>Male</td>\n",
       "      <td>No</td>\n",
       "      <td>Sun</td>\n",
       "      <td>Dinner</td>\n",
       "      <td>3</td>\n",
       "    </tr>\n",
       "    <tr>\n",
       "      <th>4</th>\n",
       "      <td>23.68</td>\n",
       "      <td>3.31</td>\n",
       "      <td>Male</td>\n",
       "      <td>No</td>\n",
       "      <td>Sun</td>\n",
       "      <td>Dinner</td>\n",
       "      <td>2</td>\n",
       "    </tr>\n",
       "    <tr>\n",
       "      <th>5</th>\n",
       "      <td>24.59</td>\n",
       "      <td>3.61</td>\n",
       "      <td>Female</td>\n",
       "      <td>No</td>\n",
       "      <td>Sun</td>\n",
       "      <td>Dinner</td>\n",
       "      <td>4</td>\n",
       "    </tr>\n",
       "  </tbody>\n",
       "</table>\n",
       "</div>"
      ],
      "text/plain": [
       "   total_bill   tip     sex smoker  day    time  size\n",
       "1       16.99  1.01  Female     No  Sun  Dinner     2\n",
       "2       10.34  1.66    Male     No  Sun  Dinner     3\n",
       "3       21.01  3.50    Male     No  Sun  Dinner     3\n",
       "4       23.68  3.31    Male     No  Sun  Dinner     2\n",
       "5       24.59  3.61  Female     No  Sun  Dinner     4"
      ]
     },
     "execution_count": 10,
     "metadata": {},
     "output_type": "execute_result"
    }
   ],
   "source": [
    "df.head()"
   ]
  },
  {
   "cell_type": "code",
   "execution_count": 12,
   "id": "9c3e3e64-acbb-4961-954b-c1f87890112d",
   "metadata": {},
   "outputs": [
    {
     "name": "stdout",
     "output_type": "stream",
     "text": [
      "<class 'pandas.core.frame.DataFrame'>\n",
      "Int64Index: 244 entries, 1 to 244\n",
      "Data columns (total 7 columns):\n",
      " #   Column      Non-Null Count  Dtype  \n",
      "---  ------      --------------  -----  \n",
      " 0   total_bill  244 non-null    float64\n",
      " 1   tip         244 non-null    float64\n",
      " 2   sex         244 non-null    object \n",
      " 3   smoker      244 non-null    object \n",
      " 4   day         244 non-null    object \n",
      " 5   time        244 non-null    object \n",
      " 6   size        244 non-null    int64  \n",
      "dtypes: float64(2), int64(1), object(4)\n",
      "memory usage: 15.2+ KB\n"
     ]
    }
   ],
   "source": [
    "df.info()"
   ]
  },
  {
   "cell_type": "code",
   "execution_count": 13,
   "id": "3f692401-1eb4-42db-80ab-1392d133cffa",
   "metadata": {},
   "outputs": [
    {
     "data": {
      "text/plain": [
       "(244, 7)"
      ]
     },
     "execution_count": 13,
     "metadata": {},
     "output_type": "execute_result"
    }
   ],
   "source": [
    "df.shape"
   ]
  },
  {
   "cell_type": "code",
   "execution_count": 18,
   "id": "8d9143d7-3533-481e-be7d-cd5a0e53455b",
   "metadata": {},
   "outputs": [],
   "source": [
    "# set up target, continuous vars, and catigorical variables\n",
    "target = 'tip'\n",
    "cont_vars = ['total_bill']\n",
    "cat_vars = list(df.drop(columns = cont_vars).drop(columns=target).columns)"
   ]
  },
  {
   "cell_type": "markdown",
   "id": "4e682046-05c5-48a4-a9af-f39ed48e7fff",
   "metadata": {},
   "source": [
    "### 2. Fit a linear regression model (ordinary least squares) and compute yhat, predictions of tip using total_bill.\n"
   ]
  },
  {
   "cell_type": "code",
   "execution_count": 21,
   "id": "b29cbb1d-b3bf-4e79-8c8d-2073519fab20",
   "metadata": {},
   "outputs": [],
   "source": [
    "# define X and y\n",
    "X = df[cont_vars]\n",
    "y = df[target]\n",
    "\n",
    "# make model and predctions\n",
    "model = LinearRegression().fit(X, y)\n",
    "predictions = model.predict(X)\n"
   ]
  },
  {
   "cell_type": "code",
   "execution_count": 24,
   "id": "0fde863d-12af-422c-bad6-6be12b450ca3",
   "metadata": {},
   "outputs": [
    {
     "data": {
      "text/html": [
       "<div>\n",
       "<style scoped>\n",
       "    .dataframe tbody tr th:only-of-type {\n",
       "        vertical-align: middle;\n",
       "    }\n",
       "\n",
       "    .dataframe tbody tr th {\n",
       "        vertical-align: top;\n",
       "    }\n",
       "\n",
       "    .dataframe thead th {\n",
       "        text-align: right;\n",
       "    }\n",
       "</style>\n",
       "<table border=\"1\" class=\"dataframe\">\n",
       "  <thead>\n",
       "    <tr style=\"text-align: right;\">\n",
       "      <th></th>\n",
       "      <th>total_bill</th>\n",
       "      <th>tip</th>\n",
       "      <th>sex</th>\n",
       "      <th>smoker</th>\n",
       "      <th>day</th>\n",
       "      <th>time</th>\n",
       "      <th>size</th>\n",
       "      <th>yhat</th>\n",
       "    </tr>\n",
       "  </thead>\n",
       "  <tbody>\n",
       "    <tr>\n",
       "      <th>1</th>\n",
       "      <td>16.99</td>\n",
       "      <td>1.01</td>\n",
       "      <td>Female</td>\n",
       "      <td>No</td>\n",
       "      <td>Sun</td>\n",
       "      <td>Dinner</td>\n",
       "      <td>2</td>\n",
       "      <td>2.704636</td>\n",
       "    </tr>\n",
       "    <tr>\n",
       "      <th>2</th>\n",
       "      <td>10.34</td>\n",
       "      <td>1.66</td>\n",
       "      <td>Male</td>\n",
       "      <td>No</td>\n",
       "      <td>Sun</td>\n",
       "      <td>Dinner</td>\n",
       "      <td>3</td>\n",
       "      <td>2.006223</td>\n",
       "    </tr>\n",
       "  </tbody>\n",
       "</table>\n",
       "</div>"
      ],
      "text/plain": [
       "   total_bill   tip     sex smoker  day    time  size      yhat\n",
       "1       16.99  1.01  Female     No  Sun  Dinner     2  2.704636\n",
       "2       10.34  1.66    Male     No  Sun  Dinner     3  2.006223"
      ]
     },
     "execution_count": 24,
     "metadata": {},
     "output_type": "execute_result"
    }
   ],
   "source": [
    "# add predictions to dataframe\n",
    "df['yhat'] = predictions\n",
    "df.head(2)"
   ]
  },
  {
   "cell_type": "markdown",
   "id": "39008a08-41cb-43e9-972f-c438d2895269",
   "metadata": {},
   "source": [
    "### 3. Plot the residuals for the linear regression model that you made.\n"
   ]
  },
  {
   "cell_type": "code",
   "execution_count": 27,
   "id": "460d1b36-be9c-4927-b019-5308941b05bf",
   "metadata": {},
   "outputs": [],
   "source": [
    "# find risiduals (actuals minus predictions)\n",
    "df['residuals'] = df.tip - df.yhat"
   ]
  },
  {
   "cell_type": "code",
   "execution_count": 40,
   "id": "a3ee962e-ea0f-420c-bdfa-cd4fe576268f",
   "metadata": {},
   "outputs": [
    {
     "data": {
      "image/png": "[encoded data removed]",
      "text/plain": [
       "<Figure size 432x288 with 1 Axes>"
      ]
     },
     "metadata": {
      "needs_background": "light"
     },
     "output_type": "display_data"
    }
   ],
   "source": [
    "# plot distribution of residuals\n",
    "sns.histplot(x = 'residuals', data = df, kde=True)\n",
    "plt.title('Residual Distribution for Model 1')\n",
    "plt.show()"
   ]
  },
  {
   "cell_type": "markdown",
   "id": "cbba154d-1e7e-4fcc-907c-bc59f4665517",
   "metadata": {},
   "source": [
    "### 4. Calculate the sum of squared errors, explained sum of squares, total sum of squares, mean squared error, and root mean squared error for your model.\n",
    "\n",
    "Has to do with the model\n",
    "- Sum of SE\n",
    "- Mean SE\n",
    "- Root Mean SE\n",
    "\n",
    "Has to do with the Average (or baseline)\n",
    "- Explained SS\n",
    "- Total SS\n"
   ]
  },
  {
   "cell_type": "code",
   "execution_count": 58,
   "id": "11acb73e-cdd9-4b0e-a6b8-bba5ed8b20be",
   "metadata": {},
   "outputs": [
    {
     "name": "stdout",
     "output_type": "stream",
     "text": [
      "SSE is 252.79\n"
     ]
    }
   ],
   "source": [
    "# Sum of SE is actuals - predictions, ^2 and added together\n",
    "sse = ((df.tip - df.yhat) ** 2).sum()\n",
    "print(f'SSE is {sse:.5}')"
   ]
  },
  {
   "cell_type": "code",
   "execution_count": 60,
   "id": "6cd34b13-de9a-4502-a012-62c8353dec43",
   "metadata": {},
   "outputs": [
    {
     "name": "stdout",
     "output_type": "stream",
     "text": [
      "MSE is 1.04\n"
     ]
    }
   ],
   "source": [
    "# Mean SE is actuals - predictions, ^2 added together (same as SSE) BUT over the number of things\n",
    "mse = sse / df.shape[0]\n",
    "print(f'MSE is {mse:.3}')"
   ]
  },
  {
   "cell_type": "code",
   "execution_count": 74,
   "id": "42692409-cb7a-4a27-a6e8-f04fb9934f60",
   "metadata": {},
   "outputs": [
    {
     "name": "stdout",
     "output_type": "stream",
     "text": [
      "RMSE is 1.018\n"
     ]
    }
   ],
   "source": [
    "# root mean SE is actuals - predictions, ^2 added together, over the number of things (same as MSE), BUT square root of all that\n",
    "rmse = math.sqrt(mse)\n",
    "print(f'RMSE is {rmse:.4}')"
   ]
  },
  {
   "cell_type": "code",
   "execution_count": 71,
   "id": "18414b46-0edb-4cf4-8dfb-19bde8993f4e",
   "metadata": {},
   "outputs": [
    {
     "name": "stdout",
     "output_type": "stream",
     "text": [
      "ESS is 212.42\n"
     ]
    }
   ],
   "source": [
    "# Explained SS is predictions - baseline (or average) ^ 2, added together\n",
    "ess = ((df.yhat - df.tip.mean()) ** 2).sum()\n",
    "print(f'ESS is {ess:.5}')"
   ]
  },
  {
   "cell_type": "code",
   "execution_count": 70,
   "id": "7ae24180-cda7-46ba-bccc-6f9bf5b5a9f4",
   "metadata": {},
   "outputs": [
    {
     "name": "stdout",
     "output_type": "stream",
     "text": [
      "TSS is 465.21\n"
     ]
    }
   ],
   "source": [
    "# Total SS is actuals - baseline (or average) ^ 2, added together\n",
    "tss = ((df.tip - df.tip.mean()) ** 2).sum()\n",
    "print(f'TSS is {tss:.5}')"
   ]
  },
  {
   "cell_type": "code",
   "execution_count": 80,
   "id": "285c3aa1-9098-4bc1-973a-8764419fa0b5",
   "metadata": {},
   "outputs": [],
   "source": [
    "# create function to do this in one shot \n",
    "\n",
    "def hip_to_be_square(df, actuals, predictions, print_out = False):\n",
    "    '''\n",
    "    This function takes in a dataframe, the name of the actuals columns, the name of the predictions column.\n",
    "    It prints out the Sum of SE, Mean SE, Root Mean SE, Explained SS, and Total SS. \n",
    "    Returns them in 5 variables. In order listed above\n",
    "    ex: sse, mse, rmse, ess, tss = hip_to_be_square(df, 'actuals', 'yhat', print_out = True)\n",
    "    '''\n",
    "    # calculate Sum of Squared Error\n",
    "    sse = ((df[actuals] - df[predictions]) ** 2).sum()\n",
    "    \n",
    "    # calculate Mean of Squared Error\n",
    "    mse = sse / df.shape[0]\n",
    "    \n",
    "    # calculate Root Mean of Squared Error\n",
    "    rmse = mse ** .5\n",
    "    \n",
    "    # calculate Explained Sum of Squares \n",
    "    ess = ((df[predictions] - df[actuals].mean()) ** 2).sum()\n",
    "    \n",
    "    # calculate Total Sum of Squares\n",
    "    tss = ((df[actuals] - df[actuals].mean()) ** 2).sum()\n",
    "    \n",
    "    if print_out == True:\n",
    "        \n",
    "        print(f'''\n",
    "            The Sum of Squared Error: {sse:.2f}\n",
    "            The Mean Squared Error: {mse:.2f}\n",
    "            The Root Mean Squared error: {rmse:.2f}\n",
    "            -----------------------------------\n",
    "            The Mean Explained Sum of Squares: {ess:.2f}\n",
    "            The Total Sum of Squares: {tss:.2f}\n",
    "            ''')\n",
    "    return sse, mse, rmse, ess, tss"
   ]
  },
  {
   "cell_type": "code",
   "execution_count": 83,
   "id": "b5ace5e6-48be-43ed-ba67-3ce925d13954",
   "metadata": {},
   "outputs": [
    {
     "name": "stdout",
     "output_type": "stream",
     "text": [
      "\n",
      "            The Sum of Squared Error: 252.79\n",
      "            The Mean Squared Error: 1.04\n",
      "            The Root Mean Squared error: 1.02\n",
      "            -----------------------------------\n",
      "            The Mean Explained Sum of Squares: 212.42\n",
      "            The Total Sum of Squares: 465.21\n",
      "            \n"
     ]
    }
   ],
   "source": [
    "sse_m, mse, rmse, ess, tss = hip_to_be_square(df, 'tip', 'yhat', print_out = True)"
   ]
  },
  {
   "cell_type": "markdown",
   "id": "af5648fa-5595-4f22-ad4f-332ef42a8c54",
   "metadata": {},
   "source": [
    "### 5. Calculate the sum of squared errors, mean squared error, and root mean squared error for the baseline model (i.e. a model that always predicts the average tip amount)."
   ]
  },
  {
   "cell_type": "code",
   "execution_count": 41,
   "id": "9e94f2d6-2230-47e2-a009-c27200a85fc8",
   "metadata": {},
   "outputs": [
    {
     "data": {
      "text/plain": [
       "2.9982786885245902"
      ]
     },
     "execution_count": 41,
     "metadata": {},
     "output_type": "execute_result"
    }
   ],
   "source": [
    "#create baseline using average tip \n",
    "# hmm that's pretty low I'm going to take a look at min and maxes\n",
    "df.tip.mean() "
   ]
  },
  {
   "cell_type": "code",
   "execution_count": 43,
   "id": "bc63da84-cf98-465e-8427-a977a7a68aa0",
   "metadata": {},
   "outputs": [
    {
     "data": {
      "text/html": [
       "<div>\n",
       "<style scoped>\n",
       "    .dataframe tbody tr th:only-of-type {\n",
       "        vertical-align: middle;\n",
       "    }\n",
       "\n",
       "    .dataframe tbody tr th {\n",
       "        vertical-align: top;\n",
       "    }\n",
       "\n",
       "    .dataframe thead th {\n",
       "        text-align: right;\n",
       "    }\n",
       "</style>\n",
       "<table border=\"1\" class=\"dataframe\">\n",
       "  <thead>\n",
       "    <tr style=\"text-align: right;\">\n",
       "      <th></th>\n",
       "      <th>count</th>\n",
       "      <th>mean</th>\n",
       "      <th>std</th>\n",
       "      <th>min</th>\n",
       "      <th>25%</th>\n",
       "      <th>50%</th>\n",
       "      <th>75%</th>\n",
       "      <th>max</th>\n",
       "    </tr>\n",
       "  </thead>\n",
       "  <tbody>\n",
       "    <tr>\n",
       "      <th>total_bill</th>\n",
       "      <td>244.0</td>\n",
       "      <td>1.978594e+01</td>\n",
       "      <td>8.902412</td>\n",
       "      <td>3.070000</td>\n",
       "      <td>13.347500</td>\n",
       "      <td>17.795000</td>\n",
       "      <td>24.127500</td>\n",
       "      <td>50.810000</td>\n",
       "    </tr>\n",
       "    <tr>\n",
       "      <th>tip</th>\n",
       "      <td>244.0</td>\n",
       "      <td>2.998279e+00</td>\n",
       "      <td>1.383638</td>\n",
       "      <td>1.000000</td>\n",
       "      <td>2.000000</td>\n",
       "      <td>2.900000</td>\n",
       "      <td>3.562500</td>\n",
       "      <td>10.000000</td>\n",
       "    </tr>\n",
       "    <tr>\n",
       "      <th>size</th>\n",
       "      <td>244.0</td>\n",
       "      <td>2.569672e+00</td>\n",
       "      <td>0.951100</td>\n",
       "      <td>1.000000</td>\n",
       "      <td>2.000000</td>\n",
       "      <td>2.000000</td>\n",
       "      <td>3.000000</td>\n",
       "      <td>6.000000</td>\n",
       "    </tr>\n",
       "    <tr>\n",
       "      <th>yhat</th>\n",
       "      <td>244.0</td>\n",
       "      <td>2.998279e+00</td>\n",
       "      <td>0.934972</td>\n",
       "      <td>1.242695</td>\n",
       "      <td>2.322084</td>\n",
       "      <td>2.789181</td>\n",
       "      <td>3.454249</td>\n",
       "      <td>6.256565</td>\n",
       "    </tr>\n",
       "    <tr>\n",
       "      <th>residuals</th>\n",
       "      <td>244.0</td>\n",
       "      <td>3.330669e-16</td>\n",
       "      <td>1.019943</td>\n",
       "      <td>-3.198225</td>\n",
       "      <td>-0.565162</td>\n",
       "      <td>-0.097445</td>\n",
       "      <td>0.486311</td>\n",
       "      <td>3.743435</td>\n",
       "    </tr>\n",
       "  </tbody>\n",
       "</table>\n",
       "</div>"
      ],
      "text/plain": [
       "            count          mean       std       min        25%        50%  \\\n",
       "total_bill  244.0  1.978594e+01  8.902412  3.070000  13.347500  17.795000   \n",
       "tip         244.0  2.998279e+00  1.383638  1.000000   2.000000   2.900000   \n",
       "size        244.0  2.569672e+00  0.951100  1.000000   2.000000   2.000000   \n",
       "yhat        244.0  2.998279e+00  0.934972  1.242695   2.322084   2.789181   \n",
       "residuals   244.0  3.330669e-16  1.019943 -3.198225  -0.565162  -0.097445   \n",
       "\n",
       "                  75%        max  \n",
       "total_bill  24.127500  50.810000  \n",
       "tip          3.562500  10.000000  \n",
       "size         3.000000   6.000000  \n",
       "yhat         3.454249   6.256565  \n",
       "residuals    0.486311   3.743435  "
      ]
     },
     "execution_count": 43,
     "metadata": {},
     "output_type": "execute_result"
    }
   ],
   "source": [
    "# ah ok min bill is $3 and the max is about $50\n",
    "df.describe().T"
   ]
  },
  {
   "cell_type": "code",
   "execution_count": 44,
   "id": "a7c4572d-bc05-4697-8f28-3c58d1cd8425",
   "metadata": {},
   "outputs": [],
   "source": [
    "#onward with creating the baseline\n",
    "df['baseline'] = df.tip.mean() "
   ]
  },
  {
   "cell_type": "code",
   "execution_count": 84,
   "id": "43e6644c-1eac-4225-a2b7-6ecc03c37316",
   "metadata": {},
   "outputs": [
    {
     "name": "stdout",
     "output_type": "stream",
     "text": [
      "\n",
      "            The Sum of Squared Error: 465.21\n",
      "            The Mean Squared Error: 1.91\n",
      "            The Root Mean Squared error: 1.38\n",
      "            -----------------------------------\n",
      "            The Mean Explained Sum of Squares: 0.00\n",
      "            The Total Sum of Squares: 465.21\n",
      "            \n"
     ]
    }
   ],
   "source": [
    "sse_b, mse, rmse, ess, tss = hip_to_be_square(df, 'tip', 'baseline', print_out = True)"
   ]
  },
  {
   "cell_type": "markdown",
   "id": "9cf5649a-d115-4f1a-94a1-5a391d0c5f7b",
   "metadata": {},
   "source": [
    "### 6. Write python code that compares the sum of squared errors for your model against the sum of squared errors for the baseline model and outputs whether or not your model performs better than the baseline model."
   ]
  },
  {
   "cell_type": "code",
   "execution_count": 91,
   "id": "8c51ce77-dee8-4b28-999d-01a0d8e372ca",
   "metadata": {},
   "outputs": [],
   "source": [
    "def sse_compare(sse1, sse2, model1, model2 = 'baseline'):\n",
    "    '''\n",
    "    sse1 must be for model 1\n",
    "    sse2, must be for model 2 (which is by default the baseline)\n",
    "    model1 = string name of the model you're comparing\n",
    "    This function compares two SSEs. and outputs which one performed better\n",
    "    '''\n",
    "    \n",
    "    if sse1 > sse2:\n",
    "        print(f'{model1} is not better than {model2}.')\n",
    "    elif sse1 < sse2:\n",
    "        print(f'{model1} is better than {model2}. Difference: {sse2 - sse1:.2f}')\n",
    "    else:\n",
    "        print(f'{model1} performs the same as {model2}')"
   ]
  },
  {
   "cell_type": "code",
   "execution_count": 92,
   "id": "d81f31d4-8a8d-4f28-b12b-9da828bf53b4",
   "metadata": {},
   "outputs": [
    {
     "name": "stdout",
     "output_type": "stream",
     "text": [
      "model1 is better than baseline. Difference: 212.42\n"
     ]
    }
   ],
   "source": [
    "sse_compare(sse_m, sse_b, 'model1')"
   ]
  },
  {
   "cell_type": "markdown",
   "id": "f9c3a5b7-fa46-48ce-ae4d-d366ebab9aee",
   "metadata": {},
   "source": [
    "### 7. What is the amount of variance explained in your model?\n",
    "- SSE is the amount of Dollars we predict that we're off by\n",
    "- with our model, we reduced the amount we were wrong, by $212 in comparison to the Baseline \n",
    "- Baseline SSE was ~465 and our model's SSE was ~252"
   ]
  },
  {
   "cell_type": "code",
   "execution_count": 87,
   "id": "cce4b6fb-13cb-403d-9a78-79dfbeef825e",
   "metadata": {},
   "outputs": [
    {
     "data": {
      "text/plain": [
       "212.4237331984044"
      ]
     },
     "execution_count": 87,
     "metadata": {},
     "output_type": "execute_result"
    }
   ],
   "source": [
    "sse_b - sse_m"
   ]
  },
  {
   "cell_type": "markdown",
   "id": "da0d937e-92f7-4389-8560-370f9379f33b",
   "metadata": {},
   "source": [
    "### 8. Is your model better than the baseline model?\n",
    "\n",
    "- yes! \n",
    "\n",
    "### 9. Create a file named evaluate.py that contains the following functions.\n",
    "\n",
    "- plot_residuals(y, yhat): creates a residual plot\n",
    "- regression_errors(y, yhat): returns the following values:\n",
    "    - sum of squared errors (SSE)\n",
    "    - explained sum of squares (ESS)\n",
    "    - total sum of squares (TSS)\n",
    "    - mean squared error (MSE)\n",
    "    - root mean squared error (RMSE)\n",
    "- baseline_mean_errors(y): computes the SSE, MSE, and RMSE for the baseline model\n",
    "- better_than_baseline(y, yhat): returns true if your model performs better than the baseline, otherwise false"
   ]
  },
  {
   "cell_type": "code",
   "execution_count": null,
   "id": "77183d17-c4ae-404c-97bb-9d2b4ac86d7b",
   "metadata": {},
   "outputs": [],
   "source": [
    "def battle_of_the_squares(df, actuals, model_predictions, baseline):\n",
    "    '''\n",
    "    df: dataframe (all columns should be located in this dataframe)\n",
    "    actuals: string name of columns that has actuals\n",
    "    model_predictions: string name of column that has predictions for your model\n",
    "    baseline: string name of column that has the baseline in it\n",
    "    \n",
    "    This function takes in arguements, and ouputs whether or not the model performs better than the baseline\n",
    "    '''\n"
   ]
  }
 ],
 "metadata": {
  "kernelspec": {
   "display_name": "Python 3",
   "language": "python",
   "name": "python3"
  },
  "language_info": {
   "codemirror_mode": {
    "name": "ipython",
    "version": 3
   },
   "file_extension": ".py",
   "mimetype": "text/x-python",
   "name": "python",
   "nbconvert_exporter": "python",
   "pygments_lexer": "ipython3",
   "version": "3.8.5"
  }
 },
 "nbformat": 4,
 "nbformat_minor": 5
}
