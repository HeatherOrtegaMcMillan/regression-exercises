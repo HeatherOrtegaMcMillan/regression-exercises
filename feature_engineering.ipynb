{
 "cells": [
  {
   "cell_type": "markdown",
   "id": "de5d0e81-7dc7-4040-948e-f52250443313",
   "metadata": {},
   "source": [
    "# Exercises\n",
    "Do your work for this exercise in a jupyter notebook named feature_engineering within the regression-exercises repo. Add, commit, and push your work.\n",
    "\n",
    "1. Load the tips dataset.\n",
    "\n",
    "    - Create a column named tip_percentage. This should be the tip amount divided by the total bill.\n",
    "    - Create a column named price_per_person. This should be the total bill divided by the party size.\n",
    "    - Before using any of the methods discussed in the lesson, which features do you think would be most important for predicting the tip amount? The tip percentage? \n",
    "        - I think tip percentage might be a good predictor, maybe not in linear regression but when used with total bill it could be good\n",
    "        - But tip percentage is derived from tip so I don't think that would be great\n",
    "        - size of the party might also be a good predictor\n",
    "    - Use all the other numeric features to predict tip amount. Use select k best and recursive feature elimination to select the top 2 features. What are they?\n",
    "        - 'total_bill', 'size'\n",
    "        - 'total_bill', 'tip_percentage'\n",
    "    - Use all the other numeric features to predict tip percentage. Use select k best and recursive feature elimination to select the top 2 features. What are they?\n",
    "        - 'total_bill', 'tip'\n",
    "        - 'tip', 'size'\n",
    "    - Why do you think select k best and recursive feature elimination might give different answers for the top features? Does this change as you change the number of features your are selecting?\n",
    "        - becuase recursive feature elimination takes into account the how the variables work with eachother\n",
    "    \n",
    "2. Write a function named select_kbest that takes in the predictors (X), the target (y), and the number of features to select (k) and returns the names of the top k selected features based on the SelectKBest class. Test your function with the tips dataset. You should see the same results as when you did the process manually.\n",
    "\n",
    "3. Write a function named rfe that takes in the predictors, the target, and the number of features to select. It should return the top k features based on the RFE class. Test your function with the tips dataset. You should see the same results as when you did the process manually.\n",
    "\n",
    "4. Load the swiss dataset and use all the other features to predict Fertility. Find the top 3 features using both select k best and recursive feature elimination (use the functions you just built to help you out).\n"
   ]
  },
  {
   "cell_type": "code",
   "execution_count": 74,
   "id": "bf68275c-cbad-40d4-94f3-3a97ff2b9eb1",
   "metadata": {},
   "outputs": [],
   "source": [
    "import pandas as pd\n",
    "import numpy as np\n",
    "import math\n",
    "#import matplotlib.pyplot as plt\n",
    "#import seaborn as sns\n",
    "\n",
    "from pydataset import data\n",
    "\n",
    "\n",
    "from sklearn.linear_model import LinearRegression\n",
    "from sklearn.tree import DecisionTreeRegressor\n",
    "from sklearn.feature_selection import SelectKBest, f_regression, RFE\n",
    "\n",
    "\n",
    "# set seaborn defaults\n",
    "#sns.set_palette('plasma')"
   ]
  },
  {
   "cell_type": "code",
   "execution_count": 2,
   "id": "f21f8a34-2b83-42d5-b6b1-f741419d6f95",
   "metadata": {},
   "outputs": [],
   "source": [
    "# load the tips dataset\n",
    "df = data('tips')"
   ]
  },
  {
   "cell_type": "code",
   "execution_count": 23,
   "id": "5540cdc5-608f-490f-81f0-7d392a9860eb",
   "metadata": {},
   "outputs": [
    {
     "data": {
      "text/html": [
       "<div>\n",
       "<style scoped>\n",
       "    .dataframe tbody tr th:only-of-type {\n",
       "        vertical-align: middle;\n",
       "    }\n",
       "\n",
       "    .dataframe tbody tr th {\n",
       "        vertical-align: top;\n",
       "    }\n",
       "\n",
       "    .dataframe thead th {\n",
       "        text-align: right;\n",
       "    }\n",
       "</style>\n",
       "<table border=\"1\" class=\"dataframe\">\n",
       "  <thead>\n",
       "    <tr style=\"text-align: right;\">\n",
       "      <th></th>\n",
       "      <th>total_bill</th>\n",
       "      <th>tip</th>\n",
       "      <th>sex</th>\n",
       "      <th>smoker</th>\n",
       "      <th>day</th>\n",
       "      <th>time</th>\n",
       "      <th>size</th>\n",
       "      <th>tip_percentage</th>\n",
       "    </tr>\n",
       "  </thead>\n",
       "  <tbody>\n",
       "    <tr>\n",
       "      <th>1</th>\n",
       "      <td>16.99</td>\n",
       "      <td>1.01</td>\n",
       "      <td>Female</td>\n",
       "      <td>No</td>\n",
       "      <td>Sun</td>\n",
       "      <td>Dinner</td>\n",
       "      <td>2</td>\n",
       "      <td>5.94</td>\n",
       "    </tr>\n",
       "    <tr>\n",
       "      <th>2</th>\n",
       "      <td>10.34</td>\n",
       "      <td>1.66</td>\n",
       "      <td>Male</td>\n",
       "      <td>No</td>\n",
       "      <td>Sun</td>\n",
       "      <td>Dinner</td>\n",
       "      <td>3</td>\n",
       "      <td>16.05</td>\n",
       "    </tr>\n",
       "    <tr>\n",
       "      <th>3</th>\n",
       "      <td>21.01</td>\n",
       "      <td>3.50</td>\n",
       "      <td>Male</td>\n",
       "      <td>No</td>\n",
       "      <td>Sun</td>\n",
       "      <td>Dinner</td>\n",
       "      <td>3</td>\n",
       "      <td>16.66</td>\n",
       "    </tr>\n",
       "  </tbody>\n",
       "</table>\n",
       "</div>"
      ],
      "text/plain": [
       "   total_bill   tip     sex smoker  day    time  size  tip_percentage\n",
       "1       16.99  1.01  Female     No  Sun  Dinner     2            5.94\n",
       "2       10.34  1.66    Male     No  Sun  Dinner     3           16.05\n",
       "3       21.01  3.50    Male     No  Sun  Dinner     3           16.66"
      ]
     },
     "execution_count": 23,
     "metadata": {},
     "output_type": "execute_result"
    }
   ],
   "source": [
    "# create new column with tip percentage\n",
    "df['tip_percentage'] = round((df.tip/ df.total_bill * 100), 2)\n",
    "df.head(3)"
   ]
  },
  {
   "cell_type": "code",
   "execution_count": 24,
   "id": "b751f584-5184-4064-922e-20820019702a",
   "metadata": {},
   "outputs": [],
   "source": [
    "# create new column price per person\n",
    "df['price_per_person'] = round(df['total_bill'] / df['size'], 2)"
   ]
  },
  {
   "cell_type": "code",
   "execution_count": 25,
   "id": "4a619a9d-95f6-4bb7-9bca-8bdd888f7ee5",
   "metadata": {},
   "outputs": [
    {
     "data": {
      "text/html": [
       "<div>\n",
       "<style scoped>\n",
       "    .dataframe tbody tr th:only-of-type {\n",
       "        vertical-align: middle;\n",
       "    }\n",
       "\n",
       "    .dataframe tbody tr th {\n",
       "        vertical-align: top;\n",
       "    }\n",
       "\n",
       "    .dataframe thead th {\n",
       "        text-align: right;\n",
       "    }\n",
       "</style>\n",
       "<table border=\"1\" class=\"dataframe\">\n",
       "  <thead>\n",
       "    <tr style=\"text-align: right;\">\n",
       "      <th></th>\n",
       "      <th>total_bill</th>\n",
       "      <th>tip</th>\n",
       "      <th>sex</th>\n",
       "      <th>smoker</th>\n",
       "      <th>day</th>\n",
       "      <th>time</th>\n",
       "      <th>size</th>\n",
       "      <th>tip_percentage</th>\n",
       "      <th>price_per_person</th>\n",
       "    </tr>\n",
       "  </thead>\n",
       "  <tbody>\n",
       "    <tr>\n",
       "      <th>1</th>\n",
       "      <td>16.99</td>\n",
       "      <td>1.01</td>\n",
       "      <td>Female</td>\n",
       "      <td>No</td>\n",
       "      <td>Sun</td>\n",
       "      <td>Dinner</td>\n",
       "      <td>2</td>\n",
       "      <td>5.94</td>\n",
       "      <td>8.49</td>\n",
       "    </tr>\n",
       "    <tr>\n",
       "      <th>2</th>\n",
       "      <td>10.34</td>\n",
       "      <td>1.66</td>\n",
       "      <td>Male</td>\n",
       "      <td>No</td>\n",
       "      <td>Sun</td>\n",
       "      <td>Dinner</td>\n",
       "      <td>3</td>\n",
       "      <td>16.05</td>\n",
       "      <td>3.45</td>\n",
       "    </tr>\n",
       "    <tr>\n",
       "      <th>3</th>\n",
       "      <td>21.01</td>\n",
       "      <td>3.50</td>\n",
       "      <td>Male</td>\n",
       "      <td>No</td>\n",
       "      <td>Sun</td>\n",
       "      <td>Dinner</td>\n",
       "      <td>3</td>\n",
       "      <td>16.66</td>\n",
       "      <td>7.00</td>\n",
       "    </tr>\n",
       "  </tbody>\n",
       "</table>\n",
       "</div>"
      ],
      "text/plain": [
       "   total_bill   tip     sex smoker  day    time  size  tip_percentage  \\\n",
       "1       16.99  1.01  Female     No  Sun  Dinner     2            5.94   \n",
       "2       10.34  1.66    Male     No  Sun  Dinner     3           16.05   \n",
       "3       21.01  3.50    Male     No  Sun  Dinner     3           16.66   \n",
       "\n",
       "   price_per_person  \n",
       "1              8.49  \n",
       "2              3.45  \n",
       "3              7.00  "
      ]
     },
     "execution_count": 25,
     "metadata": {},
     "output_type": "execute_result"
    }
   ],
   "source": [
    "df.head(3)"
   ]
  },
  {
   "cell_type": "code",
   "execution_count": 54,
   "id": "cc7f4e2a-d9d5-49ac-84c7-724a58f22c88",
   "metadata": {},
   "outputs": [
    {
     "data": {
      "text/html": [
       "<div>\n",
       "<style scoped>\n",
       "    .dataframe tbody tr th:only-of-type {\n",
       "        vertical-align: middle;\n",
       "    }\n",
       "\n",
       "    .dataframe tbody tr th {\n",
       "        vertical-align: top;\n",
       "    }\n",
       "\n",
       "    .dataframe thead th {\n",
       "        text-align: right;\n",
       "    }\n",
       "</style>\n",
       "<table border=\"1\" class=\"dataframe\">\n",
       "  <thead>\n",
       "    <tr style=\"text-align: right;\">\n",
       "      <th></th>\n",
       "      <th>total_bill</th>\n",
       "      <th>size</th>\n",
       "      <th>tip_percentage</th>\n",
       "      <th>price_per_person</th>\n",
       "    </tr>\n",
       "  </thead>\n",
       "  <tbody>\n",
       "    <tr>\n",
       "      <th>1</th>\n",
       "      <td>16.99</td>\n",
       "      <td>2</td>\n",
       "      <td>5.94</td>\n",
       "      <td>8.49</td>\n",
       "    </tr>\n",
       "    <tr>\n",
       "      <th>2</th>\n",
       "      <td>10.34</td>\n",
       "      <td>3</td>\n",
       "      <td>16.05</td>\n",
       "      <td>3.45</td>\n",
       "    </tr>\n",
       "    <tr>\n",
       "      <th>3</th>\n",
       "      <td>21.01</td>\n",
       "      <td>3</td>\n",
       "      <td>16.66</td>\n",
       "      <td>7.00</td>\n",
       "    </tr>\n",
       "    <tr>\n",
       "      <th>4</th>\n",
       "      <td>23.68</td>\n",
       "      <td>2</td>\n",
       "      <td>13.98</td>\n",
       "      <td>11.84</td>\n",
       "    </tr>\n",
       "    <tr>\n",
       "      <th>5</th>\n",
       "      <td>24.59</td>\n",
       "      <td>4</td>\n",
       "      <td>14.68</td>\n",
       "      <td>6.15</td>\n",
       "    </tr>\n",
       "  </tbody>\n",
       "</table>\n",
       "</div>"
      ],
      "text/plain": [
       "   total_bill  size  tip_percentage  price_per_person\n",
       "1       16.99     2            5.94              8.49\n",
       "2       10.34     3           16.05              3.45\n",
       "3       21.01     3           16.66              7.00\n",
       "4       23.68     2           13.98             11.84\n",
       "5       24.59     4           14.68              6.15"
      ]
     },
     "execution_count": 54,
     "metadata": {},
     "output_type": "execute_result"
    }
   ],
   "source": [
    "# remember this. Very helpful for dividing up columns\n",
    "\n",
    "df.drop(columns='tip').select_dtypes(include=['float64', 'int64']).head()\n"
   ]
  },
  {
   "cell_type": "code",
   "execution_count": 79,
   "id": "e1a734a7-8ec8-4890-bcf0-92ae4d64de48",
   "metadata": {},
   "outputs": [],
   "source": [
    "# assign X and y\n",
    "X_df = df[df.drop(columns='tip').select_dtypes(include=['float64', 'int64']).columns]\n",
    "y_df = df['tip']"
   ]
  },
  {
   "cell_type": "code",
   "execution_count": 80,
   "id": "97a075d0-ab97-476e-a3ae-e9cfa4119fc9",
   "metadata": {},
   "outputs": [
    {
     "data": {
      "text/plain": [
       "SelectKBest(k=3, score_func=<function f_regression at 0x7fa5588f69d0>)"
      ]
     },
     "execution_count": 80,
     "metadata": {},
     "output_type": "execute_result"
    }
   ],
   "source": [
    "# here's where we do the Select K Best. use the score_func= f_regression\n",
    "f_selector = SelectKBest(score_func=f_regression, k=3)\n",
    "f_selector.fit(X_df, y_df)"
   ]
  },
  {
   "cell_type": "code",
   "execution_count": 67,
   "id": "4cdf5198-1bfe-43aa-a02c-268b9be62ad2",
   "metadata": {},
   "outputs": [
    {
     "data": {
      "text/plain": [
       "array([ True,  True, False,  True])"
      ]
     },
     "execution_count": 67,
     "metadata": {},
     "output_type": "execute_result"
    }
   ],
   "source": [
    "besties = f_selector.get_support()\n",
    "besties"
   ]
  },
  {
   "cell_type": "code",
   "execution_count": 68,
   "id": "d8bb1e58-8fed-4c6a-abce-47a6eaed1e2a",
   "metadata": {},
   "outputs": [
    {
     "data": {
      "text/plain": [
       "Index(['total_bill', 'size', 'price_per_person'], dtype='object')"
      ]
     },
     "execution_count": 68,
     "metadata": {},
     "output_type": "execute_result"
    }
   ],
   "source": [
    "# these are the best features according to Select K Best\n",
    "X_df.columns[besties]"
   ]
  },
  {
   "cell_type": "code",
   "execution_count": 81,
   "id": "b7711ca6-bc80-45e3-939c-a5a17c4c351e",
   "metadata": {},
   "outputs": [
    {
     "data": {
      "text/plain": [
       "RFE(estimator=LinearRegression(), n_features_to_select=2)"
      ]
     },
     "execution_count": 81,
     "metadata": {},
     "output_type": "execute_result"
    }
   ],
   "source": [
    "lm = LinearRegression()\n",
    "rfe = RFE(estimator=lm, n_features_to_select=2)\n",
    "rfe.fit(X_df, y_df)"
   ]
  },
  {
   "cell_type": "code",
   "execution_count": 82,
   "id": "2d6d04ee-d301-459a-8730-603e5444f5ec",
   "metadata": {},
   "outputs": [
    {
     "data": {
      "text/plain": [
       "array([ True, False,  True, False])"
      ]
     },
     "execution_count": 82,
     "metadata": {},
     "output_type": "execute_result"
    }
   ],
   "source": [
    "rfe.support_"
   ]
  },
  {
   "cell_type": "code",
   "execution_count": 83,
   "id": "63f898f6-2b08-4e0c-83d3-4bc3985d7545",
   "metadata": {},
   "outputs": [
    {
     "data": {
      "text/plain": [
       "Index(['total_bill', 'tip_percentage'], dtype='object')"
      ]
     },
     "execution_count": 83,
     "metadata": {},
     "output_type": "execute_result"
    }
   ],
   "source": [
    "X_df.columns[rfe.support_]"
   ]
  },
  {
   "cell_type": "markdown",
   "id": "8ab6e83f-5e4c-4aae-942e-4306f088f044",
   "metadata": {},
   "source": [
    "<hr style=\"border-top: 10px groove darkmagenta; margin-top: 1px; margin-bottom: 1px\"></hr>"
   ]
  },
  {
   "cell_type": "code",
   "execution_count": 84,
   "id": "f872a4e9-8220-41bf-ac58-c0b730865564",
   "metadata": {},
   "outputs": [],
   "source": [
    "X_df = df[df.drop(columns='tip_percentage').select_dtypes(include=['float64', 'int64']).columns]\n",
    "y_df = df['tip_percentage']"
   ]
  },
  {
   "cell_type": "code",
   "execution_count": 71,
   "id": "079ca283-4a7d-4b94-a01b-2e848b0e6b36",
   "metadata": {},
   "outputs": [
    {
     "data": {
      "text/plain": [
       "SelectKBest(k=2, score_func=<function f_regression at 0x7fa5588f69d0>)"
      ]
     },
     "execution_count": 71,
     "metadata": {},
     "output_type": "execute_result"
    }
   ],
   "source": [
    "f_selector = SelectKBest(score_func=f_regression, k=2)\n",
    "f_selector.fit(X_df, y_df)"
   ]
  },
  {
   "cell_type": "code",
   "execution_count": 72,
   "id": "593b0509-7b63-4b1d-bbca-c13e2a9e7d9a",
   "metadata": {},
   "outputs": [
    {
     "data": {
      "text/plain": [
       "array([ True,  True, False, False])"
      ]
     },
     "execution_count": 72,
     "metadata": {},
     "output_type": "execute_result"
    }
   ],
   "source": [
    "besties = f_selector.get_support()\n",
    "besties"
   ]
  },
  {
   "cell_type": "code",
   "execution_count": 87,
   "id": "dfd87201-df67-4b35-8a37-f591cf8204a5",
   "metadata": {},
   "outputs": [
    {
     "data": {
      "text/plain": [
       "Index(['total_bill', 'tip'], dtype='object')"
      ]
     },
     "execution_count": 87,
     "metadata": {},
     "output_type": "execute_result"
    }
   ],
   "source": [
    "X_df.columns[besties]"
   ]
  },
  {
   "cell_type": "code",
   "execution_count": 90,
   "id": "1c544399-05aa-42b8-bf83-4b41570a2074",
   "metadata": {},
   "outputs": [
    {
     "data": {
      "text/plain": [
       "['total_bill', 'tip']"
      ]
     },
     "execution_count": 90,
     "metadata": {},
     "output_type": "execute_result"
    }
   ],
   "source": [
    "list(X_df.columns[besties])"
   ]
  },
  {
   "cell_type": "code",
   "execution_count": 85,
   "id": "c02b840c-0790-490d-894e-4ba42e63d790",
   "metadata": {},
   "outputs": [
    {
     "data": {
      "text/plain": [
       "RFE(estimator=LinearRegression(), n_features_to_select=2)"
      ]
     },
     "execution_count": 85,
     "metadata": {},
     "output_type": "execute_result"
    }
   ],
   "source": [
    "lm = LinearRegression()\n",
    "rfe = RFE(estimator=lm, n_features_to_select=2)\n",
    "rfe.fit(X_df, y_df)"
   ]
  },
  {
   "cell_type": "code",
   "execution_count": 86,
   "id": "ab1d6a1b-2142-4a77-9631-2ede9633bcaf",
   "metadata": {},
   "outputs": [
    {
     "data": {
      "text/plain": [
       "Index(['tip', 'size'], dtype='object')"
      ]
     },
     "execution_count": 86,
     "metadata": {},
     "output_type": "execute_result"
    }
   ],
   "source": [
    "X_df.columns[rfe.support_]"
   ]
  },
  {
   "cell_type": "markdown",
   "id": "fcf90af5-dc58-4edf-84c0-b72476b595e7",
   "metadata": {},
   "source": [
    "<hr style=\"border-top: 10px groove darkmagenta; margin-top: 1px; margin-bottom: 1px\"></hr>\n",
    "2. Write a function named select_kbest that takes in the predictors (X), the target (y), and the number of features to select (k) and returns the names of the top k selected features based on the SelectKBest class. Test your function with the tips dataset. You should see the same results as when you did the process manually."
   ]
  },
  {
   "cell_type": "code",
   "execution_count": 91,
   "id": "13c78de8-71ac-4a6a-ac34-206addb06866",
   "metadata": {},
   "outputs": [],
   "source": [
    "def select_kbest(X, y, k, score_func=f_regression):\n",
    "    '''\n",
    "    takes in the predictors (X), the target (y), and the number of features to select (k) \n",
    "    and returns the names (in a list) of the top k selected features based on the SelectKBest class\n",
    "    Optional arg: score_func. Default is f_regression. other options ex: f_classif \n",
    "    '''\n",
    "    # create selector\n",
    "    f_selector = SelectKBest(score_func=score_func, k=k)\n",
    "    \n",
    "    #fit to X and y\n",
    "    f_selector.fit(X, y)\n",
    "    \n",
    "    # return the list of the column names that are the top k selected features\n",
    "    return list(X.columns[f_selector.get_support()])"
   ]
  },
  {
   "cell_type": "code",
   "execution_count": 92,
   "id": "e0c631e4-4b45-4d53-86d1-ae6e57d471e7",
   "metadata": {},
   "outputs": [],
   "source": [
    "# little test using X and y from before\n",
    "my_cols = select_kbest(X_df, y_df, 2)"
   ]
  },
  {
   "cell_type": "code",
   "execution_count": 93,
   "id": "1aaa918d-505f-4a8c-85d9-207fc4321e4d",
   "metadata": {},
   "outputs": [
    {
     "data": {
      "text/plain": [
       "['total_bill', 'tip']"
      ]
     },
     "execution_count": 93,
     "metadata": {},
     "output_type": "execute_result"
    }
   ],
   "source": [
    "my_cols"
   ]
  },
  {
   "cell_type": "markdown",
   "id": "82464c4d-727e-4a1f-8445-64b5a01922f0",
   "metadata": {},
   "source": [
    "<hr style=\"border-top: 10px groove darkmagenta; margin-top: 1px; margin-bottom: 1px\"></hr>\n",
    "3. Write a function named rfe that takes in the predictors, the target, and the number of features to select. It should return the top k features based on the RFE class. Test your function with the tips dataset. You should see the same results as when you did the process manually."
   ]
  },
  {
   "cell_type": "code",
   "execution_count": 126,
   "id": "46c2fdf1-f8d8-4ea2-a16e-13815a44b1dd",
   "metadata": {},
   "outputs": [],
   "source": [
    "def rfe(X, y, n, estimator=LinearRegression()):\n",
    "    '''\n",
    "    takes in the predictors (X), the target (y), and the number of features to select (n) \n",
    "    and returns the names (in a list) of the top k selected features based on the Recursive Feature Elimination class\n",
    "    Optional arg: estimator. Default is LinearRegression()\n",
    "    '''\n",
    "    # use the estimator model to create estimator\n",
    "    est = estimator\n",
    "    \n",
    "    # set up with estimator and n_features\n",
    "    rfe = RFE(estimator=est, n_features_to_select=n)\n",
    "    \n",
    "    # fit to X and y\n",
    "    rfe.fit(X, y)\n",
    "    \n",
    "    # return the list of the columns \n",
    "    \n",
    "    return list(X.columns[rfe.support_])\n"
   ]
  },
  {
   "cell_type": "code",
   "execution_count": 127,
   "id": "6b4bb657-f2cc-4d6d-b7a1-375770a50fe0",
   "metadata": {},
   "outputs": [
    {
     "data": {
      "text/plain": [
       "['tip', 'size']"
      ]
     },
     "execution_count": 127,
     "metadata": {},
     "output_type": "execute_result"
    }
   ],
   "source": [
    "# test the function\n",
    "my_cols = rfe(X_df, y_df, 2)\n",
    "my_cols"
   ]
  },
  {
   "cell_type": "markdown",
   "id": "d0723200-1337-4fbb-b43e-653fe9cec6c1",
   "metadata": {},
   "source": [
    "<hr style=\"border-top: 10px groove darkmagenta; margin-top: 1px; margin-bottom: 1px\"></hr>\n",
    "4. Load the swiss dataset and use all the other features to predict Fertility. Find the top 3 features using both select k best and recursive feature elimination (use the functions you just built to help you out)."
   ]
  },
  {
   "cell_type": "code",
   "execution_count": 99,
   "id": "0ecbfe10-4f05-46f1-80a3-caa94b9634e8",
   "metadata": {},
   "outputs": [],
   "source": [
    "swiss_df = data('swiss')"
   ]
  },
  {
   "cell_type": "code",
   "execution_count": 100,
   "id": "f1bd230d-5be1-43a7-9d2f-337fd103ee7a",
   "metadata": {},
   "outputs": [
    {
     "data": {
      "text/html": [
       "<div>\n",
       "<style scoped>\n",
       "    .dataframe tbody tr th:only-of-type {\n",
       "        vertical-align: middle;\n",
       "    }\n",
       "\n",
       "    .dataframe tbody tr th {\n",
       "        vertical-align: top;\n",
       "    }\n",
       "\n",
       "    .dataframe thead th {\n",
       "        text-align: right;\n",
       "    }\n",
       "</style>\n",
       "<table border=\"1\" class=\"dataframe\">\n",
       "  <thead>\n",
       "    <tr style=\"text-align: right;\">\n",
       "      <th></th>\n",
       "      <th>Fertility</th>\n",
       "      <th>Agriculture</th>\n",
       "      <th>Examination</th>\n",
       "      <th>Education</th>\n",
       "      <th>Catholic</th>\n",
       "      <th>Infant.Mortality</th>\n",
       "    </tr>\n",
       "  </thead>\n",
       "  <tbody>\n",
       "    <tr>\n",
       "      <th>Courtelary</th>\n",
       "      <td>80.2</td>\n",
       "      <td>17.0</td>\n",
       "      <td>15</td>\n",
       "      <td>12</td>\n",
       "      <td>9.96</td>\n",
       "      <td>22.2</td>\n",
       "    </tr>\n",
       "    <tr>\n",
       "      <th>Delemont</th>\n",
       "      <td>83.1</td>\n",
       "      <td>45.1</td>\n",
       "      <td>6</td>\n",
       "      <td>9</td>\n",
       "      <td>84.84</td>\n",
       "      <td>22.2</td>\n",
       "    </tr>\n",
       "    <tr>\n",
       "      <th>Franches-Mnt</th>\n",
       "      <td>92.5</td>\n",
       "      <td>39.7</td>\n",
       "      <td>5</td>\n",
       "      <td>5</td>\n",
       "      <td>93.40</td>\n",
       "      <td>20.2</td>\n",
       "    </tr>\n",
       "    <tr>\n",
       "      <th>Moutier</th>\n",
       "      <td>85.8</td>\n",
       "      <td>36.5</td>\n",
       "      <td>12</td>\n",
       "      <td>7</td>\n",
       "      <td>33.77</td>\n",
       "      <td>20.3</td>\n",
       "    </tr>\n",
       "    <tr>\n",
       "      <th>Neuveville</th>\n",
       "      <td>76.9</td>\n",
       "      <td>43.5</td>\n",
       "      <td>17</td>\n",
       "      <td>15</td>\n",
       "      <td>5.16</td>\n",
       "      <td>20.6</td>\n",
       "    </tr>\n",
       "  </tbody>\n",
       "</table>\n",
       "</div>"
      ],
      "text/plain": [
       "              Fertility  Agriculture  Examination  Education  Catholic  \\\n",
       "Courtelary         80.2         17.0           15         12      9.96   \n",
       "Delemont           83.1         45.1            6          9     84.84   \n",
       "Franches-Mnt       92.5         39.7            5          5     93.40   \n",
       "Moutier            85.8         36.5           12          7     33.77   \n",
       "Neuveville         76.9         43.5           17         15      5.16   \n",
       "\n",
       "              Infant.Mortality  \n",
       "Courtelary                22.2  \n",
       "Delemont                  22.2  \n",
       "Franches-Mnt              20.2  \n",
       "Moutier                   20.3  \n",
       "Neuveville                20.6  "
      ]
     },
     "execution_count": 100,
     "metadata": {},
     "output_type": "execute_result"
    }
   ],
   "source": [
    "swiss_df.head()"
   ]
  },
  {
   "cell_type": "code",
   "execution_count": 101,
   "id": "bfcfd62d-120c-4aae-9613-8afa6f77227f",
   "metadata": {},
   "outputs": [
    {
     "name": "stdout",
     "output_type": "stream",
     "text": [
      "<class 'pandas.core.frame.DataFrame'>\n",
      "Index: 47 entries, Courtelary to Rive Gauche\n",
      "Data columns (total 6 columns):\n",
      " #   Column            Non-Null Count  Dtype  \n",
      "---  ------            --------------  -----  \n",
      " 0   Fertility         47 non-null     float64\n",
      " 1   Agriculture       47 non-null     float64\n",
      " 2   Examination       47 non-null     int64  \n",
      " 3   Education         47 non-null     int64  \n",
      " 4   Catholic          47 non-null     float64\n",
      " 5   Infant.Mortality  47 non-null     float64\n",
      "dtypes: float64(4), int64(2)\n",
      "memory usage: 2.6+ KB\n"
     ]
    }
   ],
   "source": [
    "swiss_df.info()"
   ]
  },
  {
   "cell_type": "code",
   "execution_count": 112,
   "id": "0e63194f-39b4-46e4-9ddb-92b88d65c0c4",
   "metadata": {},
   "outputs": [],
   "source": [
    "# set up X and y\n",
    "X_swiss = swiss_df[swiss_df.drop(columns='Fertility').columns]\n",
    "y_swiss = swiss_df.Fertility"
   ]
  },
  {
   "cell_type": "code",
   "execution_count": 109,
   "id": "162ba471-2f9d-4059-a15b-49d20b243ada",
   "metadata": {},
   "outputs": [
    {
     "data": {
      "text/plain": [
       "['Examination', 'Education', 'Catholic']"
      ]
     },
     "execution_count": 109,
     "metadata": {},
     "output_type": "execute_result"
    }
   ],
   "source": [
    "# use function from above to select 3 best using Select K Best\n",
    "swiss_k_best = select_kbest(X_swiss, y_swiss, 3)\n",
    "swiss_k_best"
   ]
  },
  {
   "cell_type": "code",
   "execution_count": 128,
   "id": "7f3ff68f-b72c-4bf4-ab00-44ae6a1ac466",
   "metadata": {},
   "outputs": [
    {
     "data": {
      "text/plain": [
       "['Examination', 'Education', 'Infant.Mortality']"
      ]
     },
     "execution_count": 128,
     "metadata": {},
     "output_type": "execute_result"
    }
   ],
   "source": [
    "# use function from above to select 3 best usng RFE\n",
    "swiss_rfe_best = rfe(X_swiss, y_swiss, 3)\n",
    "swiss_rfe_best"
   ]
  },
  {
   "cell_type": "code",
   "execution_count": null,
   "id": "c16628d9-a480-4236-b585-0cd656eace53",
   "metadata": {},
   "outputs": [],
   "source": []
  },
  {
   "cell_type": "code",
   "execution_count": null,
   "id": "acecdd4c-b8dd-4081-9566-f32cf654e416",
   "metadata": {},
   "outputs": [],
   "source": []
  },
  {
   "cell_type": "code",
   "execution_count": null,
   "id": "fc36732e-a92f-41f1-94b4-e6486685663e",
   "metadata": {},
   "outputs": [],
   "source": []
  }
 ],
 "metadata": {
  "kernelspec": {
   "display_name": "Python 3",
   "language": "python",
   "name": "python3"
  },
  "language_info": {
   "codemirror_mode": {
    "name": "ipython",
    "version": 3
   },
   "file_extension": ".py",
   "mimetype": "text/x-python",
   "name": "python",
   "nbconvert_exporter": "python",
   "pygments_lexer": "ipython3",
   "version": "3.8.5"
  }
 },
 "nbformat": 4,
 "nbformat_minor": 5
}
