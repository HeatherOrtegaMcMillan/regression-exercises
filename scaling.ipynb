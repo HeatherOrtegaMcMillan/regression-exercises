{
 "cells": [
  {
   "cell_type": "markdown",
   "id": "8ff329a4-32b7-4317-af45-867e8cfb8599",
   "metadata": {},
   "source": [
    "# Scaling\n",
    "Do your work for these exercises in a jupyter notebook named scaling. Use the telco dataset you acquired and prepped in previous lesson. Once you are finished, you may wish to repeat the exercises on another dataset for additional practice.\n",
    "\n",
    "1. Apply the scalers we talked about in this lesson to your data and visualize the results for the unscaled and scaled distribution .\n",
    "2. Apply the .inverse_transform method to your scaled data. Is the resulting dataset the exact same as the original data?\n",
    "3. Read the documentation for sklearn's QuantileTransformer. Use normal for the output_distribution and apply this scaler to your data. Visualize the result of your data scaling.\n",
    "4. Use the QuantileTransformer, but omit the output_distribution argument. Visualize your results. What do you notice?\n",
    "5. Based on the work you've done, choose a scaling method for your dataset. Write a function within your prepare.py that accepts as input the train, validate, and test data splits, and returns the scaled versions of each. Be sure to only learn the parameters for scaling from your training data!"
   ]
  },
  {
   "cell_type": "code",
   "execution_count": 154,
   "id": "76af9eb6-44cd-4eea-84f5-acda513b29ae",
   "metadata": {},
   "outputs": [],
   "source": [
    "import pandas as pd\n",
    "import numpy as np\n",
    "\n",
    "import acquire\n",
    "import wrangle as w\n",
    "\n",
    "import matplotlib.pyplot as plt\n",
    "import seaborn as sns\n",
    "\n",
    "from sklearn.preprocessing import MinMaxScaler, RobustScaler, StandardScaler, QuantileTransformer"
   ]
  },
  {
   "cell_type": "code",
   "execution_count": 75,
   "id": "17d8f6f1-6e25-4dd7-a856-ce0c17218b6c",
   "metadata": {},
   "outputs": [],
   "source": [
    "# get data\n",
    "df = w.wrangle_telco()"
   ]
  },
  {
   "cell_type": "code",
   "execution_count": 76,
   "id": "15ded902-7c67-4838-b25b-ab01d4133ede",
   "metadata": {},
   "outputs": [
    {
     "data": {
      "text/html": [
       "<div>\n",
       "<style scoped>\n",
       "    .dataframe tbody tr th:only-of-type {\n",
       "        vertical-align: middle;\n",
       "    }\n",
       "\n",
       "    .dataframe tbody tr th {\n",
       "        vertical-align: top;\n",
       "    }\n",
       "\n",
       "    .dataframe thead th {\n",
       "        text-align: right;\n",
       "    }\n",
       "</style>\n",
       "<table border=\"1\" class=\"dataframe\">\n",
       "  <thead>\n",
       "    <tr style=\"text-align: right;\">\n",
       "      <th></th>\n",
       "      <th>customer_id</th>\n",
       "      <th>monthly_charges</th>\n",
       "      <th>tenure</th>\n",
       "      <th>total_charges</th>\n",
       "    </tr>\n",
       "  </thead>\n",
       "  <tbody>\n",
       "    <tr>\n",
       "      <th>0</th>\n",
       "      <td>0002-ORFBO</td>\n",
       "      <td>65.6</td>\n",
       "      <td>9</td>\n",
       "      <td>593.30</td>\n",
       "    </tr>\n",
       "    <tr>\n",
       "      <th>1</th>\n",
       "      <td>0003-MKNFE</td>\n",
       "      <td>59.9</td>\n",
       "      <td>9</td>\n",
       "      <td>542.40</td>\n",
       "    </tr>\n",
       "    <tr>\n",
       "      <th>2</th>\n",
       "      <td>0004-TLHLJ</td>\n",
       "      <td>73.9</td>\n",
       "      <td>4</td>\n",
       "      <td>280.85</td>\n",
       "    </tr>\n",
       "    <tr>\n",
       "      <th>3</th>\n",
       "      <td>0011-IGKFF</td>\n",
       "      <td>98.0</td>\n",
       "      <td>13</td>\n",
       "      <td>1237.85</td>\n",
       "    </tr>\n",
       "    <tr>\n",
       "      <th>4</th>\n",
       "      <td>0013-EXCHZ</td>\n",
       "      <td>83.9</td>\n",
       "      <td>3</td>\n",
       "      <td>267.40</td>\n",
       "    </tr>\n",
       "  </tbody>\n",
       "</table>\n",
       "</div>"
      ],
      "text/plain": [
       "  customer_id  monthly_charges  tenure  total_charges\n",
       "0  0002-ORFBO             65.6       9         593.30\n",
       "1  0003-MKNFE             59.9       9         542.40\n",
       "2  0004-TLHLJ             73.9       4         280.85\n",
       "3  0011-IGKFF             98.0      13        1237.85\n",
       "4  0013-EXCHZ             83.9       3         267.40"
      ]
     },
     "execution_count": 76,
     "metadata": {},
     "output_type": "execute_result"
    }
   ],
   "source": [
    "df.head()"
   ]
  },
  {
   "cell_type": "code",
   "execution_count": 77,
   "id": "ed5fbd40-1564-4802-8006-63a202437344",
   "metadata": {},
   "outputs": [
    {
     "name": "stdout",
     "output_type": "stream",
     "text": [
      "train --> (3943, 4)\n",
      "validate --> (1691, 4)\n",
      "test --> (1409, 4)\n"
     ]
    }
   ],
   "source": [
    "train, test, split = w.banana_split(df)"
   ]
  },
  {
   "cell_type": "code",
   "execution_count": null,
   "id": "00ff6e0e-4202-445b-8f1e-761df1df3c97",
   "metadata": {},
   "outputs": [],
   "source": [
    "# use Min_max scaler"
   ]
  },
  {
   "cell_type": "code",
   "execution_count": 8,
   "id": "493290a6-ca85-4bd0-840c-7d128b9d3e60",
   "metadata": {},
   "outputs": [],
   "source": [
    "mm_scaler = MinMaxScaler()"
   ]
  },
  {
   "cell_type": "code",
   "execution_count": 10,
   "id": "0c74e145-837b-4a6c-9af4-a1d62e28c3ec",
   "metadata": {},
   "outputs": [
    {
     "data": {
      "text/plain": [
       "MinMaxScaler()"
      ]
     },
     "execution_count": 10,
     "metadata": {},
     "output_type": "execute_result"
    }
   ],
   "source": [
    "mm_scaler.fit(train[['monthly_charges']])"
   ]
  },
  {
   "cell_type": "code",
   "execution_count": 12,
   "id": "c58041e0-c450-4ef6-8a0a-ad86f16a7ca1",
   "metadata": {},
   "outputs": [],
   "source": [
    "train['monthly_charges_minmax'] = mm_scaler.transform(train[['monthly_charges']])"
   ]
  },
  {
   "cell_type": "code",
   "execution_count": 41,
   "id": "11ec2e0a-80ba-43d3-93d4-d1310db48a12",
   "metadata": {},
   "outputs": [
    {
     "data": {
      "image/png": "[encoded data removed]",
      "text/plain": [
       "<Figure size 1080x288 with 2 Axes>"
      ]
     },
     "metadata": {
      "needs_background": "light"
     },
     "output_type": "display_data"
    }
   ],
   "source": [
    "plt.figure(figsize=(15,4))\n",
    "plt.subplot(121)\n",
    "sns.distplot(train.monthly_charges, kde = False)\n",
    "\n",
    "plt.subplot(122)\n",
    "sns.distplot(train.monthly_charges_minmax, kde = False)\n",
    "\n",
    "plt.show()"
   ]
  },
  {
   "cell_type": "code",
   "execution_count": 80,
   "id": "34cadcb2-2c6a-4be8-b951-d4eeb8130801",
   "metadata": {},
   "outputs": [
    {
     "data": {
      "image/png": "[encoded data removed]",
      "text/plain": [
       "<Figure size 1152x360 with 3 Axes>"
      ]
     },
     "metadata": {
      "needs_background": "light"
     },
     "output_type": "display_data"
    },
    {
     "data": {
      "image/png": "[encoded data removed]",
      "text/plain": [
       "<Figure size 1152x360 with 3 Axes>"
      ]
     },
     "metadata": {
      "needs_background": "light"
     },
     "output_type": "display_data"
    },
    {
     "data": {
      "image/png": "[encoded data removed]",
      "text/plain": [
       "<Figure size 1152x360 with 3 Axes>"
      ]
     },
     "metadata": {
      "needs_background": "light"
     },
     "output_type": "display_data"
    },
    {
     "data": {
      "image/png": "[encoded data removed]",
      "text/plain": [
       "<Figure size 1152x360 with 3 Axes>"
      ]
     },
     "metadata": {
      "needs_background": "light"
     },
     "output_type": "display_data"
    }
   ],
   "source": [
    "# OK let's loop this mamma jamma\n",
    "\n",
    "# create lists\n",
    "col_names = ['monthly_charges', 'tenure', 'total_charges']\n",
    "\n",
    "\n",
    "# plot regular scales\n",
    "\n",
    "fig, axs = plt.subplots(1, 3, figsize=(16,5), sharey=True)\n",
    "\n",
    "for ax, col in zip(axs, col_names):\n",
    "    \n",
    "    sns.histplot(x = train[col], kde = False, ax = ax)\n",
    "    ax.set(title = col)\n",
    "    \n",
    "\n",
    "# use MinMax scales\n",
    "    \n",
    "fig, axs = plt.subplots(1, 3, figsize=(16,5), sharey=True)\n",
    "\n",
    "for ax, col in zip(axs, col_names):\n",
    "    \n",
    "    mm_scaler = MinMaxScaler()\n",
    "\n",
    "    mm_scaler.fit(train[{col}])\n",
    "\n",
    "    train[f'{col}_minmax'] = mm_scaler.transform(train[[col]])\n",
    "    \n",
    "    sns.histplot(x = train[f'{col}_minmax'], kde = False, ax = ax)\n",
    "    \n",
    "    ax.set(title = f'Min_Max_scaled for {col}')\n",
    "        \n",
    "\n",
    "# use RobustScaler\n",
    "        \n",
    "fig, axs = plt.subplots(1, 3, figsize=(16,5), sharey=True)\n",
    "\n",
    "for ax, col in zip(axs, col_names):\n",
    "    \n",
    "    robust_scaler = RobustScaler()\n",
    "\n",
    "    robust_scaler.fit(train[{col}])\n",
    "\n",
    "    train[f'{col}_robust'] = robust_scaler.transform(train[[col]])\n",
    "    \n",
    "    sns.histplot(x = train[f'{col}_robust'], kde = False, ax = ax)\n",
    "    \n",
    "    ax.set(title = f'Robust Scale of {col}')\n",
    "\n",
    "    \n",
    "# use StandardScaler\n",
    "fig, axs = plt.subplots(1, 3, figsize=(16,5))\n",
    "\n",
    "for ax, col in zip(axs, col_names):\n",
    "    \n",
    "    standard_scaler = StandardScaler()\n",
    "\n",
    "    standard_scaler.fit(train[{col}])\n",
    "\n",
    "    train[f'{col}_standard'] = standard_scaler.transform(train[[col]])\n",
    "    \n",
    "    sns.histplot(x = train[f'{col}_standard'], kde = False, ax = ax)\n",
    "    \n",
    "    ax.set(title = f'Standard Scaling of {col}')"
   ]
  },
  {
   "cell_type": "code",
   "execution_count": 64,
   "id": "6b5882cd-6e4e-40bd-8ff0-bebbcf48a6f4",
   "metadata": {},
   "outputs": [
    {
     "data": {
      "text/html": [
       "<div>\n",
       "<style scoped>\n",
       "    .dataframe tbody tr th:only-of-type {\n",
       "        vertical-align: middle;\n",
       "    }\n",
       "\n",
       "    .dataframe tbody tr th {\n",
       "        vertical-align: top;\n",
       "    }\n",
       "\n",
       "    .dataframe thead th {\n",
       "        text-align: right;\n",
       "    }\n",
       "</style>\n",
       "<table border=\"1\" class=\"dataframe\">\n",
       "  <thead>\n",
       "    <tr style=\"text-align: right;\">\n",
       "      <th></th>\n",
       "      <th>customer_id</th>\n",
       "      <th>monthly_charges</th>\n",
       "      <th>tenure</th>\n",
       "      <th>total_charges</th>\n",
       "      <th>monthly_charges_minmax</th>\n",
       "      <th>tenure_minmax</th>\n",
       "      <th>total_charges_minmax</th>\n",
       "      <th>monthly_charges_robust</th>\n",
       "      <th>tenure_robust</th>\n",
       "      <th>total_charges_robust</th>\n",
       "      <th>monthly_charges_standard</th>\n",
       "      <th>tenure_standard</th>\n",
       "      <th>total_charges_standard</th>\n",
       "    </tr>\n",
       "  </thead>\n",
       "  <tbody>\n",
       "    <tr>\n",
       "      <th>2118</th>\n",
       "      <td>3043-TYBNO</td>\n",
       "      <td>60.65</td>\n",
       "      <td>3</td>\n",
       "      <td>196.90</td>\n",
       "      <td>0.421446</td>\n",
       "      <td>0.041667</td>\n",
       "      <td>0.022710</td>\n",
       "      <td>-0.173321</td>\n",
       "      <td>-0.565217</td>\n",
       "      <td>-0.367850</td>\n",
       "      <td>-0.120254</td>\n",
       "      <td>-1.197107</td>\n",
       "      <td>-0.911654</td>\n",
       "    </tr>\n",
       "    <tr>\n",
       "      <th>6206</th>\n",
       "      <td>8778-LMWTJ</td>\n",
       "      <td>74.85</td>\n",
       "      <td>9</td>\n",
       "      <td>708.20</td>\n",
       "      <td>0.563092</td>\n",
       "      <td>0.125000</td>\n",
       "      <td>0.081683</td>\n",
       "      <td>0.084392</td>\n",
       "      <td>-0.434783</td>\n",
       "      <td>-0.208567</td>\n",
       "      <td>0.351949</td>\n",
       "      <td>-0.950946</td>\n",
       "      <td>-0.683290</td>\n",
       "    </tr>\n",
       "    <tr>\n",
       "      <th>877</th>\n",
       "      <td>1269-FOYWN</td>\n",
       "      <td>20.00</td>\n",
       "      <td>44</td>\n",
       "      <td>860.85</td>\n",
       "      <td>0.015960</td>\n",
       "      <td>0.611111</td>\n",
       "      <td>0.099290</td>\n",
       "      <td>-0.911071</td>\n",
       "      <td>0.326087</td>\n",
       "      <td>-0.161012</td>\n",
       "      <td>-1.472019</td>\n",
       "      <td>0.484999</td>\n",
       "      <td>-0.615112</td>\n",
       "    </tr>\n",
       "    <tr>\n",
       "      <th>2407</th>\n",
       "      <td>3446-QDSZF</td>\n",
       "      <td>55.50</td>\n",
       "      <td>4</td>\n",
       "      <td>227.35</td>\n",
       "      <td>0.370075</td>\n",
       "      <td>0.055556</td>\n",
       "      <td>0.026222</td>\n",
       "      <td>-0.266788</td>\n",
       "      <td>-0.543478</td>\n",
       "      <td>-0.358364</td>\n",
       "      <td>-0.291511</td>\n",
       "      <td>-1.156080</td>\n",
       "      <td>-0.898054</td>\n",
       "    </tr>\n",
       "    <tr>\n",
       "      <th>2780</th>\n",
       "      <td>3956-MGXOG</td>\n",
       "      <td>80.60</td>\n",
       "      <td>28</td>\n",
       "      <td>2244.95</td>\n",
       "      <td>0.620449</td>\n",
       "      <td>0.388889</td>\n",
       "      <td>0.258930</td>\n",
       "      <td>0.188748</td>\n",
       "      <td>-0.021739</td>\n",
       "      <td>0.270171</td>\n",
       "      <td>0.543157</td>\n",
       "      <td>-0.171433</td>\n",
       "      <td>0.003074</td>\n",
       "    </tr>\n",
       "  </tbody>\n",
       "</table>\n",
       "</div>"
      ],
      "text/plain": [
       "     customer_id  monthly_charges  tenure  total_charges  \\\n",
       "2118  3043-TYBNO            60.65       3         196.90   \n",
       "6206  8778-LMWTJ            74.85       9         708.20   \n",
       "877   1269-FOYWN            20.00      44         860.85   \n",
       "2407  3446-QDSZF            55.50       4         227.35   \n",
       "2780  3956-MGXOG            80.60      28        2244.95   \n",
       "\n",
       "      monthly_charges_minmax  tenure_minmax  total_charges_minmax  \\\n",
       "2118                0.421446       0.041667              0.022710   \n",
       "6206                0.563092       0.125000              0.081683   \n",
       "877                 0.015960       0.611111              0.099290   \n",
       "2407                0.370075       0.055556              0.026222   \n",
       "2780                0.620449       0.388889              0.258930   \n",
       "\n",
       "      monthly_charges_robust  tenure_robust  total_charges_robust  \\\n",
       "2118               -0.173321      -0.565217             -0.367850   \n",
       "6206                0.084392      -0.434783             -0.208567   \n",
       "877                -0.911071       0.326087             -0.161012   \n",
       "2407               -0.266788      -0.543478             -0.358364   \n",
       "2780                0.188748      -0.021739              0.270171   \n",
       "\n",
       "      monthly_charges_standard  tenure_standard  total_charges_standard  \n",
       "2118                 -0.120254        -1.197107               -0.911654  \n",
       "6206                  0.351949        -0.950946               -0.683290  \n",
       "877                  -1.472019         0.484999               -0.615112  \n",
       "2407                 -0.291511        -1.156080               -0.898054  \n",
       "2780                  0.543157        -0.171433                0.003074  "
      ]
     },
     "execution_count": 64,
     "metadata": {},
     "output_type": "execute_result"
    }
   ],
   "source": [
    "train.head()"
   ]
  },
  {
   "cell_type": "code",
   "execution_count": 78,
   "id": "f93a77fb-7d1c-4ef0-b46e-f5cabb965665",
   "metadata": {},
   "outputs": [],
   "source": [
    "# function to do plots ya welcome future heather\n",
    "def make_and_see_scalers(col_names, scaler = MinMaxScaler, scaler_name = 'This Scaler'):\n",
    "    \n",
    "    num_graphs_accross = len(col_names)\n",
    "    \n",
    "    \n",
    "    fig, axs = plt.subplots(1, num_graphs_accross, figsize=(16,5))\n",
    "\n",
    "    for ax, col in zip(axs, col_names):\n",
    "    \n",
    "        the_scaler = scaler()\n",
    "    \n",
    "        the_scaler.fit(train[{col}])\n",
    "    \n",
    "        train[f'{col}_{scaler_name}'] = the_scaler.transform(train[[col]])\n",
    "        \n",
    "        sns.histplot(x = train[f'{col}_{scaler_name}'], kde = False, ax = ax)\n",
    "        \n",
    "        ax.set(title = f'{scaler_name} of {col}')"
   ]
  },
  {
   "cell_type": "code",
   "execution_count": 173,
   "id": "f674fc25-930f-4fa0-b2a3-59e21dd75471",
   "metadata": {},
   "outputs": [
    {
     "data": {
      "image/png": "[encoded data removed]",
      "text/plain": [
       "<Figure size 1152x360 with 3 Axes>"
      ]
     },
     "metadata": {
      "needs_background": "light"
     },
     "output_type": "display_data"
    }
   ],
   "source": [
    "make_and_see_scalers(col_names, scaler = RobustScaler(), scaler_name = 'Robust Scaler')"
   ]
  },
  {
   "cell_type": "code",
   "execution_count": 172,
   "id": "5c78a4fb-1ae0-4a7f-8e73-40c8afe1b47e",
   "metadata": {},
   "outputs": [
    {
     "data": {
      "image/png": "[encoded data removed]",
      "text/plain": [
       "<Figure size 1152x360 with 3 Axes>"
      ]
     },
     "metadata": {
      "needs_background": "light"
     },
     "output_type": "display_data"
    }
   ],
   "source": [
    "make_and_see_scalers(col_names, scaler = MinMaxScaler(), scaler_name='Min_max')"
   ]
  },
  {
   "cell_type": "markdown",
   "id": "519dbb4b-2e1d-4d36-aa50-6831698c95b1",
   "metadata": {},
   "source": [
    "2. Apply the .inverse_transform method to your scaled data. Is the resulting dataset the exact same as the original data?"
   ]
  },
  {
   "cell_type": "code",
   "execution_count": 99,
   "id": "44f02992-deba-4efa-8e91-8a5e336d52ff",
   "metadata": {},
   "outputs": [
    {
     "data": {
      "text/plain": [
       "Index(['customer_id', 'monthly_charges', 'tenure', 'total_charges',\n",
       "       'monthly_charges_Robust Scaler', 'tenure_Robust Scaler',\n",
       "       'total_charges_Robust Scaler', 'monthly_charges_minmax',\n",
       "       'tenure_minmax', 'total_charges_minmax', 'monthly_charges_robust',\n",
       "       'tenure_robust', 'total_charges_robust', 'monthly_charges_standard',\n",
       "       'tenure_standard', 'total_charges_standard', 'monthly_charges_Min_max',\n",
       "       'tenure_Min_max', 'total_charges_Min_max'],\n",
       "      dtype='object')"
      ]
     },
     "execution_count": 99,
     "metadata": {},
     "output_type": "execute_result"
    }
   ],
   "source": [
    "train.columns"
   ]
  },
  {
   "cell_type": "code",
   "execution_count": 97,
   "id": "679a9c96-3be3-4ec4-9133-14e51aa16c68",
   "metadata": {},
   "outputs": [
    {
     "name": "stdout",
     "output_type": "stream",
     "text": [
      "2118    0.421446\n",
      "6206    0.563092\n",
      "877     0.015960\n",
      "2407    0.370075\n",
      "2780    0.620449\n",
      "Name: monthly_charges_minmax, dtype: float64\n"
     ]
    },
    {
     "data": {
      "text/plain": [
       "array([[60.65],\n",
       "       [74.85],\n",
       "       [20.  ],\n",
       "       ...,\n",
       "       [69.  ],\n",
       "       [95.95],\n",
       "       [54.65]])"
      ]
     },
     "execution_count": 97,
     "metadata": {},
     "output_type": "execute_result"
    }
   ],
   "source": [
    "mm_scaler = MinMaxScaler()\n",
    "\n",
    "mm_scaler.fit(train[['monthly_charges']])\n",
    "\n",
    "train['monthly_charges_minmax'] = mm_scaler.transform(train[['monthly_charges']])\n",
    "print(train.monthly_charges_minmax.head())\n",
    "\n",
    "mm_scaler.inverse_transform(train[['monthly_charges_minmax']])\n",
    "\n"
   ]
  },
  {
   "cell_type": "code",
   "execution_count": null,
   "id": "8544ab48-e3d3-4005-a01d-a69304af502e",
   "metadata": {},
   "outputs": [],
   "source": []
  },
  {
   "cell_type": "markdown",
   "id": "755f6741-9a69-46e2-a61a-966f90f1651c",
   "metadata": {},
   "source": [
    "3. Read the documentation for sklearn's QuantileTransformer. Use normal for the output_distribution and apply this scaler to your data. Visualize the result of your data scaling."
   ]
  },
  {
   "cell_type": "code",
   "execution_count": 167,
   "id": "628b72bf-8e16-4d4c-bea1-5f53ae60a8f4",
   "metadata": {},
   "outputs": [],
   "source": [
    "# adjust function to take in the keyword arguement (same as the function above)\n",
    "\n",
    "def make_and_see_scalers(col_names, scaler = MinMaxScaler(), scaler_name = 'This Scaler'):\n",
    "    \n",
    "    num_graphs_accross = len(col_names)\n",
    "    \n",
    "    fig, axs = plt.subplots(1, num_graphs_accross, figsize=(16,5))\n",
    "\n",
    "    for ax, col in zip(axs, col_names):\n",
    "    \n",
    "        the_scaler = scaler\n",
    "    \n",
    "        the_scaler.fit(train[[col]])\n",
    "    \n",
    "        train[f'{col}_{scaler_name}'] = the_scaler.transform(train[[col]])\n",
    "\n",
    "        ax.hist(x = train[f'{col}_{scaler_name}'])\n",
    "        \n",
    "        ax.set(title = f'{scaler_name} of {col}')\n"
   ]
  },
  {
   "cell_type": "code",
   "execution_count": 170,
   "id": "b295615b-97c4-4078-97bf-8a665621042b",
   "metadata": {},
   "outputs": [
    {
     "data": {
      "image/png": "[encoded data removed]",
      "text/plain": [
       "<Figure size 1152x360 with 3 Axes>"
      ]
     },
     "metadata": {
      "needs_background": "light"
     },
     "output_type": "display_data"
    },
    {
     "data": {
      "image/png": "[encoded data removed]",
      "text/plain": [
       "<Figure size 1152x360 with 3 Axes>"
      ]
     },
     "metadata": {
      "needs_background": "light"
     },
     "output_type": "display_data"
    }
   ],
   "source": [
    "# plot originals\n",
    "fig, axs = plt.subplots(1, 3, figsize=(16,5), sharey=True)\n",
    "\n",
    "for ax, col in zip(axs, col_names):\n",
    "    \n",
    "    sns.histplot(x = train[col], kde = False, ax = ax)\n",
    "    ax.set(title = col)\n",
    "    \n",
    "# plot scaled\n",
    "make_and_see_scalers(col_names, scaler= QuantileTransformer(output_distribution='normal'), scaler_name='qt')"
   ]
  },
  {
   "cell_type": "code",
   "execution_count": 164,
   "id": "af6ffc82-f48e-45b1-93b4-c268ea16c2b6",
   "metadata": {},
   "outputs": [],
   "source": [
    "qt_scaler = QuantileTransformer(output_distribution='uniform')\n",
    "qt_scaler.fit(train[['monthly_charges']])\n",
    "\n",
    "train['monthly_charges_qt'] = qt_scaler.transform(train[['monthly_charges']])"
   ]
  },
  {
   "cell_type": "code",
   "execution_count": 166,
   "id": "d1903103-b4e4-443c-ad7f-6e41d77d6d3e",
   "metadata": {},
   "outputs": [
    {
     "data": {
      "text/plain": [
       "(array([401., 388., 394., 393., 394., 397., 392., 395., 394., 395.]),\n",
       " array([0. , 0.1, 0.2, 0.3, 0.4, 0.5, 0.6, 0.7, 0.8, 0.9, 1. ]),\n",
       " <BarContainer object of 10 artists>)"
      ]
     },
     "execution_count": 166,
     "metadata": {},
     "output_type": "execute_result"
    },
    {
     "data": {
      "image/png": "[encoded data removed]",
      "text/plain": [
       "<Figure size 432x288 with 1 Axes>"
      ]
     },
     "metadata": {
      "needs_background": "light"
     },
     "output_type": "display_data"
    }
   ],
   "source": [
    "plt.hist(x = train['monthly_charges_qt'])"
   ]
  },
  {
   "cell_type": "markdown",
   "id": "100d3069-8195-42f7-ba71-fd11826a38b2",
   "metadata": {},
   "source": [
    "4. Use the QuantileTransformer, but omit the output_distribution argument. Visualize your results. What do you notice?"
   ]
  },
  {
   "cell_type": "code",
   "execution_count": 169,
   "id": "409c66db-705f-49fc-8676-68798ed4c5b1",
   "metadata": {},
   "outputs": [
    {
     "data": {
      "image/png": "[encoded data removed]",
      "text/plain": [
       "<Figure size 1152x360 with 3 Axes>"
      ]
     },
     "metadata": {
      "needs_background": "light"
     },
     "output_type": "display_data"
    },
    {
     "data": {
      "image/png": "[encoded data removed]",
      "text/plain": [
       "<Figure size 1152x360 with 3 Axes>"
      ]
     },
     "metadata": {
      "needs_background": "light"
     },
     "output_type": "display_data"
    }
   ],
   "source": [
    "# plot originals\n",
    "fig, axs = plt.subplots(1, 3, figsize=(16,5), sharey=True)\n",
    "\n",
    "for ax, col in zip(axs, col_names):\n",
    "    \n",
    "    sns.histplot(x = train[col], kde = False, ax = ax)\n",
    "    ax.set(title = col)\n",
    "\n",
    "# plot quantile transformer\n",
    "make_and_see_scalers(col_names, scaler= QuantileTransformer(),scaler_name='qt')"
   ]
  },
  {
   "cell_type": "code",
   "execution_count": null,
   "id": "19bde1a8-4bb0-4df7-b7ae-b3eee2236b82",
   "metadata": {},
   "outputs": [],
   "source": []
  },
  {
   "cell_type": "markdown",
   "id": "650d02cd-3313-43e3-96ba-c440fc5e669d",
   "metadata": {},
   "source": [
    "5. Based on the work you've done, choose a scaling method for your dataset. Write a function within your prepare.py that accepts as input the train, validate, and test data splits, and returns the scaled versions of each. Be sure to only learn the parameters for scaling from your training data!"
   ]
  },
  {
   "cell_type": "markdown",
   "id": "bc595cbd-8b1b-410a-998b-ef1d6625cc52",
   "metadata": {},
   "source": [
    "#### Plan for scaling\n",
    "- Columns to scale: `monthly_charges` `tenure` and `total_charges`\n",
    "- scaler: min_max\n",
    "- Remember: fit on train, transform train, validate and split\n",
    "- needs to be done after train validate and split\n",
    "- add columns to original dataframe. then add those column names to a list so it's easy to pull out"
   ]
  },
  {
   "cell_type": "code",
   "execution_count": 175,
   "id": "7b8cb6c3-2592-49ba-b23d-42f3038c1942",
   "metadata": {},
   "outputs": [],
   "source": [
    "# create list of columns to scale, maybe in the future this should be part of the input into this function\n",
    "\n",
    "col_names = ['monthly_charges', 'tenure', 'total_charges']\n",
    "\n",
    "#def function\n",
    "def my_scaler(train, validate, test, scaler, scaler_name):\n",
    "    \n",
    "    '''\n",
    "    This function takes in the train validate and test dataframes, a scaler (i.e. MinMaxScaler(), with whatever paramaters you need),\n",
    "    scaler_name as a string.\n",
    "    Scaler_name, should be what you want in the name of your new dataframe columns.\n",
    "    Adds columns to the train validate and test dataframes. \n",
    "    Outputs scaler for doing inverse transforms.\n",
    "    Ouputs a list of the new column names (what you can use to create the X_train).\n",
    "    \n",
    "    example: min_max_scaler, scaled_cols_list = my_scaler(train, validate, test, MinMaxScaler(), 'scaled_min_max')\n",
    "    \n",
    "    '''\n",
    "    col_names = ['monthly_charges', 'tenure', 'total_charges']\n",
    "    \n",
    "    #create the scaler (input here should be minmax scaler)\n",
    "    mm_scaler = scaler\n",
    "    \n",
    "    # make empty list for return\n",
    "    scaled_cols_list = []\n",
    "    \n",
    "    # loop through columns in col names\n",
    "    for col in col_names:\n",
    "        \n",
    "        #fit and transform to train, add to new column on train df\n",
    "        train[f'{col}_{scaler_name}'] = mm_scaler.fit_transform(train[[col]])\n",
    "        \n",
    "        #transform cols from validate and test (only fit on train)\n",
    "        validate[f'{col}_{scaler_name}']= mm_scaler.transform(validate[[col]])\n",
    "        test[f'{col}_{scaler_name}']= mm_scaler.transform(test[[col]])\n",
    "        \n",
    "        #add new column name to the list that will get returned\n",
    "        scaled_cols_list.append(f'{col}_{scaler_name}')\n",
    "    \n",
    "    #confirmation print\n",
    "    print('Your scaled columns have been added to your train validate and test dataframes.')\n",
    "    \n",
    "    #returns scaler, and a list of column names that can be used in X_train, X_validate and X_test.\n",
    "    return scaler, scaled_cols_list   \n"
   ]
  },
  {
   "cell_type": "code",
   "execution_count": 176,
   "id": "c3e976f5-4381-42a6-a3e3-97937ba8fef5",
   "metadata": {},
   "outputs": [],
   "source": [
    "#import new data to test\n",
    "df2 = w.wrangle_telco()"
   ]
  },
  {
   "cell_type": "code",
   "execution_count": 180,
   "id": "1d697ac2-c527-4b79-b810-d533f1da93d3",
   "metadata": {},
   "outputs": [
    {
     "name": "stdout",
     "output_type": "stream",
     "text": [
      "train --> (3943, 4)\n",
      "validate --> (1691, 4)\n",
      "test --> (1409, 4)\n"
     ]
    }
   ],
   "source": [
    "# split up the data\n",
    "train, validate, test = w.banana_split(df2)"
   ]
  },
  {
   "cell_type": "code",
   "execution_count": 181,
   "id": "f33200c7-8682-4fba-8e4b-ae8469838389",
   "metadata": {},
   "outputs": [
    {
     "data": {
      "text/html": [
       "<div>\n",
       "<style scoped>\n",
       "    .dataframe tbody tr th:only-of-type {\n",
       "        vertical-align: middle;\n",
       "    }\n",
       "\n",
       "    .dataframe tbody tr th {\n",
       "        vertical-align: top;\n",
       "    }\n",
       "\n",
       "    .dataframe thead th {\n",
       "        text-align: right;\n",
       "    }\n",
       "</style>\n",
       "<table border=\"1\" class=\"dataframe\">\n",
       "  <thead>\n",
       "    <tr style=\"text-align: right;\">\n",
       "      <th></th>\n",
       "      <th>customer_id</th>\n",
       "      <th>monthly_charges</th>\n",
       "      <th>tenure</th>\n",
       "      <th>total_charges</th>\n",
       "    </tr>\n",
       "  </thead>\n",
       "  <tbody>\n",
       "    <tr>\n",
       "      <th>2118</th>\n",
       "      <td>3043-TYBNO</td>\n",
       "      <td>60.65</td>\n",
       "      <td>3</td>\n",
       "      <td>196.90</td>\n",
       "    </tr>\n",
       "    <tr>\n",
       "      <th>6206</th>\n",
       "      <td>8778-LMWTJ</td>\n",
       "      <td>74.85</td>\n",
       "      <td>9</td>\n",
       "      <td>708.20</td>\n",
       "    </tr>\n",
       "    <tr>\n",
       "      <th>877</th>\n",
       "      <td>1269-FOYWN</td>\n",
       "      <td>20.00</td>\n",
       "      <td>44</td>\n",
       "      <td>860.85</td>\n",
       "    </tr>\n",
       "    <tr>\n",
       "      <th>2407</th>\n",
       "      <td>3446-QDSZF</td>\n",
       "      <td>55.50</td>\n",
       "      <td>4</td>\n",
       "      <td>227.35</td>\n",
       "    </tr>\n",
       "    <tr>\n",
       "      <th>2780</th>\n",
       "      <td>3956-MGXOG</td>\n",
       "      <td>80.60</td>\n",
       "      <td>28</td>\n",
       "      <td>2244.95</td>\n",
       "    </tr>\n",
       "  </tbody>\n",
       "</table>\n",
       "</div>"
      ],
      "text/plain": [
       "     customer_id  monthly_charges  tenure  total_charges\n",
       "2118  3043-TYBNO            60.65       3         196.90\n",
       "6206  8778-LMWTJ            74.85       9         708.20\n",
       "877   1269-FOYWN            20.00      44         860.85\n",
       "2407  3446-QDSZF            55.50       4         227.35\n",
       "2780  3956-MGXOG            80.60      28        2244.95"
      ]
     },
     "execution_count": 181,
     "metadata": {},
     "output_type": "execute_result"
    }
   ],
   "source": [
    "# what the train looks like before the function\n",
    "train.head()"
   ]
  },
  {
   "cell_type": "code",
   "execution_count": 182,
   "id": "b682db32-c74d-4bd7-86ea-3ff4e77df23a",
   "metadata": {},
   "outputs": [
    {
     "name": "stdout",
     "output_type": "stream",
     "text": [
      "Your scaled columns have been added to your train validate and test dataframes.\n"
     ]
    },
    {
     "name": "stderr",
     "output_type": "stream",
     "text": [
      "<ipython-input-175-02d043035481>:23: SettingWithCopyWarning: \n",
      "A value is trying to be set on a copy of a slice from a DataFrame.\n",
      "Try using .loc[row_indexer,col_indexer] = value instead\n",
      "\n",
      "See the caveats in the documentation: https://pandas.pydata.org/pandas-docs/stable/user_guide/indexing.html#returning-a-view-versus-a-copy\n",
      "  test[f'{col}_{scaler_name}']= mm_scaler.transform(test[[col]])\n",
      "<ipython-input-175-02d043035481>:23: SettingWithCopyWarning: \n",
      "A value is trying to be set on a copy of a slice from a DataFrame.\n",
      "Try using .loc[row_indexer,col_indexer] = value instead\n",
      "\n",
      "See the caveats in the documentation: https://pandas.pydata.org/pandas-docs/stable/user_guide/indexing.html#returning-a-view-versus-a-copy\n",
      "  test[f'{col}_{scaler_name}']= mm_scaler.transform(test[[col]])\n",
      "<ipython-input-175-02d043035481>:23: SettingWithCopyWarning: \n",
      "A value is trying to be set on a copy of a slice from a DataFrame.\n",
      "Try using .loc[row_indexer,col_indexer] = value instead\n",
      "\n",
      "See the caveats in the documentation: https://pandas.pydata.org/pandas-docs/stable/user_guide/indexing.html#returning-a-view-versus-a-copy\n",
      "  test[f'{col}_{scaler_name}']= mm_scaler.transform(test[[col]])\n"
     ]
    }
   ],
   "source": [
    "# test new function! \n",
    "# there's this .loc warning that keeps coming up, maybe figure out how to fix it\n",
    "\n",
    "min_max_scaler, scaled_cols_list = my_scaler(train, validate, test, MinMaxScaler(), 'scaled_min_max')"
   ]
  },
  {
   "cell_type": "code",
   "execution_count": 183,
   "id": "8f4fa143-b3b5-4ff8-9ce2-24b4e7ff9071",
   "metadata": {},
   "outputs": [
    {
     "data": {
      "text/html": [
       "<div>\n",
       "<style scoped>\n",
       "    .dataframe tbody tr th:only-of-type {\n",
       "        vertical-align: middle;\n",
       "    }\n",
       "\n",
       "    .dataframe tbody tr th {\n",
       "        vertical-align: top;\n",
       "    }\n",
       "\n",
       "    .dataframe thead th {\n",
       "        text-align: right;\n",
       "    }\n",
       "</style>\n",
       "<table border=\"1\" class=\"dataframe\">\n",
       "  <thead>\n",
       "    <tr style=\"text-align: right;\">\n",
       "      <th></th>\n",
       "      <th>customer_id</th>\n",
       "      <th>monthly_charges</th>\n",
       "      <th>tenure</th>\n",
       "      <th>total_charges</th>\n",
       "      <th>monthly_charges_scaled_min_max</th>\n",
       "      <th>tenure_scaled_min_max</th>\n",
       "      <th>total_charges_scaled_min_max</th>\n",
       "    </tr>\n",
       "  </thead>\n",
       "  <tbody>\n",
       "    <tr>\n",
       "      <th>2118</th>\n",
       "      <td>3043-TYBNO</td>\n",
       "      <td>60.65</td>\n",
       "      <td>3</td>\n",
       "      <td>196.90</td>\n",
       "      <td>0.421446</td>\n",
       "      <td>0.041667</td>\n",
       "      <td>0.022710</td>\n",
       "    </tr>\n",
       "    <tr>\n",
       "      <th>6206</th>\n",
       "      <td>8778-LMWTJ</td>\n",
       "      <td>74.85</td>\n",
       "      <td>9</td>\n",
       "      <td>708.20</td>\n",
       "      <td>0.563092</td>\n",
       "      <td>0.125000</td>\n",
       "      <td>0.081683</td>\n",
       "    </tr>\n",
       "    <tr>\n",
       "      <th>877</th>\n",
       "      <td>1269-FOYWN</td>\n",
       "      <td>20.00</td>\n",
       "      <td>44</td>\n",
       "      <td>860.85</td>\n",
       "      <td>0.015960</td>\n",
       "      <td>0.611111</td>\n",
       "      <td>0.099290</td>\n",
       "    </tr>\n",
       "    <tr>\n",
       "      <th>2407</th>\n",
       "      <td>3446-QDSZF</td>\n",
       "      <td>55.50</td>\n",
       "      <td>4</td>\n",
       "      <td>227.35</td>\n",
       "      <td>0.370075</td>\n",
       "      <td>0.055556</td>\n",
       "      <td>0.026222</td>\n",
       "    </tr>\n",
       "    <tr>\n",
       "      <th>2780</th>\n",
       "      <td>3956-MGXOG</td>\n",
       "      <td>80.60</td>\n",
       "      <td>28</td>\n",
       "      <td>2244.95</td>\n",
       "      <td>0.620449</td>\n",
       "      <td>0.388889</td>\n",
       "      <td>0.258930</td>\n",
       "    </tr>\n",
       "  </tbody>\n",
       "</table>\n",
       "</div>"
      ],
      "text/plain": [
       "     customer_id  monthly_charges  tenure  total_charges  \\\n",
       "2118  3043-TYBNO            60.65       3         196.90   \n",
       "6206  8778-LMWTJ            74.85       9         708.20   \n",
       "877   1269-FOYWN            20.00      44         860.85   \n",
       "2407  3446-QDSZF            55.50       4         227.35   \n",
       "2780  3956-MGXOG            80.60      28        2244.95   \n",
       "\n",
       "      monthly_charges_scaled_min_max  tenure_scaled_min_max  \\\n",
       "2118                        0.421446               0.041667   \n",
       "6206                        0.563092               0.125000   \n",
       "877                         0.015960               0.611111   \n",
       "2407                        0.370075               0.055556   \n",
       "2780                        0.620449               0.388889   \n",
       "\n",
       "      total_charges_scaled_min_max  \n",
       "2118                      0.022710  \n",
       "6206                      0.081683  \n",
       "877                       0.099290  \n",
       "2407                      0.026222  \n",
       "2780                      0.258930  "
      ]
     },
     "execution_count": 183,
     "metadata": {},
     "output_type": "execute_result"
    }
   ],
   "source": [
    "# see what train looks like afterwards, has the new columns! column names are a bit long, might need to work on naming convention\n",
    "train.head()"
   ]
  },
  {
   "cell_type": "code",
   "execution_count": 184,
   "id": "2f53ead8-e365-49d1-9ea5-68fdf240f9b3",
   "metadata": {},
   "outputs": [
    {
     "data": {
      "text/html": [
       "<div>\n",
       "<style scoped>\n",
       "    .dataframe tbody tr th:only-of-type {\n",
       "        vertical-align: middle;\n",
       "    }\n",
       "\n",
       "    .dataframe tbody tr th {\n",
       "        vertical-align: top;\n",
       "    }\n",
       "\n",
       "    .dataframe thead th {\n",
       "        text-align: right;\n",
       "    }\n",
       "</style>\n",
       "<table border=\"1\" class=\"dataframe\">\n",
       "  <thead>\n",
       "    <tr style=\"text-align: right;\">\n",
       "      <th></th>\n",
       "      <th>customer_id</th>\n",
       "      <th>monthly_charges</th>\n",
       "      <th>tenure</th>\n",
       "      <th>total_charges</th>\n",
       "      <th>monthly_charges_scaled_min_max</th>\n",
       "      <th>tenure_scaled_min_max</th>\n",
       "      <th>total_charges_scaled_min_max</th>\n",
       "    </tr>\n",
       "  </thead>\n",
       "  <tbody>\n",
       "    <tr>\n",
       "      <th>1499</th>\n",
       "      <td>2207-OBZNX</td>\n",
       "      <td>51.00</td>\n",
       "      <td>7</td>\n",
       "      <td>354.05</td>\n",
       "      <td>0.325187</td>\n",
       "      <td>0.097222</td>\n",
       "      <td>0.040836</td>\n",
       "    </tr>\n",
       "    <tr>\n",
       "      <th>3823</th>\n",
       "      <td>5376-DEQCP</td>\n",
       "      <td>70.60</td>\n",
       "      <td>1</td>\n",
       "      <td>70.60</td>\n",
       "      <td>0.520698</td>\n",
       "      <td>0.013889</td>\n",
       "      <td>0.008143</td>\n",
       "    </tr>\n",
       "    <tr>\n",
       "      <th>6677</th>\n",
       "      <td>9494-MRNYX</td>\n",
       "      <td>75.05</td>\n",
       "      <td>10</td>\n",
       "      <td>786.30</td>\n",
       "      <td>0.565087</td>\n",
       "      <td>0.138889</td>\n",
       "      <td>0.090691</td>\n",
       "    </tr>\n",
       "    <tr>\n",
       "      <th>6598</th>\n",
       "      <td>9375-MHRRS</td>\n",
       "      <td>50.05</td>\n",
       "      <td>6</td>\n",
       "      <td>288.35</td>\n",
       "      <td>0.315711</td>\n",
       "      <td>0.083333</td>\n",
       "      <td>0.033258</td>\n",
       "    </tr>\n",
       "    <tr>\n",
       "      <th>3006</th>\n",
       "      <td>4302-ZYFEL</td>\n",
       "      <td>20.55</td>\n",
       "      <td>69</td>\n",
       "      <td>1403.10</td>\n",
       "      <td>0.021446</td>\n",
       "      <td>0.958333</td>\n",
       "      <td>0.161832</td>\n",
       "    </tr>\n",
       "  </tbody>\n",
       "</table>\n",
       "</div>"
      ],
      "text/plain": [
       "     customer_id  monthly_charges  tenure  total_charges  \\\n",
       "1499  2207-OBZNX            51.00       7         354.05   \n",
       "3823  5376-DEQCP            70.60       1          70.60   \n",
       "6677  9494-MRNYX            75.05      10         786.30   \n",
       "6598  9375-MHRRS            50.05       6         288.35   \n",
       "3006  4302-ZYFEL            20.55      69        1403.10   \n",
       "\n",
       "      monthly_charges_scaled_min_max  tenure_scaled_min_max  \\\n",
       "1499                        0.325187               0.097222   \n",
       "3823                        0.520698               0.013889   \n",
       "6677                        0.565087               0.138889   \n",
       "6598                        0.315711               0.083333   \n",
       "3006                        0.021446               0.958333   \n",
       "\n",
       "      total_charges_scaled_min_max  \n",
       "1499                      0.040836  \n",
       "3823                      0.008143  \n",
       "6677                      0.090691  \n",
       "6598                      0.033258  \n",
       "3006                      0.161832  "
      ]
     },
     "execution_count": 184,
     "metadata": {},
     "output_type": "execute_result"
    }
   ],
   "source": [
    "# validate worked too\n",
    "validate.head()"
   ]
  },
  {
   "cell_type": "code",
   "execution_count": 188,
   "id": "491ac5e4-84d9-448d-b7ca-7baafd6adc7a",
   "metadata": {},
   "outputs": [
    {
     "data": {
      "text/html": [
       "<div>\n",
       "<style scoped>\n",
       "    .dataframe tbody tr th:only-of-type {\n",
       "        vertical-align: middle;\n",
       "    }\n",
       "\n",
       "    .dataframe tbody tr th {\n",
       "        vertical-align: top;\n",
       "    }\n",
       "\n",
       "    .dataframe thead th {\n",
       "        text-align: right;\n",
       "    }\n",
       "</style>\n",
       "<table border=\"1\" class=\"dataframe\">\n",
       "  <thead>\n",
       "    <tr style=\"text-align: right;\">\n",
       "      <th></th>\n",
       "      <th>customer_id</th>\n",
       "      <th>monthly_charges</th>\n",
       "      <th>tenure</th>\n",
       "      <th>total_charges</th>\n",
       "      <th>monthly_charges_scaled_min_max</th>\n",
       "      <th>tenure_scaled_min_max</th>\n",
       "      <th>total_charges_scaled_min_max</th>\n",
       "    </tr>\n",
       "  </thead>\n",
       "  <tbody>\n",
       "    <tr>\n",
       "      <th>2553</th>\n",
       "      <td>3649-JPUGY</td>\n",
       "      <td>88.60</td>\n",
       "      <td>72</td>\n",
       "      <td>6201.95</td>\n",
       "      <td>0.700249</td>\n",
       "      <td>1.000000</td>\n",
       "      <td>0.715326</td>\n",
       "    </tr>\n",
       "    <tr>\n",
       "      <th>7013</th>\n",
       "      <td>9948-YPTDG</td>\n",
       "      <td>79.45</td>\n",
       "      <td>38</td>\n",
       "      <td>3013.05</td>\n",
       "      <td>0.608978</td>\n",
       "      <td>0.527778</td>\n",
       "      <td>0.347522</td>\n",
       "    </tr>\n",
       "    <tr>\n",
       "      <th>1768</th>\n",
       "      <td>2585-KTFRE</td>\n",
       "      <td>70.45</td>\n",
       "      <td>1</td>\n",
       "      <td>70.45</td>\n",
       "      <td>0.519202</td>\n",
       "      <td>0.013889</td>\n",
       "      <td>0.008126</td>\n",
       "    </tr>\n",
       "    <tr>\n",
       "      <th>2267</th>\n",
       "      <td>3243-ZHOHY</td>\n",
       "      <td>20.10</td>\n",
       "      <td>16</td>\n",
       "      <td>296.15</td>\n",
       "      <td>0.016958</td>\n",
       "      <td>0.222222</td>\n",
       "      <td>0.034158</td>\n",
       "    </tr>\n",
       "    <tr>\n",
       "      <th>1489</th>\n",
       "      <td>2195-VVRJF</td>\n",
       "      <td>59.10</td>\n",
       "      <td>18</td>\n",
       "      <td>1011.05</td>\n",
       "      <td>0.405985</td>\n",
       "      <td>0.250000</td>\n",
       "      <td>0.116613</td>\n",
       "    </tr>\n",
       "  </tbody>\n",
       "</table>\n",
       "</div>"
      ],
      "text/plain": [
       "     customer_id  monthly_charges  tenure  total_charges  \\\n",
       "2553  3649-JPUGY            88.60      72        6201.95   \n",
       "7013  9948-YPTDG            79.45      38        3013.05   \n",
       "1768  2585-KTFRE            70.45       1          70.45   \n",
       "2267  3243-ZHOHY            20.10      16         296.15   \n",
       "1489  2195-VVRJF            59.10      18        1011.05   \n",
       "\n",
       "      monthly_charges_scaled_min_max  tenure_scaled_min_max  \\\n",
       "2553                        0.700249               1.000000   \n",
       "7013                        0.608978               0.527778   \n",
       "1768                        0.519202               0.013889   \n",
       "2267                        0.016958               0.222222   \n",
       "1489                        0.405985               0.250000   \n",
       "\n",
       "      total_charges_scaled_min_max  \n",
       "2553                      0.715326  \n",
       "7013                      0.347522  \n",
       "1768                      0.008126  \n",
       "2267                      0.034158  \n",
       "1489                      0.116613  "
      ]
     },
     "execution_count": 188,
     "metadata": {},
     "output_type": "execute_result"
    }
   ],
   "source": [
    "# test worked too\n",
    "test.head()"
   ]
  },
  {
   "cell_type": "code",
   "execution_count": 187,
   "id": "6f532b31-e76b-4511-aa81-40880359b5be",
   "metadata": {},
   "outputs": [
    {
     "data": {
      "text/plain": [
       "['monthly_charges_scaled_min_max',\n",
       " 'tenure_scaled_min_max',\n",
       " 'total_charges_scaled_min_max']"
      ]
     },
     "execution_count": 187,
     "metadata": {},
     "output_type": "execute_result"
    }
   ],
   "source": [
    "# the list of the scaled column names that are in train test and validate\n",
    "scaled_cols_list"
   ]
  },
  {
   "cell_type": "code",
   "execution_count": 189,
   "id": "c3607ad3-712e-4b78-90b4-d6266fcb4ce6",
   "metadata": {},
   "outputs": [
    {
     "data": {
      "text/plain": [
       "MinMaxScaler()"
      ]
     },
     "execution_count": 189,
     "metadata": {},
     "output_type": "execute_result"
    }
   ],
   "source": [
    "# the scaler that was ouput by the function\n",
    "min_max_scaler"
   ]
  },
  {
   "cell_type": "code",
   "execution_count": null,
   "id": "8312a44c-1043-4da1-aefa-a7b913427384",
   "metadata": {},
   "outputs": [],
   "source": []
  }
 ],
 "metadata": {
  "kernelspec": {
   "display_name": "Python 3",
   "language": "python",
   "name": "python3"
  },
  "language_info": {
   "codemirror_mode": {
    "name": "ipython",
    "version": 3
   },
   "file_extension": ".py",
   "mimetype": "text/x-python",
   "name": "python",
   "nbconvert_exporter": "python",
   "pygments_lexer": "ipython3",
   "version": "3.8.5"
  }
 },
 "nbformat": 4,
 "nbformat_minor": 5
}
