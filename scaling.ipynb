{
 "cells": [
  {
   "cell_type": "markdown",
   "id": "8ff329a4-32b7-4317-af45-867e8cfb8599",
   "metadata": {},
   "source": [
    "# Scaling\n",
    "Do your work for these exercises in a jupyter notebook named scaling. Use the telco dataset you acquired and prepped in previous lesson. Once you are finished, you may wish to repeat the exercises on another dataset for additional practice.\n",
    "\n",
    "1. Apply the scalers we talked about in this lesson to your data and visualize the results for the unscaled and scaled distribution .\n",
    "2. Apply the .inverse_transform method to your scaled data. Is the resulting dataset the exact same as the original data?\n",
    "3. Read the documentation for sklearn's QuantileTransformer. Use normal for the output_distribution and apply this scaler to your data. Visualize the result of your data scaling.\n",
    "4. Use the QuantileTransformer, but omit the output_distribution argument. Visualize your results. What do you notice?\n",
    "5. Based on the work you've done, choose a scaling method for your dataset. Write a function within your prepare.py that accepts as input the train, validate, and test data splits, and returns the scaled versions of each. Be sure to only learn the parameters for scaling from your training data!"
   ]
  },
  {
   "cell_type": "code",
   "execution_count": 6,
   "id": "76af9eb6-44cd-4eea-84f5-acda513b29ae",
   "metadata": {},
   "outputs": [],
   "source": [
    "import pandas as pd\n",
    "import numpy as np\n",
    "\n",
    "import acquire\n",
    "import wrangle as w\n",
    "\n",
    "import matplotlib.pyplot as plt\n",
    "import seaborn as sns\n",
    "\n",
    "from sklearn.preprocessing import MinMaxScaler, RobustScaler, StandardScaler"
   ]
  },
  {
   "cell_type": "code",
   "execution_count": 3,
   "id": "17d8f6f1-6e25-4dd7-a856-ce0c17218b6c",
   "metadata": {},
   "outputs": [],
   "source": [
    "# get data\n",
    "df = w.wrangle_telco()"
   ]
  },
  {
   "cell_type": "code",
   "execution_count": 4,
   "id": "15ded902-7c67-4838-b25b-ab01d4133ede",
   "metadata": {},
   "outputs": [
    {
     "data": {
      "text/html": [
       "<div>\n",
       "<style scoped>\n",
       "    .dataframe tbody tr th:only-of-type {\n",
       "        vertical-align: middle;\n",
       "    }\n",
       "\n",
       "    .dataframe tbody tr th {\n",
       "        vertical-align: top;\n",
       "    }\n",
       "\n",
       "    .dataframe thead th {\n",
       "        text-align: right;\n",
       "    }\n",
       "</style>\n",
       "<table border=\"1\" class=\"dataframe\">\n",
       "  <thead>\n",
       "    <tr style=\"text-align: right;\">\n",
       "      <th></th>\n",
       "      <th>customer_id</th>\n",
       "      <th>monthly_charges</th>\n",
       "      <th>tenure</th>\n",
       "      <th>total_charges</th>\n",
       "    </tr>\n",
       "  </thead>\n",
       "  <tbody>\n",
       "    <tr>\n",
       "      <th>0</th>\n",
       "      <td>0002-ORFBO</td>\n",
       "      <td>65.6</td>\n",
       "      <td>9</td>\n",
       "      <td>593.30</td>\n",
       "    </tr>\n",
       "    <tr>\n",
       "      <th>1</th>\n",
       "      <td>0003-MKNFE</td>\n",
       "      <td>59.9</td>\n",
       "      <td>9</td>\n",
       "      <td>542.40</td>\n",
       "    </tr>\n",
       "    <tr>\n",
       "      <th>2</th>\n",
       "      <td>0004-TLHLJ</td>\n",
       "      <td>73.9</td>\n",
       "      <td>4</td>\n",
       "      <td>280.85</td>\n",
       "    </tr>\n",
       "    <tr>\n",
       "      <th>3</th>\n",
       "      <td>0011-IGKFF</td>\n",
       "      <td>98.0</td>\n",
       "      <td>13</td>\n",
       "      <td>1237.85</td>\n",
       "    </tr>\n",
       "    <tr>\n",
       "      <th>4</th>\n",
       "      <td>0013-EXCHZ</td>\n",
       "      <td>83.9</td>\n",
       "      <td>3</td>\n",
       "      <td>267.40</td>\n",
       "    </tr>\n",
       "  </tbody>\n",
       "</table>\n",
       "</div>"
      ],
      "text/plain": [
       "  customer_id  monthly_charges  tenure  total_charges\n",
       "0  0002-ORFBO             65.6       9         593.30\n",
       "1  0003-MKNFE             59.9       9         542.40\n",
       "2  0004-TLHLJ             73.9       4         280.85\n",
       "3  0011-IGKFF             98.0      13        1237.85\n",
       "4  0013-EXCHZ             83.9       3         267.40"
      ]
     },
     "execution_count": 4,
     "metadata": {},
     "output_type": "execute_result"
    }
   ],
   "source": [
    "df.head()"
   ]
  },
  {
   "cell_type": "code",
   "execution_count": 5,
   "id": "ed5fbd40-1564-4802-8006-63a202437344",
   "metadata": {},
   "outputs": [
    {
     "name": "stdout",
     "output_type": "stream",
     "text": [
      "train --> (3943, 4)\n",
      "validate --> (1691, 4)\n",
      "test --> (1409, 4)\n"
     ]
    }
   ],
   "source": [
    "train, test, split = w.banana_split(df)"
   ]
  },
  {
   "cell_type": "code",
   "execution_count": null,
   "id": "00ff6e0e-4202-445b-8f1e-761df1df3c97",
   "metadata": {},
   "outputs": [],
   "source": [
    "# use Min_max scaler"
   ]
  },
  {
   "cell_type": "code",
   "execution_count": 8,
   "id": "493290a6-ca85-4bd0-840c-7d128b9d3e60",
   "metadata": {},
   "outputs": [],
   "source": [
    "mm_scaler = MinMaxScaler()"
   ]
  },
  {
   "cell_type": "code",
   "execution_count": 10,
   "id": "0c74e145-837b-4a6c-9af4-a1d62e28c3ec",
   "metadata": {},
   "outputs": [
    {
     "data": {
      "text/plain": [
       "MinMaxScaler()"
      ]
     },
     "execution_count": 10,
     "metadata": {},
     "output_type": "execute_result"
    }
   ],
   "source": [
    "mm_scaler.fit(train[['monthly_charges']])"
   ]
  },
  {
   "cell_type": "code",
   "execution_count": 12,
   "id": "c58041e0-c450-4ef6-8a0a-ad86f16a7ca1",
   "metadata": {},
   "outputs": [],
   "source": [
    "train['monthly_charges_minmax'] = mm_scaler.transform(train[['monthly_charges']])"
   ]
  },
  {
   "cell_type": "code",
   "execution_count": 41,
   "id": "11ec2e0a-80ba-43d3-93d4-d1310db48a12",
   "metadata": {},
   "outputs": [
    {
     "data": {
      "image/png": "[encoded data removed]",
      "text/plain": [
       "<Figure size 1080x288 with 2 Axes>"
      ]
     },
     "metadata": {
      "needs_background": "light"
     },
     "output_type": "display_data"
    }
   ],
   "source": [
    "plt.figure(figsize=(15,4))\n",
    "plt.subplot(121)\n",
    "sns.distplot(train.monthly_charges, kde = False)\n",
    "\n",
    "plt.subplot(122)\n",
    "sns.distplot(train.monthly_charges_minmax, kde = False)\n",
    "\n",
    "plt.show()"
   ]
  },
  {
   "cell_type": "code",
   "execution_count": 61,
   "id": "34cadcb2-2c6a-4be8-b951-d4eeb8130801",
   "metadata": {},
   "outputs": [
    {
     "data": {
      "image/png": "[encoded data removed]",
      "text/plain": [
       "<Figure size 1152x360 with 3 Axes>"
      ]
     },
     "metadata": {
      "needs_background": "light"
     },
     "output_type": "display_data"
    },
    {
     "data": {
      "image/png": "[encoded data removed]",
      "text/plain": [
       "<Figure size 1152x360 with 3 Axes>"
      ]
     },
     "metadata": {
      "needs_background": "light"
     },
     "output_type": "display_data"
    },
    {
     "data": {
      "image/png": "[encoded data removed]",
      "text/plain": [
       "<Figure size 1152x360 with 3 Axes>"
      ]
     },
     "metadata": {
      "needs_background": "light"
     },
     "output_type": "display_data"
    },
    {
     "data": {
      "image/png": "[encoded data removed]",
      "text/plain": [
       "<Figure size 1152x360 with 3 Axes>"
      ]
     },
     "metadata": {
      "needs_background": "light"
     },
     "output_type": "display_data"
    }
   ],
   "source": [
    "\n",
    "# OK let's loop this mamma jamma\n",
    "\n",
    "# create lists\n",
    "col_names = ['monthly_charges', 'tenure', 'total_charges']\n",
    "\n",
    "\n",
    "# plot regular scales\n",
    "\n",
    "fig, axs = plt.subplots(1, 3, figsize=(16,5), sharey=True)\n",
    "\n",
    "for ax, col in zip(axs, col_names):\n",
    "    \n",
    "    sns.histplot(x = train[col], kde = False, ax = ax)\n",
    "    ax.set(title = col)\n",
    "    \n",
    "\n",
    "# use MinMax scales\n",
    "    \n",
    "fig, axs = plt.subplots(1, 3, figsize=(16,5), sharey=True)\n",
    "\n",
    "for ax, col in zip(axs, col_names):\n",
    "    \n",
    "    mm_scaler = MinMaxScaler()\n",
    "\n",
    "    mm_scaler.fit(train[{col}])\n",
    "\n",
    "    train[f'{col}_minmax'] = mm_scaler.transform(train[[col]])\n",
    "    \n",
    "    sns.histplot(x = train[f'{col}_minmax'], kde = False, ax = ax)\n",
    "    \n",
    "    ax.set(title = f'Min_Max_scaled for {col}')\n",
    "        \n",
    "\n",
    "# use RobustScaler\n",
    "        \n",
    "fig, axs = plt.subplots(1, 3, figsize=(16,5), sharey=True)\n",
    "\n",
    "for ax, col in zip(axs, col_names):\n",
    "    \n",
    "    robust_scaler = RobustScaler()\n",
    "\n",
    "    robust_scaler.fit(train[{col}])\n",
    "\n",
    "    train[f'{col}_minmax'] = robust_scaler.transform(train[[col]])\n",
    "    \n",
    "    sns.histplot(x = train[f'{col}_minmax'], kde = False, ax = ax)\n",
    "    \n",
    "    ax.set(title = f'Robust Scale of {col}')\n",
    "\n",
    "    \n",
    "# use StandardScaler\n",
    "fig, axs = plt.subplots(1, 3, figsize=(16,5), sharey=True)\n",
    "\n",
    "for ax, col in zip(axs, col_names):\n",
    "    \n",
    "    standard_scaler = StandardScaler()\n",
    "\n",
    "    standard_scaler.fit(train[{col}])\n",
    "\n",
    "    train[f'{col}_minmax'] = standard_scaler.transform(train[[col]])\n",
    "    \n",
    "    sns.histplot(x = train[f'{col}_minmax'], kde = False, ax = ax)\n",
    "    \n",
    "    ax.set(title = f'Standard Scaling of {col}')"
   ]
  },
  {
   "cell_type": "code",
   "execution_count": 60,
   "id": "6b5882cd-6e4e-40bd-8ff0-bebbcf48a6f4",
   "metadata": {},
   "outputs": [
    {
     "data": {
      "text/html": [
       "<div>\n",
       "<style scoped>\n",
       "    .dataframe tbody tr th:only-of-type {\n",
       "        vertical-align: middle;\n",
       "    }\n",
       "\n",
       "    .dataframe tbody tr th {\n",
       "        vertical-align: top;\n",
       "    }\n",
       "\n",
       "    .dataframe thead th {\n",
       "        text-align: right;\n",
       "    }\n",
       "</style>\n",
       "<table border=\"1\" class=\"dataframe\">\n",
       "  <thead>\n",
       "    <tr style=\"text-align: right;\">\n",
       "      <th></th>\n",
       "      <th>customer_id</th>\n",
       "      <th>monthly_charges</th>\n",
       "      <th>tenure</th>\n",
       "      <th>total_charges</th>\n",
       "      <th>monthly_charges_minmax</th>\n",
       "      <th>tenure_minmax</th>\n",
       "      <th>total_charges_minmax</th>\n",
       "    </tr>\n",
       "  </thead>\n",
       "  <tbody>\n",
       "    <tr>\n",
       "      <th>2118</th>\n",
       "      <td>3043-TYBNO</td>\n",
       "      <td>60.65</td>\n",
       "      <td>3</td>\n",
       "      <td>196.90</td>\n",
       "      <td>-0.120254</td>\n",
       "      <td>-1.197107</td>\n",
       "      <td>-0.911654</td>\n",
       "    </tr>\n",
       "    <tr>\n",
       "      <th>6206</th>\n",
       "      <td>8778-LMWTJ</td>\n",
       "      <td>74.85</td>\n",
       "      <td>9</td>\n",
       "      <td>708.20</td>\n",
       "      <td>0.351949</td>\n",
       "      <td>-0.950946</td>\n",
       "      <td>-0.683290</td>\n",
       "    </tr>\n",
       "    <tr>\n",
       "      <th>877</th>\n",
       "      <td>1269-FOYWN</td>\n",
       "      <td>20.00</td>\n",
       "      <td>44</td>\n",
       "      <td>860.85</td>\n",
       "      <td>-1.472019</td>\n",
       "      <td>0.484999</td>\n",
       "      <td>-0.615112</td>\n",
       "    </tr>\n",
       "    <tr>\n",
       "      <th>2407</th>\n",
       "      <td>3446-QDSZF</td>\n",
       "      <td>55.50</td>\n",
       "      <td>4</td>\n",
       "      <td>227.35</td>\n",
       "      <td>-0.291511</td>\n",
       "      <td>-1.156080</td>\n",
       "      <td>-0.898054</td>\n",
       "    </tr>\n",
       "    <tr>\n",
       "      <th>2780</th>\n",
       "      <td>3956-MGXOG</td>\n",
       "      <td>80.60</td>\n",
       "      <td>28</td>\n",
       "      <td>2244.95</td>\n",
       "      <td>0.543157</td>\n",
       "      <td>-0.171433</td>\n",
       "      <td>0.003074</td>\n",
       "    </tr>\n",
       "  </tbody>\n",
       "</table>\n",
       "</div>"
      ],
      "text/plain": [
       "     customer_id  monthly_charges  tenure  total_charges  \\\n",
       "2118  3043-TYBNO            60.65       3         196.90   \n",
       "6206  8778-LMWTJ            74.85       9         708.20   \n",
       "877   1269-FOYWN            20.00      44         860.85   \n",
       "2407  3446-QDSZF            55.50       4         227.35   \n",
       "2780  3956-MGXOG            80.60      28        2244.95   \n",
       "\n",
       "      monthly_charges_minmax  tenure_minmax  total_charges_minmax  \n",
       "2118               -0.120254      -1.197107             -0.911654  \n",
       "6206                0.351949      -0.950946             -0.683290  \n",
       "877                -1.472019       0.484999             -0.615112  \n",
       "2407               -0.291511      -1.156080             -0.898054  \n",
       "2780                0.543157      -0.171433              0.003074  "
      ]
     },
     "execution_count": 60,
     "metadata": {},
     "output_type": "execute_result"
    }
   ],
   "source": [
    "train.head()"
   ]
  },
  {
   "cell_type": "code",
   "execution_count": null,
   "id": "f93a77fb-7d1c-4ef0-b46e-f5cabb965665",
   "metadata": {},
   "outputs": [],
   "source": []
  },
  {
   "cell_type": "code",
   "execution_count": null,
   "id": "f674fc25-930f-4fa0-b2a3-59e21dd75471",
   "metadata": {},
   "outputs": [],
   "source": []
  }
 ],
 "metadata": {
  "kernelspec": {
   "display_name": "Python 3",
   "language": "python",
   "name": "python3"
  },
  "language_info": {
   "codemirror_mode": {
    "name": "ipython",
    "version": 3
   },
   "file_extension": ".py",
   "mimetype": "text/x-python",
   "name": "python",
   "nbconvert_exporter": "python",
   "pygments_lexer": "ipython3",
   "version": "3.8.5"
  }
 },
 "nbformat": 4,
 "nbformat_minor": 5
}
