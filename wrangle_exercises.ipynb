{
 "cells": [
  {
   "cell_type": "markdown",
   "id": "b80bd533-4d84-4aa8-a6d7-b6153fccf717",
   "metadata": {},
   "source": [
    "# Regression Exercises\n",
    "\n",
    "<hr style=\"border-top: 10px groove cyan; margin-top: 1px; margin-bottom: 1px\"></hr>\n",
    "\n",
    "## Exercises I - Required\n",
    "Let's review the steps we take at the beginning of each new module.\n",
    "\n",
    "1. Create a new repository named regression-exercises in your GitHub; all of your Regression work will be housed here.\n",
    "2. Clone this repository within your local codeup-data-science directory.\n",
    "3. Create a .gitignore and make sure your list of 'files to ignore' includes your env.py file.\n",
    "4. Ceate a README.md file that outlines the contents and purpose of your repository.\n",
    "5. Add, commit, and push these two files.\n",
    "6. Now you can add your env.py file to this repository to access the Codeup database server.\n",
    "7. For these exercises, you will create wrangle.ipynb and wrangle.py files to hold necessary functions.\n",
    "8. As always, add, commit, and push your work often."
   ]
  },
  {
   "cell_type": "code",
   "execution_count": 1,
   "id": "b37d8d9b-9d6e-42bf-9a7e-ce8314d515d8",
   "metadata": {},
   "outputs": [],
   "source": [
    "import pandas as pd\n",
    "import numpy as np\n",
    "import acquire\n",
    "import wrangle as w"
   ]
  },
  {
   "cell_type": "markdown",
   "id": "4861324d-8119-4fc9-b1bf-1ac95d2ea515",
   "metadata": {},
   "source": [
    "<hr style=\"border-top: 10px groove cyan; margin-top: 1px; margin-bottom: 1px\"></hr>\n",
    "\n",
    "## Exercises II - Required\n",
    "Let's set up an example scenario as perspective for our regression exercises using the Telco dataset.\n",
    "\n",
    "As a customer analyst for Telco, you want to know who has spent the most money with the company over their lifetime. You have monthly charges and tenure, so you think you will be able to use those two attributes as features to estimate total charges. You need to do this within an average of $5.00 per customer.\n",
    "\n",
    "In these exercises, you will complete the first step toward the above goal: acquire and prepare the necessary Telco data from the telco_churn database in the Codeup database server.\n",
    "\n",
    "1. Acquire customer_id, monthly_charges, tenure, and total_charges from the telco_churn database for all customers with a 2-year contract.\n",
    "2. Using your acquired Telco data, walk through the summarization and cleaning steps in your wrangle.ipynb file like we did above. You may handle the missing values however you feel is appropriate and meaningful; remember to document your process and decisions using markdown and code commenting where helpful.\n",
    "3. End with a wrangle.py file that contains the necessary functions to automate your process from acquiring the data to returning a cleaned dataframe with no missing values. Name your final function wrangle_telco."
   ]
  },
  {
   "cell_type": "code",
   "execution_count": 25,
   "id": "ac506866-076c-4c18-a9ea-aad83c01dcba",
   "metadata": {},
   "outputs": [],
   "source": [
    "query = \"SELECT customer_id, monthly_charges, tenure, total_charges FROM customers WHERE `contract_type_id` = 3\""
   ]
  },
  {
   "cell_type": "code",
   "execution_count": 26,
   "id": "af1d2d43-cb21-4b9a-a3ba-f5d69663c186",
   "metadata": {},
   "outputs": [],
   "source": [
    "df = acquire.get_telco_data(query)"
   ]
  },
  {
   "cell_type": "code",
   "execution_count": 27,
   "id": "fbdca60a-d8d4-485f-964f-ef20d6a7e96e",
   "metadata": {},
   "outputs": [
    {
     "data": {
      "text/html": [
       "<div>\n",
       "<style scoped>\n",
       "    .dataframe tbody tr th:only-of-type {\n",
       "        vertical-align: middle;\n",
       "    }\n",
       "\n",
       "    .dataframe tbody tr th {\n",
       "        vertical-align: top;\n",
       "    }\n",
       "\n",
       "    .dataframe thead th {\n",
       "        text-align: right;\n",
       "    }\n",
       "</style>\n",
       "<table border=\"1\" class=\"dataframe\">\n",
       "  <thead>\n",
       "    <tr style=\"text-align: right;\">\n",
       "      <th></th>\n",
       "      <th>customer_id</th>\n",
       "      <th>monthly_charges</th>\n",
       "      <th>tenure</th>\n",
       "      <th>total_charges</th>\n",
       "    </tr>\n",
       "  </thead>\n",
       "  <tbody>\n",
       "    <tr>\n",
       "      <th>0</th>\n",
       "      <td>0013-SMEOE</td>\n",
       "      <td>109.70</td>\n",
       "      <td>71</td>\n",
       "      <td>7904.25</td>\n",
       "    </tr>\n",
       "    <tr>\n",
       "      <th>1</th>\n",
       "      <td>0014-BMAQU</td>\n",
       "      <td>84.65</td>\n",
       "      <td>63</td>\n",
       "      <td>5377.8</td>\n",
       "    </tr>\n",
       "    <tr>\n",
       "      <th>2</th>\n",
       "      <td>0016-QLJIS</td>\n",
       "      <td>90.45</td>\n",
       "      <td>65</td>\n",
       "      <td>5957.9</td>\n",
       "    </tr>\n",
       "    <tr>\n",
       "      <th>3</th>\n",
       "      <td>0017-DINOC</td>\n",
       "      <td>45.20</td>\n",
       "      <td>54</td>\n",
       "      <td>2460.55</td>\n",
       "    </tr>\n",
       "    <tr>\n",
       "      <th>4</th>\n",
       "      <td>0017-IUDMW</td>\n",
       "      <td>116.80</td>\n",
       "      <td>72</td>\n",
       "      <td>8456.75</td>\n",
       "    </tr>\n",
       "  </tbody>\n",
       "</table>\n",
       "</div>"
      ],
      "text/plain": [
       "  customer_id  monthly_charges  tenure total_charges\n",
       "0  0013-SMEOE           109.70      71       7904.25\n",
       "1  0014-BMAQU            84.65      63        5377.8\n",
       "2  0016-QLJIS            90.45      65        5957.9\n",
       "3  0017-DINOC            45.20      54       2460.55\n",
       "4  0017-IUDMW           116.80      72       8456.75"
      ]
     },
     "execution_count": 27,
     "metadata": {},
     "output_type": "execute_result"
    }
   ],
   "source": [
    "df.head()"
   ]
  },
  {
   "cell_type": "code",
   "execution_count": 28,
   "id": "94e5f5e5-ab25-484c-9c90-1d4873e2c785",
   "metadata": {},
   "outputs": [
    {
     "name": "stdout",
     "output_type": "stream",
     "text": [
      "<class 'pandas.core.frame.DataFrame'>\n",
      "RangeIndex: 1695 entries, 0 to 1694\n",
      "Data columns (total 4 columns):\n",
      " #   Column           Non-Null Count  Dtype  \n",
      "---  ------           --------------  -----  \n",
      " 0   customer_id      1695 non-null   object \n",
      " 1   monthly_charges  1695 non-null   float64\n",
      " 2   tenure           1695 non-null   int64  \n",
      " 3   total_charges    1695 non-null   object \n",
      "dtypes: float64(1), int64(1), object(2)\n",
      "memory usage: 53.1+ KB\n"
     ]
    }
   ],
   "source": [
    "df.info()"
   ]
  },
  {
   "cell_type": "code",
   "execution_count": 29,
   "id": "c6c34749-7bba-44fb-8c05-0bf275476e46",
   "metadata": {},
   "outputs": [
    {
     "data": {
      "text/html": [
       "<div>\n",
       "<style scoped>\n",
       "    .dataframe tbody tr th:only-of-type {\n",
       "        vertical-align: middle;\n",
       "    }\n",
       "\n",
       "    .dataframe tbody tr th {\n",
       "        vertical-align: top;\n",
       "    }\n",
       "\n",
       "    .dataframe thead th {\n",
       "        text-align: right;\n",
       "    }\n",
       "</style>\n",
       "<table border=\"1\" class=\"dataframe\">\n",
       "  <thead>\n",
       "    <tr style=\"text-align: right;\">\n",
       "      <th></th>\n",
       "      <th>count</th>\n",
       "      <th>mean</th>\n",
       "      <th>std</th>\n",
       "      <th>min</th>\n",
       "      <th>25%</th>\n",
       "      <th>50%</th>\n",
       "      <th>75%</th>\n",
       "      <th>max</th>\n",
       "    </tr>\n",
       "  </thead>\n",
       "  <tbody>\n",
       "    <tr>\n",
       "      <th>monthly_charges</th>\n",
       "      <td>1695.0</td>\n",
       "      <td>60.770413</td>\n",
       "      <td>34.678865</td>\n",
       "      <td>18.4</td>\n",
       "      <td>24.025</td>\n",
       "      <td>64.35</td>\n",
       "      <td>90.45</td>\n",
       "      <td>118.75</td>\n",
       "    </tr>\n",
       "    <tr>\n",
       "      <th>tenure</th>\n",
       "      <td>1695.0</td>\n",
       "      <td>56.735103</td>\n",
       "      <td>18.209363</td>\n",
       "      <td>0.0</td>\n",
       "      <td>48.000</td>\n",
       "      <td>64.00</td>\n",
       "      <td>71.00</td>\n",
       "      <td>72.00</td>\n",
       "    </tr>\n",
       "  </tbody>\n",
       "</table>\n",
       "</div>"
      ],
      "text/plain": [
       "                  count       mean        std   min     25%    50%    75%  \\\n",
       "monthly_charges  1695.0  60.770413  34.678865  18.4  24.025  64.35  90.45   \n",
       "tenure           1695.0  56.735103  18.209363   0.0  48.000  64.00  71.00   \n",
       "\n",
       "                    max  \n",
       "monthly_charges  118.75  \n",
       "tenure            72.00  "
      ]
     },
     "execution_count": 29,
     "metadata": {},
     "output_type": "execute_result"
    }
   ],
   "source": [
    "df.describe().T"
   ]
  },
  {
   "cell_type": "markdown",
   "id": "b82e4d26-f7b4-47c5-ab13-361ea6e7e0ca",
   "metadata": {},
   "source": [
    "#### Takeaways\n",
    "- total_charges is an object\n",
    "- don't appear to be any blanks off the bat\n",
    "- I know there are blanks in total_charges"
   ]
  },
  {
   "cell_type": "code",
   "execution_count": 30,
   "id": "dbf3373c-ee5d-4234-a6a1-4097c3df2313",
   "metadata": {},
   "outputs": [
    {
     "data": {
      "text/plain": [
       "           10\n",
       "1161.75     2\n",
       "5714.2      2\n",
       "3533.6      2\n",
       "5682.25     2\n",
       "           ..\n",
       "2016.3      1\n",
       "1177.95     1\n",
       "3616.25     1\n",
       "854.8       1\n",
       "225.55      1\n",
       "Name: total_charges, Length: 1678, dtype: int64"
      ]
     },
     "execution_count": 30,
     "metadata": {},
     "output_type": "execute_result"
    }
   ],
   "source": [
    "# do value counts to see 10 spaces\n",
    "df.total_charges.value_counts()"
   ]
  },
  {
   "cell_type": "code",
   "execution_count": 31,
   "id": "45badbfe-d254-4ef3-ba9d-9d5d35d9f005",
   "metadata": {},
   "outputs": [
    {
     "data": {
      "text/html": [
       "<div>\n",
       "<style scoped>\n",
       "    .dataframe tbody tr th:only-of-type {\n",
       "        vertical-align: middle;\n",
       "    }\n",
       "\n",
       "    .dataframe tbody tr th {\n",
       "        vertical-align: top;\n",
       "    }\n",
       "\n",
       "    .dataframe thead th {\n",
       "        text-align: right;\n",
       "    }\n",
       "</style>\n",
       "<table border=\"1\" class=\"dataframe\">\n",
       "  <thead>\n",
       "    <tr style=\"text-align: right;\">\n",
       "      <th></th>\n",
       "      <th>customer_id</th>\n",
       "      <th>monthly_charges</th>\n",
       "      <th>tenure</th>\n",
       "      <th>total_charges</th>\n",
       "    </tr>\n",
       "  </thead>\n",
       "  <tbody>\n",
       "    <tr>\n",
       "      <th>234</th>\n",
       "      <td>1371-DWPAZ</td>\n",
       "      <td>56.05</td>\n",
       "      <td>0</td>\n",
       "      <td></td>\n",
       "    </tr>\n",
       "    <tr>\n",
       "      <th>416</th>\n",
       "      <td>2520-SGTTA</td>\n",
       "      <td>20.00</td>\n",
       "      <td>0</td>\n",
       "      <td></td>\n",
       "    </tr>\n",
       "    <tr>\n",
       "      <th>453</th>\n",
       "      <td>2775-SEFEE</td>\n",
       "      <td>61.90</td>\n",
       "      <td>0</td>\n",
       "      <td></td>\n",
       "    </tr>\n",
       "    <tr>\n",
       "      <th>505</th>\n",
       "      <td>3115-CZMZD</td>\n",
       "      <td>20.25</td>\n",
       "      <td>0</td>\n",
       "      <td></td>\n",
       "    </tr>\n",
       "    <tr>\n",
       "      <th>524</th>\n",
       "      <td>3213-VVOLG</td>\n",
       "      <td>25.35</td>\n",
       "      <td>0</td>\n",
       "      <td></td>\n",
       "    </tr>\n",
       "    <tr>\n",
       "      <th>678</th>\n",
       "      <td>4075-WKNIU</td>\n",
       "      <td>73.35</td>\n",
       "      <td>0</td>\n",
       "      <td></td>\n",
       "    </tr>\n",
       "    <tr>\n",
       "      <th>716</th>\n",
       "      <td>4367-NUYAO</td>\n",
       "      <td>25.75</td>\n",
       "      <td>0</td>\n",
       "      <td></td>\n",
       "    </tr>\n",
       "    <tr>\n",
       "      <th>726</th>\n",
       "      <td>4472-LVYGI</td>\n",
       "      <td>52.55</td>\n",
       "      <td>0</td>\n",
       "      <td></td>\n",
       "    </tr>\n",
       "    <tr>\n",
       "      <th>941</th>\n",
       "      <td>5709-LVOEQ</td>\n",
       "      <td>80.85</td>\n",
       "      <td>0</td>\n",
       "      <td></td>\n",
       "    </tr>\n",
       "    <tr>\n",
       "      <th>1293</th>\n",
       "      <td>7644-OMVMY</td>\n",
       "      <td>19.85</td>\n",
       "      <td>0</td>\n",
       "      <td></td>\n",
       "    </tr>\n",
       "  </tbody>\n",
       "</table>\n",
       "</div>"
      ],
      "text/plain": [
       "     customer_id  monthly_charges  tenure total_charges\n",
       "234   1371-DWPAZ            56.05       0              \n",
       "416   2520-SGTTA            20.00       0              \n",
       "453   2775-SEFEE            61.90       0              \n",
       "505   3115-CZMZD            20.25       0              \n",
       "524   3213-VVOLG            25.35       0              \n",
       "678   4075-WKNIU            73.35       0              \n",
       "716   4367-NUYAO            25.75       0              \n",
       "726   4472-LVYGI            52.55       0              \n",
       "941   5709-LVOEQ            80.85       0              \n",
       "1293  7644-OMVMY            19.85       0              "
      ]
     },
     "execution_count": 31,
     "metadata": {},
     "output_type": "execute_result"
    }
   ],
   "source": [
    "# see what the blank total charges look like\n",
    "df[df.total_charges == ' ']"
   ]
  },
  {
   "cell_type": "markdown",
   "id": "4fd19998-58e2-4382-99d8-31d103f54418",
   "metadata": {},
   "source": [
    "#### Dealing with the blanks (the whitespaces)\n",
    "- they seem to have all tenure of 0 \n",
    "- can replace total_charges with 0 because these people seem to have not been here for a month yet\n",
    "- they haven't paid their first bill\n",
    "- will replace total_charges with a 0 then convert to float"
   ]
  },
  {
   "cell_type": "code",
   "execution_count": 32,
   "id": "e7fcd015-56d7-45f0-b8f5-23a413be5b57",
   "metadata": {},
   "outputs": [],
   "source": [
    "df['total_charges'] = df['total_charges'].str.replace(' ', '0').astype('float')"
   ]
  },
  {
   "cell_type": "code",
   "execution_count": 33,
   "id": "7aef8647-0748-4b35-a9ef-bebe6a0d5632",
   "metadata": {},
   "outputs": [
    {
     "name": "stdout",
     "output_type": "stream",
     "text": [
      "<class 'pandas.core.frame.DataFrame'>\n",
      "RangeIndex: 1695 entries, 0 to 1694\n",
      "Data columns (total 4 columns):\n",
      " #   Column           Non-Null Count  Dtype  \n",
      "---  ------           --------------  -----  \n",
      " 0   customer_id      1695 non-null   object \n",
      " 1   monthly_charges  1695 non-null   float64\n",
      " 2   tenure           1695 non-null   int64  \n",
      " 3   total_charges    1695 non-null   float64\n",
      "dtypes: float64(2), int64(1), object(1)\n",
      "memory usage: 53.1+ KB\n"
     ]
    }
   ],
   "source": [
    "df.info()"
   ]
  },
  {
   "cell_type": "code",
   "execution_count": 34,
   "id": "c0438777-b3e6-47ce-8133-8d8fd6eb691a",
   "metadata": {},
   "outputs": [
    {
     "data": {
      "text/html": [
       "<div>\n",
       "<style scoped>\n",
       "    .dataframe tbody tr th:only-of-type {\n",
       "        vertical-align: middle;\n",
       "    }\n",
       "\n",
       "    .dataframe tbody tr th {\n",
       "        vertical-align: top;\n",
       "    }\n",
       "\n",
       "    .dataframe thead th {\n",
       "        text-align: right;\n",
       "    }\n",
       "</style>\n",
       "<table border=\"1\" class=\"dataframe\">\n",
       "  <thead>\n",
       "    <tr style=\"text-align: right;\">\n",
       "      <th></th>\n",
       "      <th>count</th>\n",
       "      <th>mean</th>\n",
       "      <th>std</th>\n",
       "      <th>min</th>\n",
       "      <th>25%</th>\n",
       "      <th>50%</th>\n",
       "      <th>75%</th>\n",
       "      <th>max</th>\n",
       "    </tr>\n",
       "  </thead>\n",
       "  <tbody>\n",
       "    <tr>\n",
       "      <th>monthly_charges</th>\n",
       "      <td>1695.0</td>\n",
       "      <td>60.770413</td>\n",
       "      <td>34.678865</td>\n",
       "      <td>18.4</td>\n",
       "      <td>24.025</td>\n",
       "      <td>64.35</td>\n",
       "      <td>90.45</td>\n",
       "      <td>118.75</td>\n",
       "    </tr>\n",
       "    <tr>\n",
       "      <th>tenure</th>\n",
       "      <td>1695.0</td>\n",
       "      <td>56.735103</td>\n",
       "      <td>18.209363</td>\n",
       "      <td>0.0</td>\n",
       "      <td>48.000</td>\n",
       "      <td>64.00</td>\n",
       "      <td>71.00</td>\n",
       "      <td>72.00</td>\n",
       "    </tr>\n",
       "    <tr>\n",
       "      <th>total_charges</th>\n",
       "      <td>1695.0</td>\n",
       "      <td>3706.934336</td>\n",
       "      <td>2579.517834</td>\n",
       "      <td>0.0</td>\n",
       "      <td>1269.675</td>\n",
       "      <td>3593.80</td>\n",
       "      <td>5988.80</td>\n",
       "      <td>8672.45</td>\n",
       "    </tr>\n",
       "  </tbody>\n",
       "</table>\n",
       "</div>"
      ],
      "text/plain": [
       "                  count         mean          std   min       25%      50%  \\\n",
       "monthly_charges  1695.0    60.770413    34.678865  18.4    24.025    64.35   \n",
       "tenure           1695.0    56.735103    18.209363   0.0    48.000    64.00   \n",
       "total_charges    1695.0  3706.934336  2579.517834   0.0  1269.675  3593.80   \n",
       "\n",
       "                     75%      max  \n",
       "monthly_charges    90.45   118.75  \n",
       "tenure             71.00    72.00  \n",
       "total_charges    5988.80  8672.45  "
      ]
     },
     "execution_count": 34,
     "metadata": {},
     "output_type": "execute_result"
    }
   ],
   "source": [
    "df.describe().T"
   ]
  },
  {
   "cell_type": "code",
   "execution_count": 38,
   "id": "f53d03aa-327f-49cb-9fa6-8ef1fa4b9116",
   "metadata": {},
   "outputs": [],
   "source": [
    "def wrangle_telco():\n",
    "    # get dataframe using get_telco_data function\n",
    "    df = get_telco_data()\n",
    "    # deal with space values (turn to 0s)\n",
    "    df['total_charges'] = df['total_charges'].str.replace(' ', '0').astype('float')\n",
    "    return df\n",
    "# this is now in the wrangle.py file along with the aquire functions nessiscary "
   ]
  },
  {
   "cell_type": "code",
   "execution_count": 2,
   "id": "868c3584-d29a-46f2-9a42-15169f969884",
   "metadata": {},
   "outputs": [],
   "source": [
    "# import wrangle to test\n",
    "import wrangle"
   ]
  },
  {
   "cell_type": "code",
   "execution_count": 4,
   "id": "003c4719-d533-45a1-ab78-7ba1673a19b6",
   "metadata": {},
   "outputs": [],
   "source": [
    "# test function\n",
    "test_df = wrangle.wrangle_telco()"
   ]
  },
  {
   "cell_type": "code",
   "execution_count": 5,
   "id": "4e33620b-dff8-414b-837f-85d935cb551e",
   "metadata": {},
   "outputs": [
    {
     "name": "stdout",
     "output_type": "stream",
     "text": [
      "<class 'pandas.core.frame.DataFrame'>\n",
      "RangeIndex: 7043 entries, 0 to 7042\n",
      "Data columns (total 4 columns):\n",
      " #   Column           Non-Null Count  Dtype  \n",
      "---  ------           --------------  -----  \n",
      " 0   customer_id      7043 non-null   object \n",
      " 1   monthly_charges  7043 non-null   float64\n",
      " 2   tenure           7043 non-null   int64  \n",
      " 3   total_charges    7043 non-null   float64\n",
      "dtypes: float64(2), int64(1), object(1)\n",
      "memory usage: 220.2+ KB\n"
     ]
    }
   ],
   "source": [
    "test_df.info()"
   ]
  },
  {
   "cell_type": "code",
   "execution_count": 7,
   "id": "af6531c8-b099-44f0-9ed0-19b73c60252e",
   "metadata": {},
   "outputs": [
    {
     "data": {
      "text/plain": [
       "(7043, 4)"
      ]
     },
     "execution_count": 7,
     "metadata": {},
     "output_type": "execute_result"
    }
   ],
   "source": [
    "test_df.shape"
   ]
  },
  {
   "cell_type": "code",
   "execution_count": 10,
   "id": "a6c37f4d-a456-43d7-8984-4d3fd6748ee5",
   "metadata": {},
   "outputs": [
    {
     "data": {
      "text/html": [
       "<div>\n",
       "<style scoped>\n",
       "    .dataframe tbody tr th:only-of-type {\n",
       "        vertical-align: middle;\n",
       "    }\n",
       "\n",
       "    .dataframe tbody tr th {\n",
       "        vertical-align: top;\n",
       "    }\n",
       "\n",
       "    .dataframe thead th {\n",
       "        text-align: right;\n",
       "    }\n",
       "</style>\n",
       "<table border=\"1\" class=\"dataframe\">\n",
       "  <thead>\n",
       "    <tr style=\"text-align: right;\">\n",
       "      <th></th>\n",
       "      <th>count</th>\n",
       "      <th>mean</th>\n",
       "      <th>std</th>\n",
       "      <th>min</th>\n",
       "      <th>25%</th>\n",
       "      <th>50%</th>\n",
       "      <th>75%</th>\n",
       "      <th>max</th>\n",
       "    </tr>\n",
       "  </thead>\n",
       "  <tbody>\n",
       "    <tr>\n",
       "      <th>monthly_charges</th>\n",
       "      <td>7043.0</td>\n",
       "      <td>64.761692</td>\n",
       "      <td>30.090047</td>\n",
       "      <td>18.25</td>\n",
       "      <td>35.50</td>\n",
       "      <td>70.35</td>\n",
       "      <td>89.85</td>\n",
       "      <td>118.75</td>\n",
       "    </tr>\n",
       "    <tr>\n",
       "      <th>tenure</th>\n",
       "      <td>7043.0</td>\n",
       "      <td>32.371149</td>\n",
       "      <td>24.559481</td>\n",
       "      <td>0.00</td>\n",
       "      <td>9.00</td>\n",
       "      <td>29.00</td>\n",
       "      <td>55.00</td>\n",
       "      <td>72.00</td>\n",
       "    </tr>\n",
       "    <tr>\n",
       "      <th>total_charges</th>\n",
       "      <td>7043.0</td>\n",
       "      <td>2279.734304</td>\n",
       "      <td>2266.794470</td>\n",
       "      <td>0.00</td>\n",
       "      <td>398.55</td>\n",
       "      <td>1394.55</td>\n",
       "      <td>3786.60</td>\n",
       "      <td>8684.80</td>\n",
       "    </tr>\n",
       "  </tbody>\n",
       "</table>\n",
       "</div>"
      ],
      "text/plain": [
       "                  count         mean          std    min     25%      50%  \\\n",
       "monthly_charges  7043.0    64.761692    30.090047  18.25   35.50    70.35   \n",
       "tenure           7043.0    32.371149    24.559481   0.00    9.00    29.00   \n",
       "total_charges    7043.0  2279.734304  2266.794470   0.00  398.55  1394.55   \n",
       "\n",
       "                     75%      max  \n",
       "monthly_charges    89.85   118.75  \n",
       "tenure             55.00    72.00  \n",
       "total_charges    3786.60  8684.80  "
      ]
     },
     "execution_count": 10,
     "metadata": {},
     "output_type": "execute_result"
    }
   ],
   "source": [
    "test_df.describe().T"
   ]
  },
  {
   "cell_type": "code",
   "execution_count": 12,
   "id": "31d9be8b-5f65-4057-9d00-c28f172c4cd1",
   "metadata": {},
   "outputs": [
    {
     "data": {
      "text/plain": [
       "0.00       11\n",
       "20.20      11\n",
       "19.75       9\n",
       "20.05       8\n",
       "19.90       8\n",
       "           ..\n",
       "1756.60     1\n",
       "4138.05     1\n",
       "1401.15     1\n",
       "6029.90     1\n",
       "675.60      1\n",
       "Name: total_charges, Length: 6531, dtype: int64"
      ]
     },
     "execution_count": 12,
     "metadata": {},
     "output_type": "execute_result"
    }
   ],
   "source": [
    "test_df.total_charges.value_counts()"
   ]
  },
  {
   "cell_type": "markdown",
   "id": "cecb8f43-7270-4835-bcf4-951dcddc320c",
   "metadata": {},
   "source": [
    "<hr style=\"border-top: 10px groove blue; margin-top: 1px; margin-bottom: 1px\"></hr>\n",
    "\n",
    "## Exercises III - Challenge\n",
    "Let's set up an example scenario as perspective for our regression exercises using the Zillow dataset.\n",
    "\n",
    "As a Codeup data science graduate, you want to show off your skills to the Zillow data science team in hopes of getting an interview for a position you saw pop up on LinkedIn. You thought it might look impressive to build an end-to-end project in which you use some of their Kaggle data to predict property values using some of their available features; who knows, you might even do some feature engineering to blow them away. **Your goal is to predict the values of single unit properties using the obervations from 2017**.\n",
    "\n",
    "In these exercises, you will complete the first step toward the above goal: acquire and prepare the necessary Zillow data from the zillow database in the Codeup database server.\n",
    "\n",
    "1. Acquire bedroomcnt, bathroomcnt, calculatedfinishedsquarefeet, taxvaluedollarcnt, yearbuilt, taxamount, and fips from the zillow database for all 'Single Family Residential' properties.\n",
    "2. Using your acquired Zillow data, walk through the summarization and cleaning steps in your wrangle.ipynb file like we did above. You may handle the missing values however you feel is appropriate and meaninful; remember to document your process and decisions using markdown and code commenting where helpful.\n",
    "3. Store all of the necessary functions to automate your process from acquiring the data to returning a cleaned dataframe witn no missing values in your wrangle.py file. Name your final function wrangle_zillow."
   ]
  },
  {
   "cell_type": "code",
   "execution_count": 14,
   "id": "d549f6d8-9fac-4855-8ffd-0d143b4af8f8",
   "metadata": {},
   "outputs": [],
   "source": [
    "def get_zillow_data():\n",
    "    '''\n",
    "    This function reads in Zillow data from Codeup database, writes data to\n",
    "    a csv file if a local file does not exist, and returns a df.\n",
    "    '''\n",
    "    sql_query = ''' SELECT bedroomcnt, bathroomcnt, calculatedfinishedsquarefeet, taxvaluedollarcnt, yearbuilt, taxamount, fips\n",
    "    FROM properties_2017\n",
    "    WHERE propertylandusetypeid = 261;\n",
    "    '''\n",
    "\n",
    "    if os.path.isfile('zillow_data.csv'):\n",
    "        \n",
    "        # If csv file exists read in data from csv file.\n",
    "        df = pd.read_csv('zillow_data.csv', index_col=0)\n",
    "        \n",
    "    else:\n",
    "        \n",
    "        # Read fresh data from db into a DataFrame\n",
    "        df = pd.read_sql(sql_query, get_db_url('zillow'))\n",
    "        \n",
    "        # Cache data\n",
    "        df.to_csv('zillow_data.csv')\n",
    "    return df"
   ]
  },
  {
   "cell_type": "code",
   "execution_count": 2,
   "id": "06f708e5-01ae-4c2c-8ce4-368df4972ca4",
   "metadata": {},
   "outputs": [
    {
     "name": "stderr",
     "output_type": "stream",
     "text": [
      "/opt/homebrew/anaconda3/lib/python3.8/site-packages/numpy/lib/arraysetops.py:583: FutureWarning: elementwise comparison failed; returning scalar instead, but in the future will perform elementwise comparison\n",
      "  mask |= (ar1 == a)\n"
     ]
    }
   ],
   "source": [
    "df = w.get_zillow_data()"
   ]
  },
  {
   "cell_type": "code",
   "execution_count": 4,
   "id": "b80a296c-6a46-4049-88b2-3a44f9e2a262",
   "metadata": {},
   "outputs": [
    {
     "data": {
      "text/html": [
       "<div>\n",
       "<style scoped>\n",
       "    .dataframe tbody tr th:only-of-type {\n",
       "        vertical-align: middle;\n",
       "    }\n",
       "\n",
       "    .dataframe tbody tr th {\n",
       "        vertical-align: top;\n",
       "    }\n",
       "\n",
       "    .dataframe thead th {\n",
       "        text-align: right;\n",
       "    }\n",
       "</style>\n",
       "<table border=\"1\" class=\"dataframe\">\n",
       "  <thead>\n",
       "    <tr style=\"text-align: right;\">\n",
       "      <th></th>\n",
       "      <th>bedroomcnt</th>\n",
       "      <th>bathroomcnt</th>\n",
       "      <th>calculatedfinishedsquarefeet</th>\n",
       "      <th>taxvaluedollarcnt</th>\n",
       "      <th>yearbuilt</th>\n",
       "      <th>taxamount</th>\n",
       "      <th>fips</th>\n",
       "    </tr>\n",
       "  </thead>\n",
       "  <tbody>\n",
       "    <tr>\n",
       "      <th>0</th>\n",
       "      <td>0.0</td>\n",
       "      <td>0.0</td>\n",
       "      <td>NaN</td>\n",
       "      <td>27516.0</td>\n",
       "      <td>NaN</td>\n",
       "      <td>NaN</td>\n",
       "      <td>6037.0</td>\n",
       "    </tr>\n",
       "    <tr>\n",
       "      <th>1</th>\n",
       "      <td>0.0</td>\n",
       "      <td>0.0</td>\n",
       "      <td>NaN</td>\n",
       "      <td>10.0</td>\n",
       "      <td>NaN</td>\n",
       "      <td>NaN</td>\n",
       "      <td>6037.0</td>\n",
       "    </tr>\n",
       "    <tr>\n",
       "      <th>2</th>\n",
       "      <td>0.0</td>\n",
       "      <td>0.0</td>\n",
       "      <td>NaN</td>\n",
       "      <td>10.0</td>\n",
       "      <td>NaN</td>\n",
       "      <td>NaN</td>\n",
       "      <td>6037.0</td>\n",
       "    </tr>\n",
       "    <tr>\n",
       "      <th>3</th>\n",
       "      <td>0.0</td>\n",
       "      <td>0.0</td>\n",
       "      <td>NaN</td>\n",
       "      <td>2108.0</td>\n",
       "      <td>NaN</td>\n",
       "      <td>174.21</td>\n",
       "      <td>6037.0</td>\n",
       "    </tr>\n",
       "    <tr>\n",
       "      <th>4</th>\n",
       "      <td>4.0</td>\n",
       "      <td>2.0</td>\n",
       "      <td>3633.0</td>\n",
       "      <td>296425.0</td>\n",
       "      <td>2005.0</td>\n",
       "      <td>6941.39</td>\n",
       "      <td>6037.0</td>\n",
       "    </tr>\n",
       "  </tbody>\n",
       "</table>\n",
       "</div>"
      ],
      "text/plain": [
       "   bedroomcnt  bathroomcnt  calculatedfinishedsquarefeet  taxvaluedollarcnt  \\\n",
       "0         0.0          0.0                           NaN            27516.0   \n",
       "1         0.0          0.0                           NaN               10.0   \n",
       "2         0.0          0.0                           NaN               10.0   \n",
       "3         0.0          0.0                           NaN             2108.0   \n",
       "4         4.0          2.0                        3633.0           296425.0   \n",
       "\n",
       "   yearbuilt  taxamount    fips  \n",
       "0        NaN        NaN  6037.0  \n",
       "1        NaN        NaN  6037.0  \n",
       "2        NaN        NaN  6037.0  \n",
       "3        NaN     174.21  6037.0  \n",
       "4     2005.0    6941.39  6037.0  "
      ]
     },
     "execution_count": 4,
     "metadata": {},
     "output_type": "execute_result"
    }
   ],
   "source": [
    "df.head()"
   ]
  },
  {
   "cell_type": "code",
   "execution_count": 5,
   "id": "bf1dccab-b023-479d-9e35-5ba65970aede",
   "metadata": {},
   "outputs": [
    {
     "name": "stdout",
     "output_type": "stream",
     "text": [
      "<class 'pandas.core.frame.DataFrame'>\n",
      "Int64Index: 2152863 entries, 0 to 2152862\n",
      "Data columns (total 7 columns):\n",
      " #   Column                        Dtype  \n",
      "---  ------                        -----  \n",
      " 0   bedroomcnt                    float64\n",
      " 1   bathroomcnt                   float64\n",
      " 2   calculatedfinishedsquarefeet  float64\n",
      " 3   taxvaluedollarcnt             float64\n",
      " 4   yearbuilt                     float64\n",
      " 5   taxamount                     float64\n",
      " 6   fips                          float64\n",
      "dtypes: float64(7)\n",
      "memory usage: 131.4 MB\n"
     ]
    }
   ],
   "source": [
    "# interesting note, this doesn't show the non-null type count like other times I've run .info()\n",
    "df.info()"
   ]
  },
  {
   "cell_type": "code",
   "execution_count": 11,
   "id": "8f2ab801-f631-4273-a4b6-a6ee559b6963",
   "metadata": {},
   "outputs": [
    {
     "data": {
      "text/plain": [
       "bedroomcnt                       True\n",
       "bathroomcnt                      True\n",
       "calculatedfinishedsquarefeet     True\n",
       "taxvaluedollarcnt                True\n",
       "yearbuilt                        True\n",
       "taxamount                        True\n",
       "fips                            False\n",
       "dtype: bool"
      ]
     },
     "execution_count": 11,
     "metadata": {},
     "output_type": "execute_result"
    }
   ],
   "source": [
    "df.isnull().any()"
   ]
  },
  {
   "cell_type": "code",
   "execution_count": 7,
   "id": "cb8b8063-3912-48c3-b216-51f7868623e9",
   "metadata": {},
   "outputs": [],
   "source": [
    "# I saw this on the afore mentioned kaggle site. This is the credit that author gave.\n",
    "# credit: https://www.kaggle.com/willkoehrsen/start-here-a-gentle-introduction. \n",
    "# One of the best notebooks on getting started with a ML problem.\n",
    "\n",
    "def missing_values_table(df):\n",
    "    '''\n",
    "    this function takes a dataframe as input and will output metrics for missing values, and the percent of that column that has missing values\n",
    "    '''\n",
    "        # Total missing values\n",
    "        mis_val = df.isnull().sum()\n",
    "        \n",
    "        # Percentage of missing values\n",
    "        mis_val_percent = 100 * df.isnull().sum() / len(df)\n",
    "        \n",
    "        # Make a table with the results\n",
    "        mis_val_table = pd.concat([mis_val, mis_val_percent], axis=1)\n",
    "        \n",
    "        # Rename the columns\n",
    "        mis_val_table_ren_columns = mis_val_table.rename(\n",
    "        columns = {0 : 'Missing Values', 1 : '% of Total Values'})\n",
    "        \n",
    "        # Sort the table by percentage of missing descending\n",
    "        mis_val_table_ren_columns = mis_val_table_ren_columns[\n",
    "            mis_val_table_ren_columns.iloc[:,1] != 0].sort_values(\n",
    "        '% of Total Values', ascending=False).round(1)\n",
    "        \n",
    "        # Print some summary information\n",
    "        print (\"Your selected dataframe has \" + str(df.shape[1]) + \" columns.\\n\"      \n",
    "            \"There are \" + str(mis_val_table_ren_columns.shape[0]) +\n",
    "              \" columns that have missing values.\")\n",
    "        \n",
    "        # Return the dataframe with missing information\n",
    "        return mis_val_table_ren_columns"
   ]
  },
  {
   "cell_type": "code",
   "execution_count": 8,
   "id": "bf245bf3-96c8-40db-8ae2-bea8261f82cc",
   "metadata": {},
   "outputs": [
    {
     "name": "stdout",
     "output_type": "stream",
     "text": [
      "Your selected dataframe has 7 columns.\n",
      "There are 6 columns that have missing values.\n"
     ]
    },
    {
     "data": {
      "text/html": [
       "<div>\n",
       "<style scoped>\n",
       "    .dataframe tbody tr th:only-of-type {\n",
       "        vertical-align: middle;\n",
       "    }\n",
       "\n",
       "    .dataframe tbody tr th {\n",
       "        vertical-align: top;\n",
       "    }\n",
       "\n",
       "    .dataframe thead th {\n",
       "        text-align: right;\n",
       "    }\n",
       "</style>\n",
       "<table border=\"1\" class=\"dataframe\">\n",
       "  <thead>\n",
       "    <tr style=\"text-align: right;\">\n",
       "      <th></th>\n",
       "      <th>Missing Values</th>\n",
       "      <th>% of Total Values</th>\n",
       "    </tr>\n",
       "  </thead>\n",
       "  <tbody>\n",
       "    <tr>\n",
       "      <th>yearbuilt</th>\n",
       "      <td>9337</td>\n",
       "      <td>0.4</td>\n",
       "    </tr>\n",
       "    <tr>\n",
       "      <th>calculatedfinishedsquarefeet</th>\n",
       "      <td>8484</td>\n",
       "      <td>0.4</td>\n",
       "    </tr>\n",
       "    <tr>\n",
       "      <th>taxamount</th>\n",
       "      <td>4442</td>\n",
       "      <td>0.2</td>\n",
       "    </tr>\n",
       "    <tr>\n",
       "      <th>taxvaluedollarcnt</th>\n",
       "      <td>493</td>\n",
       "      <td>0.0</td>\n",
       "    </tr>\n",
       "    <tr>\n",
       "      <th>bedroomcnt</th>\n",
       "      <td>11</td>\n",
       "      <td>0.0</td>\n",
       "    </tr>\n",
       "    <tr>\n",
       "      <th>bathroomcnt</th>\n",
       "      <td>11</td>\n",
       "      <td>0.0</td>\n",
       "    </tr>\n",
       "  </tbody>\n",
       "</table>\n",
       "</div>"
      ],
      "text/plain": [
       "                              Missing Values  % of Total Values\n",
       "yearbuilt                               9337                0.4\n",
       "calculatedfinishedsquarefeet            8484                0.4\n",
       "taxamount                               4442                0.2\n",
       "taxvaluedollarcnt                        493                0.0\n",
       "bedroomcnt                                11                0.0\n",
       "bathroomcnt                               11                0.0"
      ]
     },
     "execution_count": 8,
     "metadata": {},
     "output_type": "execute_result"
    }
   ],
   "source": [
    "missing_values_table(df)"
   ]
  },
  {
   "cell_type": "code",
   "execution_count": 13,
   "id": "73040dc6-7fa8-44ec-b2d6-eceda5386226",
   "metadata": {},
   "outputs": [
    {
     "data": {
      "text/plain": [
       "3.0     964298\n",
       "4.0     634289\n",
       "2.0     335473\n",
       "5.0     150866\n",
       "6.0      25166\n",
       "1.0      23166\n",
       "0.0      13187\n",
       "7.0       4807\n",
       "8.0       1107\n",
       "9.0        291\n",
       "10.0       121\n",
       "11.0        34\n",
       "13.0        16\n",
       "12.0        12\n",
       "NaN         11\n",
       "14.0         7\n",
       "15.0         6\n",
       "18.0         3\n",
       "16.0         2\n",
       "25.0         1\n",
       "Name: bedroomcnt, dtype: int64"
      ]
     },
     "execution_count": 13,
     "metadata": {},
     "output_type": "execute_result"
    }
   ],
   "source": [
    "# see where the nulls are\n",
    "df.bedroomcnt.value_counts(dropna=False)"
   ]
  },
  {
   "cell_type": "code",
   "execution_count": 19,
   "id": "84cd915b-5a68-4926-a864-ecc9a5e3ca75",
   "metadata": {},
   "outputs": [],
   "source": [
    "# Create list of columns\n",
    "cols = list(df.columns)"
   ]
  },
  {
   "cell_type": "code",
   "execution_count": 20,
   "id": "0cdf6541-f14d-46f3-84d2-43b9472d2000",
   "metadata": {},
   "outputs": [
    {
     "data": {
      "text/plain": [
       "['bedroomcnt',\n",
       " 'bathroomcnt',\n",
       " 'calculatedfinishedsquarefeet',\n",
       " 'taxvaluedollarcnt',\n",
       " 'yearbuilt',\n",
       " 'taxamount',\n",
       " 'fips']"
      ]
     },
     "execution_count": 20,
     "metadata": {},
     "output_type": "execute_result"
    }
   ],
   "source": [
    "cols"
   ]
  },
  {
   "cell_type": "code",
   "execution_count": 23,
   "id": "b718b055-5800-4c47-a558-23317416e08a",
   "metadata": {},
   "outputs": [
    {
     "name": "stdout",
     "output_type": "stream",
     "text": [
      "------bedroomcnt-------\n",
      "3.0     964298\n",
      "4.0     634289\n",
      "2.0     335473\n",
      "5.0     150866\n",
      "6.0      25166\n",
      "1.0      23166\n",
      "0.0      13187\n",
      "7.0       4807\n",
      "8.0       1107\n",
      "9.0        291\n",
      "10.0       121\n",
      "11.0        34\n",
      "13.0        16\n",
      "12.0        12\n",
      "NaN         11\n",
      "14.0         7\n",
      "15.0         6\n",
      "18.0         3\n",
      "16.0         2\n",
      "25.0         1\n",
      "Name: bedroomcnt, dtype: int64\n",
      "------bathroomcnt-------\n",
      "2.00     943589\n",
      "3.00     422841\n",
      "1.00     414324\n",
      "2.50     142981\n",
      "4.00      82155\n",
      "1.50      31211\n",
      "3.50      28518\n",
      "5.00      28362\n",
      "4.50      19506\n",
      "0.00      13027\n",
      "6.00      10747\n",
      "5.50       6217\n",
      "7.00       4394\n",
      "8.00       1692\n",
      "6.50       1333\n",
      "9.00        713\n",
      "7.50        384\n",
      "10.00       325\n",
      "11.00       146\n",
      "8.50        110\n",
      "12.00        73\n",
      "9.50         50\n",
      "13.00        39\n",
      "14.00        25\n",
      "15.00        17\n",
      "0.50         16\n",
      "10.50        14\n",
      "16.00        12\n",
      "NaN          11\n",
      "18.00         8\n",
      "20.00         6\n",
      "17.00         4\n",
      "1.75          3\n",
      "12.50         3\n",
      "11.50         3\n",
      "14.50         1\n",
      "32.00         1\n",
      "19.50         1\n",
      "19.00         1\n",
      "Name: bathroomcnt, dtype: int64\n",
      "------calculatedfinishedsquarefeet-------\n",
      "NaN        8484\n",
      "1200.0     5195\n",
      "1080.0     4389\n",
      "1120.0     4362\n",
      "1400.0     3833\n",
      "           ... \n",
      "13017.0       1\n",
      "463.0         1\n",
      "10923.0       1\n",
      "11937.0       1\n",
      "7633.0        1\n",
      "Name: calculatedfinishedsquarefeet, Length: 10581, dtype: int64\n",
      "------taxvaluedollarcnt-------\n",
      "450000.0     821\n",
      "500000.0     779\n",
      "400000.0     729\n",
      "430000.0     690\n",
      "440000.0     685\n",
      "            ... \n",
      "1621726.0      1\n",
      "1135840.0      1\n",
      "364517.0       1\n",
      "169528.0       1\n",
      "1436013.0      1\n",
      "Name: taxvaluedollarcnt, Length: 592270, dtype: int64\n",
      "------yearbuilt-------\n",
      "1955.0    84405\n",
      "1950.0    71693\n",
      "1954.0    69163\n",
      "1953.0    62342\n",
      "1956.0    61942\n",
      "          ...  \n",
      "1862.0        1\n",
      "1874.0        1\n",
      "1840.0        1\n",
      "1807.0        1\n",
      "1833.0        1\n",
      "Name: yearbuilt, Length: 154, dtype: int64\n",
      "------taxamount-------\n",
      "NaN         4442\n",
      "345.72       172\n",
      "344.18        77\n",
      "343.52        75\n",
      "285.30        67\n",
      "            ... \n",
      "7708.96        1\n",
      "12676.21       1\n",
      "744.83         1\n",
      "12324.12       1\n",
      "19517.64       1\n",
      "Name: taxamount, Length: 918839, dtype: int64\n",
      "------fips-------\n",
      "6037.0    1431811\n",
      "6059.0     555077\n",
      "6111.0     165975\n",
      "Name: fips, dtype: int64\n"
     ]
    }
   ],
   "source": [
    "for col in cols:\n",
    "    print(f'------{col}-------')\n",
    "    print(df[col].value_counts(dropna=False))"
   ]
  },
  {
   "cell_type": "markdown",
   "id": "2613764b-9fe6-4acf-8f34-e23b1b8d948a",
   "metadata": {},
   "source": [
    "#### Takeaways\n",
    "['bedroomcnt',\n",
    " 'bathroomcnt',\n",
    " 'fips'] \n",
    " \n",
    " - These columns are helpful for value counts\n",
    " \n",
    " [ 'calculatedfinishedsquarefeet',\n",
    " 'taxvaluedollarcnt',\n",
    " 'yearbuilt',\n",
    " 'taxamount']\n",
    " \n",
    " - these columns are not helpful with value counts\n",
    " \n",
    " 'yearbuilt' is kind of in the middle\n",
    " \n",
    " - do an nunique to see how many unique values are in each one\n"
   ]
  },
  {
   "cell_type": "code",
   "execution_count": 24,
   "id": "21e089e5-88e4-4bdd-ad45-b807473af964",
   "metadata": {},
   "outputs": [],
   "source": [
    "cols2 =  [ 'calculatedfinishedsquarefeet',\n",
    " 'taxvaluedollarcnt',\n",
    " 'yearbuilt',\n",
    " 'taxamount']"
   ]
  },
  {
   "cell_type": "code",
   "execution_count": 29,
   "id": "4b4bd369-ba4f-4bd4-8440-3cb4580cfce5",
   "metadata": {},
   "outputs": [
    {
     "name": "stdout",
     "output_type": "stream",
     "text": [
      "---------------\n",
      "There are 19 unique values in the bedroomcnt column\n",
      "---------------\n",
      "There are 38 unique values in the bathroomcnt column\n",
      "---------------\n",
      "There are 10580 unique values in the calculatedfinishedsquarefeet column\n",
      "---------------\n",
      "There are 592269 unique values in the taxvaluedollarcnt column\n",
      "---------------\n",
      "There are 153 unique values in the yearbuilt column\n",
      "---------------\n",
      "There are 918838 unique values in the taxamount column\n",
      "---------------\n",
      "There are 3 unique values in the fips column\n"
     ]
    }
   ],
   "source": [
    "# print unique values in columns\n",
    "for col in cols:\n",
    "    print(f'---------------')\n",
    "    print(f'There are {df[col].nunique()} unique values in the {col} column')"
   ]
  },
  {
   "cell_type": "markdown",
   "id": "9b6238a6-4a22-4d24-a353-3ea631a31d4e",
   "metadata": {},
   "source": [
    "### Let's deal with bedroomcnt and bathroom cnt first (11 in each)\n",
    "- check and see if the bedroom count and bathroom count nulls are part of the same rows\n",
    "- are those 11 NaN values in each one part of the same row"
   ]
  },
  {
   "cell_type": "code",
   "execution_count": 37,
   "id": "bbde11b2-9f08-4492-ae0e-b0318d63ab8e",
   "metadata": {},
   "outputs": [
    {
     "data": {
      "text/html": [
       "<div>\n",
       "<style scoped>\n",
       "    .dataframe tbody tr th:only-of-type {\n",
       "        vertical-align: middle;\n",
       "    }\n",
       "\n",
       "    .dataframe tbody tr th {\n",
       "        vertical-align: top;\n",
       "    }\n",
       "\n",
       "    .dataframe thead th {\n",
       "        text-align: right;\n",
       "    }\n",
       "</style>\n",
       "<table border=\"1\" class=\"dataframe\">\n",
       "  <thead>\n",
       "    <tr style=\"text-align: right;\">\n",
       "      <th></th>\n",
       "      <th>bedroomcnt</th>\n",
       "      <th>bathroomcnt</th>\n",
       "      <th>calculatedfinishedsquarefeet</th>\n",
       "      <th>taxvaluedollarcnt</th>\n",
       "      <th>yearbuilt</th>\n",
       "      <th>taxamount</th>\n",
       "      <th>fips</th>\n",
       "    </tr>\n",
       "  </thead>\n",
       "  <tbody>\n",
       "    <tr>\n",
       "      <th>107763</th>\n",
       "      <td>NaN</td>\n",
       "      <td>NaN</td>\n",
       "      <td>NaN</td>\n",
       "      <td>67366.0</td>\n",
       "      <td>1926.0</td>\n",
       "      <td>780.54</td>\n",
       "      <td>6059.0</td>\n",
       "    </tr>\n",
       "    <tr>\n",
       "      <th>118612</th>\n",
       "      <td>NaN</td>\n",
       "      <td>NaN</td>\n",
       "      <td>NaN</td>\n",
       "      <td>43992.0</td>\n",
       "      <td>1946.0</td>\n",
       "      <td>541.64</td>\n",
       "      <td>6059.0</td>\n",
       "    </tr>\n",
       "    <tr>\n",
       "      <th>193993</th>\n",
       "      <td>NaN</td>\n",
       "      <td>NaN</td>\n",
       "      <td>1348.0</td>\n",
       "      <td>840698.0</td>\n",
       "      <td>1952.0</td>\n",
       "      <td>NaN</td>\n",
       "      <td>6059.0</td>\n",
       "    </tr>\n",
       "    <tr>\n",
       "      <th>1141339</th>\n",
       "      <td>NaN</td>\n",
       "      <td>NaN</td>\n",
       "      <td>200.0</td>\n",
       "      <td>188972.0</td>\n",
       "      <td>NaN</td>\n",
       "      <td>NaN</td>\n",
       "      <td>6037.0</td>\n",
       "    </tr>\n",
       "    <tr>\n",
       "      <th>1324608</th>\n",
       "      <td>NaN</td>\n",
       "      <td>NaN</td>\n",
       "      <td>990.0</td>\n",
       "      <td>435000.0</td>\n",
       "      <td>1906.0</td>\n",
       "      <td>NaN</td>\n",
       "      <td>6037.0</td>\n",
       "    </tr>\n",
       "    <tr>\n",
       "      <th>1442975</th>\n",
       "      <td>NaN</td>\n",
       "      <td>NaN</td>\n",
       "      <td>NaN</td>\n",
       "      <td>273196.0</td>\n",
       "      <td>NaN</td>\n",
       "      <td>NaN</td>\n",
       "      <td>6037.0</td>\n",
       "    </tr>\n",
       "    <tr>\n",
       "      <th>1647346</th>\n",
       "      <td>NaN</td>\n",
       "      <td>NaN</td>\n",
       "      <td>400.0</td>\n",
       "      <td>28347.0</td>\n",
       "      <td>1954.0</td>\n",
       "      <td>NaN</td>\n",
       "      <td>6037.0</td>\n",
       "    </tr>\n",
       "    <tr>\n",
       "      <th>1701026</th>\n",
       "      <td>NaN</td>\n",
       "      <td>NaN</td>\n",
       "      <td>NaN</td>\n",
       "      <td>407930.0</td>\n",
       "      <td>1926.0</td>\n",
       "      <td>NaN</td>\n",
       "      <td>6037.0</td>\n",
       "    </tr>\n",
       "    <tr>\n",
       "      <th>1722707</th>\n",
       "      <td>NaN</td>\n",
       "      <td>NaN</td>\n",
       "      <td>NaN</td>\n",
       "      <td>477161.0</td>\n",
       "      <td>NaN</td>\n",
       "      <td>NaN</td>\n",
       "      <td>6037.0</td>\n",
       "    </tr>\n",
       "    <tr>\n",
       "      <th>1776422</th>\n",
       "      <td>NaN</td>\n",
       "      <td>NaN</td>\n",
       "      <td>NaN</td>\n",
       "      <td>38855.0</td>\n",
       "      <td>NaN</td>\n",
       "      <td>NaN</td>\n",
       "      <td>6037.0</td>\n",
       "    </tr>\n",
       "    <tr>\n",
       "      <th>1797985</th>\n",
       "      <td>NaN</td>\n",
       "      <td>NaN</td>\n",
       "      <td>NaN</td>\n",
       "      <td>1017957.0</td>\n",
       "      <td>1990.0</td>\n",
       "      <td>NaN</td>\n",
       "      <td>6037.0</td>\n",
       "    </tr>\n",
       "  </tbody>\n",
       "</table>\n",
       "</div>"
      ],
      "text/plain": [
       "         bedroomcnt  bathroomcnt  calculatedfinishedsquarefeet  \\\n",
       "107763          NaN          NaN                           NaN   \n",
       "118612          NaN          NaN                           NaN   \n",
       "193993          NaN          NaN                        1348.0   \n",
       "1141339         NaN          NaN                         200.0   \n",
       "1324608         NaN          NaN                         990.0   \n",
       "1442975         NaN          NaN                           NaN   \n",
       "1647346         NaN          NaN                         400.0   \n",
       "1701026         NaN          NaN                           NaN   \n",
       "1722707         NaN          NaN                           NaN   \n",
       "1776422         NaN          NaN                           NaN   \n",
       "1797985         NaN          NaN                           NaN   \n",
       "\n",
       "         taxvaluedollarcnt  yearbuilt  taxamount    fips  \n",
       "107763             67366.0     1926.0     780.54  6059.0  \n",
       "118612             43992.0     1946.0     541.64  6059.0  \n",
       "193993            840698.0     1952.0        NaN  6059.0  \n",
       "1141339           188972.0        NaN        NaN  6037.0  \n",
       "1324608           435000.0     1906.0        NaN  6037.0  \n",
       "1442975           273196.0        NaN        NaN  6037.0  \n",
       "1647346            28347.0     1954.0        NaN  6037.0  \n",
       "1701026           407930.0     1926.0        NaN  6037.0  \n",
       "1722707           477161.0        NaN        NaN  6037.0  \n",
       "1776422            38855.0        NaN        NaN  6037.0  \n",
       "1797985          1017957.0     1990.0        NaN  6037.0  "
      ]
     },
     "execution_count": 37,
     "metadata": {},
     "output_type": "execute_result"
    }
   ],
   "source": [
    "bedroom_count_nans = df[df.bedroomcnt.isnull() == True]\n",
    "bedroom_count_nans"
   ]
  },
  {
   "cell_type": "code",
   "execution_count": 39,
   "id": "32640f6c-3ed7-486b-91d0-4ae7990cb2f0",
   "metadata": {},
   "outputs": [
    {
     "data": {
      "text/plain": [
       "(11, 7)"
      ]
     },
     "execution_count": 39,
     "metadata": {},
     "output_type": "execute_result"
    }
   ],
   "source": [
    "bedroom_count_nans.shape"
   ]
  },
  {
   "cell_type": "code",
   "execution_count": 41,
   "id": "905ed0fe-1190-41aa-a31d-14758df071da",
   "metadata": {},
   "outputs": [
    {
     "data": {
      "text/html": [
       "<div>\n",
       "<style scoped>\n",
       "    .dataframe tbody tr th:only-of-type {\n",
       "        vertical-align: middle;\n",
       "    }\n",
       "\n",
       "    .dataframe tbody tr th {\n",
       "        vertical-align: top;\n",
       "    }\n",
       "\n",
       "    .dataframe thead th {\n",
       "        text-align: right;\n",
       "    }\n",
       "</style>\n",
       "<table border=\"1\" class=\"dataframe\">\n",
       "  <thead>\n",
       "    <tr style=\"text-align: right;\">\n",
       "      <th></th>\n",
       "      <th>bedroomcnt</th>\n",
       "      <th>bathroomcnt</th>\n",
       "      <th>calculatedfinishedsquarefeet</th>\n",
       "      <th>taxvaluedollarcnt</th>\n",
       "      <th>yearbuilt</th>\n",
       "      <th>taxamount</th>\n",
       "      <th>fips</th>\n",
       "    </tr>\n",
       "  </thead>\n",
       "  <tbody>\n",
       "    <tr>\n",
       "      <th>107763</th>\n",
       "      <td>NaN</td>\n",
       "      <td>NaN</td>\n",
       "      <td>NaN</td>\n",
       "      <td>67366.0</td>\n",
       "      <td>1926.0</td>\n",
       "      <td>780.54</td>\n",
       "      <td>6059.0</td>\n",
       "    </tr>\n",
       "    <tr>\n",
       "      <th>118612</th>\n",
       "      <td>NaN</td>\n",
       "      <td>NaN</td>\n",
       "      <td>NaN</td>\n",
       "      <td>43992.0</td>\n",
       "      <td>1946.0</td>\n",
       "      <td>541.64</td>\n",
       "      <td>6059.0</td>\n",
       "    </tr>\n",
       "    <tr>\n",
       "      <th>193993</th>\n",
       "      <td>NaN</td>\n",
       "      <td>NaN</td>\n",
       "      <td>1348.0</td>\n",
       "      <td>840698.0</td>\n",
       "      <td>1952.0</td>\n",
       "      <td>NaN</td>\n",
       "      <td>6059.0</td>\n",
       "    </tr>\n",
       "    <tr>\n",
       "      <th>1141339</th>\n",
       "      <td>NaN</td>\n",
       "      <td>NaN</td>\n",
       "      <td>200.0</td>\n",
       "      <td>188972.0</td>\n",
       "      <td>NaN</td>\n",
       "      <td>NaN</td>\n",
       "      <td>6037.0</td>\n",
       "    </tr>\n",
       "    <tr>\n",
       "      <th>1324608</th>\n",
       "      <td>NaN</td>\n",
       "      <td>NaN</td>\n",
       "      <td>990.0</td>\n",
       "      <td>435000.0</td>\n",
       "      <td>1906.0</td>\n",
       "      <td>NaN</td>\n",
       "      <td>6037.0</td>\n",
       "    </tr>\n",
       "    <tr>\n",
       "      <th>1442975</th>\n",
       "      <td>NaN</td>\n",
       "      <td>NaN</td>\n",
       "      <td>NaN</td>\n",
       "      <td>273196.0</td>\n",
       "      <td>NaN</td>\n",
       "      <td>NaN</td>\n",
       "      <td>6037.0</td>\n",
       "    </tr>\n",
       "    <tr>\n",
       "      <th>1647346</th>\n",
       "      <td>NaN</td>\n",
       "      <td>NaN</td>\n",
       "      <td>400.0</td>\n",
       "      <td>28347.0</td>\n",
       "      <td>1954.0</td>\n",
       "      <td>NaN</td>\n",
       "      <td>6037.0</td>\n",
       "    </tr>\n",
       "    <tr>\n",
       "      <th>1701026</th>\n",
       "      <td>NaN</td>\n",
       "      <td>NaN</td>\n",
       "      <td>NaN</td>\n",
       "      <td>407930.0</td>\n",
       "      <td>1926.0</td>\n",
       "      <td>NaN</td>\n",
       "      <td>6037.0</td>\n",
       "    </tr>\n",
       "    <tr>\n",
       "      <th>1722707</th>\n",
       "      <td>NaN</td>\n",
       "      <td>NaN</td>\n",
       "      <td>NaN</td>\n",
       "      <td>477161.0</td>\n",
       "      <td>NaN</td>\n",
       "      <td>NaN</td>\n",
       "      <td>6037.0</td>\n",
       "    </tr>\n",
       "    <tr>\n",
       "      <th>1776422</th>\n",
       "      <td>NaN</td>\n",
       "      <td>NaN</td>\n",
       "      <td>NaN</td>\n",
       "      <td>38855.0</td>\n",
       "      <td>NaN</td>\n",
       "      <td>NaN</td>\n",
       "      <td>6037.0</td>\n",
       "    </tr>\n",
       "    <tr>\n",
       "      <th>1797985</th>\n",
       "      <td>NaN</td>\n",
       "      <td>NaN</td>\n",
       "      <td>NaN</td>\n",
       "      <td>1017957.0</td>\n",
       "      <td>1990.0</td>\n",
       "      <td>NaN</td>\n",
       "      <td>6037.0</td>\n",
       "    </tr>\n",
       "  </tbody>\n",
       "</table>\n",
       "</div>"
      ],
      "text/plain": [
       "         bedroomcnt  bathroomcnt  calculatedfinishedsquarefeet  \\\n",
       "107763          NaN          NaN                           NaN   \n",
       "118612          NaN          NaN                           NaN   \n",
       "193993          NaN          NaN                        1348.0   \n",
       "1141339         NaN          NaN                         200.0   \n",
       "1324608         NaN          NaN                         990.0   \n",
       "1442975         NaN          NaN                           NaN   \n",
       "1647346         NaN          NaN                         400.0   \n",
       "1701026         NaN          NaN                           NaN   \n",
       "1722707         NaN          NaN                           NaN   \n",
       "1776422         NaN          NaN                           NaN   \n",
       "1797985         NaN          NaN                           NaN   \n",
       "\n",
       "         taxvaluedollarcnt  yearbuilt  taxamount    fips  \n",
       "107763             67366.0     1926.0     780.54  6059.0  \n",
       "118612             43992.0     1946.0     541.64  6059.0  \n",
       "193993            840698.0     1952.0        NaN  6059.0  \n",
       "1141339           188972.0        NaN        NaN  6037.0  \n",
       "1324608           435000.0     1906.0        NaN  6037.0  \n",
       "1442975           273196.0        NaN        NaN  6037.0  \n",
       "1647346            28347.0     1954.0        NaN  6037.0  \n",
       "1701026           407930.0     1926.0        NaN  6037.0  \n",
       "1722707           477161.0        NaN        NaN  6037.0  \n",
       "1776422            38855.0        NaN        NaN  6037.0  \n",
       "1797985          1017957.0     1990.0        NaN  6037.0  "
      ]
     },
     "execution_count": 41,
     "metadata": {},
     "output_type": "execute_result"
    }
   ],
   "source": [
    "df[(df.bathroomcnt.isnull() == True) & (df.bedroomcnt.isnull() == True)]"
   ]
  },
  {
   "cell_type": "code",
   "execution_count": 40,
   "id": "96b4cdf2-4f13-4b23-ab8b-cce9f10fc9bd",
   "metadata": {},
   "outputs": [
    {
     "data": {
      "text/plain": [
       "(11, 7)"
      ]
     },
     "execution_count": 40,
     "metadata": {},
     "output_type": "execute_result"
    }
   ],
   "source": [
    "df[(df.bathroomcnt.isnull() == True) & (df.bedroomcnt.isnull() == True)].shape"
   ]
  },
  {
   "cell_type": "markdown",
   "id": "7c9ef01a-d76a-4115-b057-d4fe61ce6b8a",
   "metadata": {},
   "source": [
    "### Takeaways\n",
    "- Bedroom and bathroom count both have Nans in the same columns\n",
    "- decision: Let's drop those 11 columns\n",
    "- not very much data in the grand scheme of things\n",
    "- 2152863 rows to start with\n",
    "- there should be 2152852 after subtracting 11 rows"
   ]
  },
  {
   "cell_type": "code",
   "execution_count": 43,
   "id": "6370d2cc-03e4-4368-aa7c-f4d5bee49dbe",
   "metadata": {},
   "outputs": [
    {
     "data": {
      "text/plain": [
       "(2152852, 7)"
      ]
     },
     "execution_count": 43,
     "metadata": {},
     "output_type": "execute_result"
    }
   ],
   "source": [
    "# include this code in your wrangle function\n",
    "\n",
    "df = df.drop(df[(df.bathroomcnt.isnull() == True) & (df.bedroomcnt.isnull() == True)].index)\n",
    "\n",
    "# this one is a check don't include this in function\n",
    "df.shape"
   ]
  },
  {
   "cell_type": "code",
   "execution_count": 44,
   "id": "6dd98b92-2c55-4560-b7be-f6a7233319d5",
   "metadata": {},
   "outputs": [
    {
     "name": "stdout",
     "output_type": "stream",
     "text": [
      "Your selected dataframe has 7 columns.\n",
      "There are 4 columns that have missing values.\n"
     ]
    },
    {
     "data": {
      "text/html": [
       "<div>\n",
       "<style scoped>\n",
       "    .dataframe tbody tr th:only-of-type {\n",
       "        vertical-align: middle;\n",
       "    }\n",
       "\n",
       "    .dataframe tbody tr th {\n",
       "        vertical-align: top;\n",
       "    }\n",
       "\n",
       "    .dataframe thead th {\n",
       "        text-align: right;\n",
       "    }\n",
       "</style>\n",
       "<table border=\"1\" class=\"dataframe\">\n",
       "  <thead>\n",
       "    <tr style=\"text-align: right;\">\n",
       "      <th></th>\n",
       "      <th>Missing Values</th>\n",
       "      <th>% of Total Values</th>\n",
       "    </tr>\n",
       "  </thead>\n",
       "  <tbody>\n",
       "    <tr>\n",
       "      <th>yearbuilt</th>\n",
       "      <td>9333</td>\n",
       "      <td>0.4</td>\n",
       "    </tr>\n",
       "    <tr>\n",
       "      <th>calculatedfinishedsquarefeet</th>\n",
       "      <td>8477</td>\n",
       "      <td>0.4</td>\n",
       "    </tr>\n",
       "    <tr>\n",
       "      <th>taxamount</th>\n",
       "      <td>4433</td>\n",
       "      <td>0.2</td>\n",
       "    </tr>\n",
       "    <tr>\n",
       "      <th>taxvaluedollarcnt</th>\n",
       "      <td>493</td>\n",
       "      <td>0.0</td>\n",
       "    </tr>\n",
       "  </tbody>\n",
       "</table>\n",
       "</div>"
      ],
      "text/plain": [
       "                              Missing Values  % of Total Values\n",
       "yearbuilt                               9333                0.4\n",
       "calculatedfinishedsquarefeet            8477                0.4\n",
       "taxamount                               4433                0.2\n",
       "taxvaluedollarcnt                        493                0.0"
      ]
     },
     "execution_count": 44,
     "metadata": {},
     "output_type": "execute_result"
    }
   ],
   "source": [
    "missing_values_table(df)"
   ]
  },
  {
   "cell_type": "code",
   "execution_count": null,
   "id": "d0cf1e60-f438-448f-b5e0-508c879736c5",
   "metadata": {},
   "outputs": [],
   "source": []
  }
 ],
 "metadata": {
  "kernelspec": {
   "display_name": "Python 3",
   "language": "python",
   "name": "python3"
  },
  "language_info": {
   "codemirror_mode": {
    "name": "ipython",
    "version": 3
   },
   "file_extension": ".py",
   "mimetype": "text/x-python",
   "name": "python",
   "nbconvert_exporter": "python",
   "pygments_lexer": "ipython3",
   "version": "3.8.5"
  }
 },
 "nbformat": 4,
 "nbformat_minor": 5
}
